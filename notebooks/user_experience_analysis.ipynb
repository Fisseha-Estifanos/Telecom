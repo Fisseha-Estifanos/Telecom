{
 "cells": [
  {
   "cell_type": "code",
   "execution_count": 46,
   "metadata": {},
   "outputs": [],
   "source": [
    "# imports\n",
    "import pandas as pd\n",
    "import numpy as np\n",
    "import sys\n",
    "import os\n",
    "import matplotlib.pyplot as plt\n",
    "import seaborn as sns\n",
    "import plotly.express as px\n",
    "import plotly.graph_objects as go\n",
    "from plotly.subplots import make_subplots"
   ]
  },
  {
   "cell_type": "code",
   "execution_count": 2,
   "metadata": {},
   "outputs": [],
   "source": [
    "# add paths and import scripts\n",
    "sys.path.append('.')\n",
    "sys.path.append('..')\n",
    "sys.path.insert(1,'../scripts')\n",
    "from dataCleaner import *\n",
    "from dataVisualizer import *"
   ]
  },
  {
   "cell_type": "code",
   "execution_count": 3,
   "metadata": {},
   "outputs": [
    {
     "data": {
      "text/html": [
       "<div>\n",
       "<style scoped>\n",
       "    .dataframe tbody tr th:only-of-type {\n",
       "        vertical-align: middle;\n",
       "    }\n",
       "\n",
       "    .dataframe tbody tr th {\n",
       "        vertical-align: top;\n",
       "    }\n",
       "\n",
       "    .dataframe thead th {\n",
       "        text-align: right;\n",
       "    }\n",
       "</style>\n",
       "<table border=\"1\" class=\"dataframe\">\n",
       "  <thead>\n",
       "    <tr style=\"text-align: right;\">\n",
       "      <th></th>\n",
       "      <th>Bearer Id</th>\n",
       "      <th>Start</th>\n",
       "      <th>Start ms</th>\n",
       "      <th>End</th>\n",
       "      <th>End ms</th>\n",
       "      <th>Dur. (ms)</th>\n",
       "      <th>IMSI</th>\n",
       "      <th>MSISDN/Number</th>\n",
       "      <th>IMEI</th>\n",
       "      <th>Last Location Name</th>\n",
       "      <th>...</th>\n",
       "      <th>total_youtube</th>\n",
       "      <th>total_netflix</th>\n",
       "      <th>total_social</th>\n",
       "      <th>total_other</th>\n",
       "      <th>fixed_dur</th>\n",
       "      <th>fixed_activity_dur_dl</th>\n",
       "      <th>fixed_activity_dur_ul</th>\n",
       "      <th>fixed_total_ul</th>\n",
       "      <th>total_data</th>\n",
       "      <th>decile</th>\n",
       "    </tr>\n",
       "  </thead>\n",
       "  <tbody>\n",
       "    <tr>\n",
       "      <th>0</th>\n",
       "      <td>1.311450e+19</td>\n",
       "      <td>2019-04-04 12:01:00</td>\n",
       "      <td>770.0</td>\n",
       "      <td>2019-04-25 14:35:00</td>\n",
       "      <td>662.0</td>\n",
       "      <td>86399.0</td>\n",
       "      <td>2.082010e+14</td>\n",
       "      <td>3.366496e+10</td>\n",
       "      <td>3.552120e+13</td>\n",
       "      <td>9.16457E+15</td>\n",
       "      <td>...</td>\n",
       "      <td>18355943.0</td>\n",
       "      <td>17855187.0</td>\n",
       "      <td>1570185.0</td>\n",
       "      <td>180558843.0</td>\n",
       "      <td>86399.0</td>\n",
       "      <td>37624.0</td>\n",
       "      <td>38787.0</td>\n",
       "      <td>36749741.0</td>\n",
       "      <td>345629377.0</td>\n",
       "      <td>(72290.0, 86399.0]</td>\n",
       "    </tr>\n",
       "    <tr>\n",
       "      <th>1</th>\n",
       "      <td>1.311450e+19</td>\n",
       "      <td>2019-04-09 13:04:00</td>\n",
       "      <td>235.0</td>\n",
       "      <td>2019-04-25 08:15:00</td>\n",
       "      <td>606.0</td>\n",
       "      <td>86399.0</td>\n",
       "      <td>2.082020e+14</td>\n",
       "      <td>3.368185e+10</td>\n",
       "      <td>3.579400e+13</td>\n",
       "      <td>L77566A</td>\n",
       "      <td>...</td>\n",
       "      <td>39359124.0</td>\n",
       "      <td>35565545.0</td>\n",
       "      <td>1933278.0</td>\n",
       "      <td>541959383.0</td>\n",
       "      <td>86399.0</td>\n",
       "      <td>168.0</td>\n",
       "      <td>3560.0</td>\n",
       "      <td>53800391.0</td>\n",
       "      <td>707185356.0</td>\n",
       "      <td>(72290.0, 86399.0]</td>\n",
       "    </tr>\n",
       "    <tr>\n",
       "      <th>2</th>\n",
       "      <td>1.311450e+19</td>\n",
       "      <td>2019-04-09 17:42:00</td>\n",
       "      <td>1.0</td>\n",
       "      <td>2019-04-25 11:58:00</td>\n",
       "      <td>652.0</td>\n",
       "      <td>86399.0</td>\n",
       "      <td>2.082000e+14</td>\n",
       "      <td>3.376063e+10</td>\n",
       "      <td>3.528150e+13</td>\n",
       "      <td>D42335A</td>\n",
       "      <td>...</td>\n",
       "      <td>34425237.0</td>\n",
       "      <td>23751202.0</td>\n",
       "      <td>1726277.0</td>\n",
       "      <td>414908351.0</td>\n",
       "      <td>86399.0</td>\n",
       "      <td>0.0</td>\n",
       "      <td>0.0</td>\n",
       "      <td>27883638.0</td>\n",
       "      <td>307690973.0</td>\n",
       "      <td>(72290.0, 86399.0]</td>\n",
       "    </tr>\n",
       "    <tr>\n",
       "      <th>3</th>\n",
       "      <td>1.311450e+19</td>\n",
       "      <td>2019-04-10 00:31:00</td>\n",
       "      <td>486.0</td>\n",
       "      <td>2019-04-25 07:36:00</td>\n",
       "      <td>171.0</td>\n",
       "      <td>86399.0</td>\n",
       "      <td>2.082010e+14</td>\n",
       "      <td>3.375034e+10</td>\n",
       "      <td>3.535660e+13</td>\n",
       "      <td>T21824A</td>\n",
       "      <td>...</td>\n",
       "      <td>36534765.0</td>\n",
       "      <td>15092588.0</td>\n",
       "      <td>657493.0</td>\n",
       "      <td>761837216.0</td>\n",
       "      <td>86399.0</td>\n",
       "      <td>3330.0</td>\n",
       "      <td>37882.0</td>\n",
       "      <td>43324218.0</td>\n",
       "      <td>889352748.0</td>\n",
       "      <td>(72290.0, 86399.0]</td>\n",
       "    </tr>\n",
       "    <tr>\n",
       "      <th>4</th>\n",
       "      <td>1.311450e+19</td>\n",
       "      <td>2019-04-12 20:10:00</td>\n",
       "      <td>565.0</td>\n",
       "      <td>2019-04-25 10:40:00</td>\n",
       "      <td>954.0</td>\n",
       "      <td>86399.0</td>\n",
       "      <td>2.082010e+14</td>\n",
       "      <td>3.369980e+10</td>\n",
       "      <td>3.540700e+13</td>\n",
       "      <td>D88865A</td>\n",
       "      <td>...</td>\n",
       "      <td>34222253.0</td>\n",
       "      <td>17539799.0</td>\n",
       "      <td>912788.0</td>\n",
       "      <td>564619822.0</td>\n",
       "      <td>86399.0</td>\n",
       "      <td>0.0</td>\n",
       "      <td>0.0</td>\n",
       "      <td>38542814.0</td>\n",
       "      <td>607681403.0</td>\n",
       "      <td>(72290.0, 86399.0]</td>\n",
       "    </tr>\n",
       "    <tr>\n",
       "      <th>...</th>\n",
       "      <td>...</td>\n",
       "      <td>...</td>\n",
       "      <td>...</td>\n",
       "      <td>...</td>\n",
       "      <td>...</td>\n",
       "      <td>...</td>\n",
       "      <td>...</td>\n",
       "      <td>...</td>\n",
       "      <td>...</td>\n",
       "      <td>...</td>\n",
       "      <td>...</td>\n",
       "      <td>...</td>\n",
       "      <td>...</td>\n",
       "      <td>...</td>\n",
       "      <td>...</td>\n",
       "      <td>...</td>\n",
       "      <td>...</td>\n",
       "      <td>...</td>\n",
       "      <td>...</td>\n",
       "      <td>...</td>\n",
       "      <td>...</td>\n",
       "    </tr>\n",
       "    <tr>\n",
       "      <th>149995</th>\n",
       "      <td>1.304240e+19</td>\n",
       "      <td>2019-04-29 07:28:00</td>\n",
       "      <td>615.0</td>\n",
       "      <td>2019-04-30 00:01:00</td>\n",
       "      <td>407.0</td>\n",
       "      <td>59587.0</td>\n",
       "      <td>2.082010e+14</td>\n",
       "      <td>3.366865e+10</td>\n",
       "      <td>3.533250e+13</td>\n",
       "      <td>T85721A</td>\n",
       "      <td>...</td>\n",
       "      <td>24553645.0</td>\n",
       "      <td>29618711.0</td>\n",
       "      <td>993175.0</td>\n",
       "      <td>336273648.0</td>\n",
       "      <td>59587.0</td>\n",
       "      <td>3380381.0</td>\n",
       "      <td>2355730.0</td>\n",
       "      <td>53745392.0</td>\n",
       "      <td>872761860.0</td>\n",
       "      <td>(45959.8, 72290.0]</td>\n",
       "    </tr>\n",
       "    <tr>\n",
       "      <th>149996</th>\n",
       "      <td>7.277830e+18</td>\n",
       "      <td>2019-04-29 07:28:00</td>\n",
       "      <td>451.0</td>\n",
       "      <td>2019-04-30 06:02:00</td>\n",
       "      <td>214.0</td>\n",
       "      <td>81230.0</td>\n",
       "      <td>2.082020e+14</td>\n",
       "      <td>3.365069e+10</td>\n",
       "      <td>3.548310e+13</td>\n",
       "      <td>D20434A</td>\n",
       "      <td>...</td>\n",
       "      <td>27955095.0</td>\n",
       "      <td>37561864.0</td>\n",
       "      <td>3517065.0</td>\n",
       "      <td>16751926.0</td>\n",
       "      <td>81230.0</td>\n",
       "      <td>42376.0</td>\n",
       "      <td>41915.0</td>\n",
       "      <td>57628851.0</td>\n",
       "      <td>631804110.0</td>\n",
       "      <td>(72290.0, 86399.0]</td>\n",
       "    </tr>\n",
       "    <tr>\n",
       "      <th>149997</th>\n",
       "      <td>7.349880e+18</td>\n",
       "      <td>2019-04-29 07:28:00</td>\n",
       "      <td>483.0</td>\n",
       "      <td>2019-04-30 10:41:00</td>\n",
       "      <td>187.0</td>\n",
       "      <td>97970.0</td>\n",
       "      <td>2.082020e+14</td>\n",
       "      <td>3.366345e+10</td>\n",
       "      <td>3.566050e+13</td>\n",
       "      <td>D10223C</td>\n",
       "      <td>...</td>\n",
       "      <td>22165518.0</td>\n",
       "      <td>40643294.0</td>\n",
       "      <td>2352181.0</td>\n",
       "      <td>714638145.0</td>\n",
       "      <td>97970.0</td>\n",
       "      <td>17264.0</td>\n",
       "      <td>16759.0</td>\n",
       "      <td>39135081.0</td>\n",
       "      <td>705783925.0</td>\n",
       "      <td>(86400.0, 101468.0]</td>\n",
       "    </tr>\n",
       "    <tr>\n",
       "      <th>149998</th>\n",
       "      <td>1.311450e+19</td>\n",
       "      <td>2019-04-29 07:28:00</td>\n",
       "      <td>283.0</td>\n",
       "      <td>2019-04-30 10:46:00</td>\n",
       "      <td>810.0</td>\n",
       "      <td>98249.0</td>\n",
       "      <td>2.082020e+14</td>\n",
       "      <td>3.362189e+10</td>\n",
       "      <td>3.572120e+13</td>\n",
       "      <td>T51102A</td>\n",
       "      <td>...</td>\n",
       "      <td>24516413.0</td>\n",
       "      <td>15029702.0</td>\n",
       "      <td>1260239.0</td>\n",
       "      <td>132415585.0</td>\n",
       "      <td>98249.0</td>\n",
       "      <td>25003.0</td>\n",
       "      <td>28640.0</td>\n",
       "      <td>34912224.0</td>\n",
       "      <td>627698629.0</td>\n",
       "      <td>(86400.0, 101468.0]</td>\n",
       "    </tr>\n",
       "    <tr>\n",
       "      <th>149999</th>\n",
       "      <td>1.311450e+19</td>\n",
       "      <td>2019-04-29 07:28:00</td>\n",
       "      <td>696.0</td>\n",
       "      <td>2019-04-30 10:40:00</td>\n",
       "      <td>327.0</td>\n",
       "      <td>97910.0</td>\n",
       "      <td>2.082020e+14</td>\n",
       "      <td>3.361962e+10</td>\n",
       "      <td>8.618620e+13</td>\n",
       "      <td>L88342B</td>\n",
       "      <td>...</td>\n",
       "      <td>17122508.0</td>\n",
       "      <td>16494842.0</td>\n",
       "      <td>823109.0</td>\n",
       "      <td>816120043.0</td>\n",
       "      <td>97910.0</td>\n",
       "      <td>13405.0</td>\n",
       "      <td>34088.0</td>\n",
       "      <td>29626096.0</td>\n",
       "      <td>401522016.0</td>\n",
       "      <td>(86400.0, 101468.0]</td>\n",
       "    </tr>\n",
       "  </tbody>\n",
       "</table>\n",
       "<p>150000 rows × 68 columns</p>\n",
       "</div>"
      ],
      "text/plain": [
       "           Bearer Id                Start  Start ms                  End  \\\n",
       "0       1.311450e+19  2019-04-04 12:01:00     770.0  2019-04-25 14:35:00   \n",
       "1       1.311450e+19  2019-04-09 13:04:00     235.0  2019-04-25 08:15:00   \n",
       "2       1.311450e+19  2019-04-09 17:42:00       1.0  2019-04-25 11:58:00   \n",
       "3       1.311450e+19  2019-04-10 00:31:00     486.0  2019-04-25 07:36:00   \n",
       "4       1.311450e+19  2019-04-12 20:10:00     565.0  2019-04-25 10:40:00   \n",
       "...              ...                  ...       ...                  ...   \n",
       "149995  1.304240e+19  2019-04-29 07:28:00     615.0  2019-04-30 00:01:00   \n",
       "149996  7.277830e+18  2019-04-29 07:28:00     451.0  2019-04-30 06:02:00   \n",
       "149997  7.349880e+18  2019-04-29 07:28:00     483.0  2019-04-30 10:41:00   \n",
       "149998  1.311450e+19  2019-04-29 07:28:00     283.0  2019-04-30 10:46:00   \n",
       "149999  1.311450e+19  2019-04-29 07:28:00     696.0  2019-04-30 10:40:00   \n",
       "\n",
       "        End ms  Dur. (ms)          IMSI  MSISDN/Number          IMEI  \\\n",
       "0        662.0    86399.0  2.082010e+14   3.366496e+10  3.552120e+13   \n",
       "1        606.0    86399.0  2.082020e+14   3.368185e+10  3.579400e+13   \n",
       "2        652.0    86399.0  2.082000e+14   3.376063e+10  3.528150e+13   \n",
       "3        171.0    86399.0  2.082010e+14   3.375034e+10  3.535660e+13   \n",
       "4        954.0    86399.0  2.082010e+14   3.369980e+10  3.540700e+13   \n",
       "...        ...        ...           ...            ...           ...   \n",
       "149995   407.0    59587.0  2.082010e+14   3.366865e+10  3.533250e+13   \n",
       "149996   214.0    81230.0  2.082020e+14   3.365069e+10  3.548310e+13   \n",
       "149997   187.0    97970.0  2.082020e+14   3.366345e+10  3.566050e+13   \n",
       "149998   810.0    98249.0  2.082020e+14   3.362189e+10  3.572120e+13   \n",
       "149999   327.0    97910.0  2.082020e+14   3.361962e+10  8.618620e+13   \n",
       "\n",
       "       Last Location Name  ...  total_youtube  total_netflix  total_social  \\\n",
       "0             9.16457E+15  ...     18355943.0     17855187.0     1570185.0   \n",
       "1                 L77566A  ...     39359124.0     35565545.0     1933278.0   \n",
       "2                 D42335A  ...     34425237.0     23751202.0     1726277.0   \n",
       "3                 T21824A  ...     36534765.0     15092588.0      657493.0   \n",
       "4                 D88865A  ...     34222253.0     17539799.0      912788.0   \n",
       "...                   ...  ...            ...            ...           ...   \n",
       "149995            T85721A  ...     24553645.0     29618711.0      993175.0   \n",
       "149996            D20434A  ...     27955095.0     37561864.0     3517065.0   \n",
       "149997            D10223C  ...     22165518.0     40643294.0     2352181.0   \n",
       "149998            T51102A  ...     24516413.0     15029702.0     1260239.0   \n",
       "149999            L88342B  ...     17122508.0     16494842.0      823109.0   \n",
       "\n",
       "        total_other  fixed_dur  fixed_activity_dur_dl  fixed_activity_dur_ul  \\\n",
       "0       180558843.0    86399.0                37624.0                38787.0   \n",
       "1       541959383.0    86399.0                  168.0                 3560.0   \n",
       "2       414908351.0    86399.0                    0.0                    0.0   \n",
       "3       761837216.0    86399.0                 3330.0                37882.0   \n",
       "4       564619822.0    86399.0                    0.0                    0.0   \n",
       "...             ...        ...                    ...                    ...   \n",
       "149995  336273648.0    59587.0              3380381.0              2355730.0   \n",
       "149996   16751926.0    81230.0                42376.0                41915.0   \n",
       "149997  714638145.0    97970.0                17264.0                16759.0   \n",
       "149998  132415585.0    98249.0                25003.0                28640.0   \n",
       "149999  816120043.0    97910.0                13405.0                34088.0   \n",
       "\n",
       "        fixed_total_ul   total_data               decile  \n",
       "0           36749741.0  345629377.0   (72290.0, 86399.0]  \n",
       "1           53800391.0  707185356.0   (72290.0, 86399.0]  \n",
       "2           27883638.0  307690973.0   (72290.0, 86399.0]  \n",
       "3           43324218.0  889352748.0   (72290.0, 86399.0]  \n",
       "4           38542814.0  607681403.0   (72290.0, 86399.0]  \n",
       "...                ...          ...                  ...  \n",
       "149995      53745392.0  872761860.0   (45959.8, 72290.0]  \n",
       "149996      57628851.0  631804110.0   (72290.0, 86399.0]  \n",
       "149997      39135081.0  705783925.0  (86400.0, 101468.0]  \n",
       "149998      34912224.0  627698629.0  (86400.0, 101468.0]  \n",
       "149999      29626096.0  401522016.0  (86400.0, 101468.0]  \n",
       "\n",
       "[150000 rows x 68 columns]"
      ]
     },
     "execution_count": 3,
     "metadata": {},
     "output_type": "execute_result"
    }
   ],
   "source": [
    "# read the dataset\n",
    "df = pd.read_csv('../data/Week1_challenge_data_source_filled.csv.bz2')\n",
    "df"
   ]
  },
  {
   "cell_type": "code",
   "execution_count": 4,
   "metadata": {},
   "outputs": [
    {
     "name": "stdout",
     "output_type": "stream",
     "text": [
      "Data cleaner in action.\n",
      "Data visualizer in action.\n"
     ]
    }
   ],
   "source": [
    "cleaner = dataCleaner(df)\n",
    "visualizer = dataVisualizer()"
   ]
  },
  {
   "cell_type": "markdown",
   "metadata": {},
   "source": [
    "# User experience analysis"
   ]
  },
  {
   "cell_type": "markdown",
   "metadata": {},
   "source": [
    "### Aggregate, per customer, the following information"
   ]
  },
  {
   "cell_type": "code",
   "execution_count": 12,
   "metadata": {},
   "outputs": [
    {
     "data": {
      "text/html": [
       "<div>\n",
       "<style scoped>\n",
       "    .dataframe tbody tr th:only-of-type {\n",
       "        vertical-align: middle;\n",
       "    }\n",
       "\n",
       "    .dataframe tbody tr th {\n",
       "        vertical-align: top;\n",
       "    }\n",
       "\n",
       "    .dataframe thead th {\n",
       "        text-align: right;\n",
       "    }\n",
       "</style>\n",
       "<table border=\"1\" class=\"dataframe\">\n",
       "  <thead>\n",
       "    <tr style=\"text-align: right;\">\n",
       "      <th></th>\n",
       "      <th>MSISDN/Number</th>\n",
       "      <th>TCP DL Retrans. Vol (Bytes)</th>\n",
       "      <th>TCP UL Retrans. Vol (Bytes)</th>\n",
       "      <th>Avg RTT DL (ms)</th>\n",
       "      <th>Avg RTT UL (ms)</th>\n",
       "      <th>Handset Type</th>\n",
       "      <th>Avg Bearer TP DL (kbps)</th>\n",
       "      <th>Avg Bearer TP UL (kbps)</th>\n",
       "    </tr>\n",
       "  </thead>\n",
       "  <tbody>\n",
       "    <tr>\n",
       "      <th>0</th>\n",
       "      <td>3.366496e+10</td>\n",
       "      <td>568730.0</td>\n",
       "      <td>20949.5</td>\n",
       "      <td>42.0</td>\n",
       "      <td>5.0</td>\n",
       "      <td>Samsung Galaxy A5 Sm-A520F</td>\n",
       "      <td>23.0</td>\n",
       "      <td>44.0</td>\n",
       "    </tr>\n",
       "    <tr>\n",
       "      <th>1</th>\n",
       "      <td>3.368185e+10</td>\n",
       "      <td>568730.0</td>\n",
       "      <td>20949.5</td>\n",
       "      <td>65.0</td>\n",
       "      <td>5.0</td>\n",
       "      <td>Samsung Galaxy J5 (Sm-J530)</td>\n",
       "      <td>16.0</td>\n",
       "      <td>26.0</td>\n",
       "    </tr>\n",
       "    <tr>\n",
       "      <th>2</th>\n",
       "      <td>3.376063e+10</td>\n",
       "      <td>568730.0</td>\n",
       "      <td>20949.5</td>\n",
       "      <td>45.0</td>\n",
       "      <td>5.0</td>\n",
       "      <td>Samsung Galaxy A8 (2018)</td>\n",
       "      <td>6.0</td>\n",
       "      <td>9.0</td>\n",
       "    </tr>\n",
       "    <tr>\n",
       "      <th>3</th>\n",
       "      <td>3.375034e+10</td>\n",
       "      <td>568730.0</td>\n",
       "      <td>20949.5</td>\n",
       "      <td>45.0</td>\n",
       "      <td>5.0</td>\n",
       "      <td>Huawei B528S-23A</td>\n",
       "      <td>44.0</td>\n",
       "      <td>44.0</td>\n",
       "    </tr>\n",
       "    <tr>\n",
       "      <th>4</th>\n",
       "      <td>3.369980e+10</td>\n",
       "      <td>568730.0</td>\n",
       "      <td>20949.5</td>\n",
       "      <td>45.0</td>\n",
       "      <td>5.0</td>\n",
       "      <td>Samsung Sm-G390F</td>\n",
       "      <td>6.0</td>\n",
       "      <td>9.0</td>\n",
       "    </tr>\n",
       "    <tr>\n",
       "      <th>...</th>\n",
       "      <td>...</td>\n",
       "      <td>...</td>\n",
       "      <td>...</td>\n",
       "      <td>...</td>\n",
       "      <td>...</td>\n",
       "      <td>...</td>\n",
       "      <td>...</td>\n",
       "      <td>...</td>\n",
       "    </tr>\n",
       "    <tr>\n",
       "      <th>149995</th>\n",
       "      <td>3.366865e+10</td>\n",
       "      <td>16552848.0</td>\n",
       "      <td>162614.0</td>\n",
       "      <td>313.0</td>\n",
       "      <td>9.0</td>\n",
       "      <td>Huawei B528S-23A</td>\n",
       "      <td>63420.0</td>\n",
       "      <td>1393.0</td>\n",
       "    </tr>\n",
       "    <tr>\n",
       "      <th>149996</th>\n",
       "      <td>3.365069e+10</td>\n",
       "      <td>568730.0</td>\n",
       "      <td>20949.5</td>\n",
       "      <td>32.0</td>\n",
       "      <td>0.0</td>\n",
       "      <td>Apple iPhone 8 Plus (A1897)</td>\n",
       "      <td>52.0</td>\n",
       "      <td>65.0</td>\n",
       "    </tr>\n",
       "    <tr>\n",
       "      <th>149997</th>\n",
       "      <td>3.366345e+10</td>\n",
       "      <td>568730.0</td>\n",
       "      <td>20949.5</td>\n",
       "      <td>27.0</td>\n",
       "      <td>2.0</td>\n",
       "      <td>Apple iPhone Se (A1723)</td>\n",
       "      <td>23.0</td>\n",
       "      <td>54.0</td>\n",
       "    </tr>\n",
       "    <tr>\n",
       "      <th>149998</th>\n",
       "      <td>3.362189e+10</td>\n",
       "      <td>568730.0</td>\n",
       "      <td>20949.5</td>\n",
       "      <td>43.0</td>\n",
       "      <td>6.0</td>\n",
       "      <td>Apple iPhone Xs (A2097)</td>\n",
       "      <td>43.0</td>\n",
       "      <td>47.0</td>\n",
       "    </tr>\n",
       "    <tr>\n",
       "      <th>149999</th>\n",
       "      <td>3.361962e+10</td>\n",
       "      <td>568730.0</td>\n",
       "      <td>20949.5</td>\n",
       "      <td>37.0</td>\n",
       "      <td>5.0</td>\n",
       "      <td>Huawei Fig-Lx1</td>\n",
       "      <td>34.0</td>\n",
       "      <td>37.0</td>\n",
       "    </tr>\n",
       "  </tbody>\n",
       "</table>\n",
       "<p>150000 rows × 8 columns</p>\n",
       "</div>"
      ],
      "text/plain": [
       "        MSISDN/Number  TCP DL Retrans. Vol (Bytes)  \\\n",
       "0        3.366496e+10                     568730.0   \n",
       "1        3.368185e+10                     568730.0   \n",
       "2        3.376063e+10                     568730.0   \n",
       "3        3.375034e+10                     568730.0   \n",
       "4        3.369980e+10                     568730.0   \n",
       "...               ...                          ...   \n",
       "149995   3.366865e+10                   16552848.0   \n",
       "149996   3.365069e+10                     568730.0   \n",
       "149997   3.366345e+10                     568730.0   \n",
       "149998   3.362189e+10                     568730.0   \n",
       "149999   3.361962e+10                     568730.0   \n",
       "\n",
       "        TCP UL Retrans. Vol (Bytes)  Avg RTT DL (ms)  Avg RTT UL (ms)  \\\n",
       "0                           20949.5             42.0              5.0   \n",
       "1                           20949.5             65.0              5.0   \n",
       "2                           20949.5             45.0              5.0   \n",
       "3                           20949.5             45.0              5.0   \n",
       "4                           20949.5             45.0              5.0   \n",
       "...                             ...              ...              ...   \n",
       "149995                     162614.0            313.0              9.0   \n",
       "149996                      20949.5             32.0              0.0   \n",
       "149997                      20949.5             27.0              2.0   \n",
       "149998                      20949.5             43.0              6.0   \n",
       "149999                      20949.5             37.0              5.0   \n",
       "\n",
       "                       Handset Type  Avg Bearer TP DL (kbps)  \\\n",
       "0        Samsung Galaxy A5 Sm-A520F                     23.0   \n",
       "1       Samsung Galaxy J5 (Sm-J530)                     16.0   \n",
       "2          Samsung Galaxy A8 (2018)                      6.0   \n",
       "3                  Huawei B528S-23A                     44.0   \n",
       "4                  Samsung Sm-G390F                      6.0   \n",
       "...                             ...                      ...   \n",
       "149995             Huawei B528S-23A                  63420.0   \n",
       "149996  Apple iPhone 8 Plus (A1897)                     52.0   \n",
       "149997      Apple iPhone Se (A1723)                     23.0   \n",
       "149998      Apple iPhone Xs (A2097)                     43.0   \n",
       "149999               Huawei Fig-Lx1                     34.0   \n",
       "\n",
       "        Avg Bearer TP UL (kbps)  \n",
       "0                          44.0  \n",
       "1                          26.0  \n",
       "2                           9.0  \n",
       "3                          44.0  \n",
       "4                           9.0  \n",
       "...                         ...  \n",
       "149995                   1393.0  \n",
       "149996                     65.0  \n",
       "149997                     54.0  \n",
       "149998                     47.0  \n",
       "149999                     37.0  \n",
       "\n",
       "[150000 rows x 8 columns]"
      ]
     },
     "execution_count": 12,
     "metadata": {},
     "output_type": "execute_result"
    }
   ],
   "source": [
    "# defining the user experience data frame\n",
    "user_experience_df = df[['MSISDN/Number', 'TCP DL Retrans. Vol (Bytes)', 'TCP UL Retrans. Vol (Bytes)', 'Avg RTT DL (ms)', 'Avg RTT UL (ms)', 'Handset Type', 'Avg Bearer TP DL (kbps)', 'Avg Bearer TP UL (kbps)']]\n",
    "user_experience_df"
   ]
  },
  {
   "cell_type": "markdown",
   "metadata": {},
   "source": [
    "* Average TCP retransmission"
   ]
  },
  {
   "cell_type": "code",
   "execution_count": 24,
   "metadata": {},
   "outputs": [
    {
     "name": "stdout",
     "output_type": "stream",
     "text": [
      "Average TCP download retransmission per user\n",
      " MSISDN/Number\n",
      "3.360100e+10     568730.0\n",
      "3.360100e+10     568730.0\n",
      "3.360100e+10     568730.0\n",
      "3.360101e+10       1066.0\n",
      "3.360101e+10    4959180.0\n",
      "                  ...    \n",
      "3.379000e+10     215044.0\n",
      "3.379000e+10     568730.0\n",
      "3.197020e+12     568730.0\n",
      "3.370000e+14     568730.0\n",
      "8.823970e+14     568730.0\n",
      "Name: TCP DL Retrans. Vol (Bytes), Length: 106856, dtype: float64\n",
      "\n",
      "Average TCP upload retransmission per user\n",
      " MSISDN/Number\n",
      "3.360100e+10    20949.50\n",
      "3.360100e+10    20949.50\n",
      "3.360100e+10    20949.50\n",
      "3.360101e+10    20949.50\n",
      "3.360101e+10    21075.75\n",
      "                  ...   \n",
      "3.379000e+10     3001.00\n",
      "3.379000e+10    20949.50\n",
      "3.197020e+12    20949.50\n",
      "3.370000e+14    20949.50\n",
      "8.823970e+14    20949.50\n",
      "Name: TCP UL Retrans. Vol (Bytes), Length: 106856, dtype: float64\n"
     ]
    }
   ],
   "source": [
    "print(f\"Average TCP download retransmission per user\\n {user_experience_df.groupby('MSISDN/Number').agg('TCP DL Retrans. Vol (Bytes)').mean()}\")\n",
    "print(f\"\\nAverage TCP upload retransmission per user\\n {user_experience_df.groupby('MSISDN/Number').agg('TCP UL Retrans. Vol (Bytes)').mean()}\")"
   ]
  },
  {
   "cell_type": "markdown",
   "metadata": {},
   "source": [
    "* Average RTT"
   ]
  },
  {
   "cell_type": "code",
   "execution_count": 27,
   "metadata": {},
   "outputs": [
    {
     "name": "stdout",
     "output_type": "stream",
     "text": [
      "Average download round trip time (RTT) per user\n",
      " MSISDN/Number\n",
      "3.360100e+10    46.0\n",
      "3.360100e+10    30.0\n",
      "3.360100e+10    45.0\n",
      "3.360101e+10    69.0\n",
      "3.360101e+10    57.0\n",
      "                ... \n",
      "3.379000e+10    42.0\n",
      "3.379000e+10    34.0\n",
      "3.197020e+12    45.0\n",
      "3.370000e+14    45.0\n",
      "8.823970e+14    45.0\n",
      "Name: Avg RTT DL (ms), Length: 106856, dtype: float64\n",
      "\n",
      "Average upload round trip time (RTT) per user\n",
      " MSISDN/Number\n",
      "3.360100e+10     0.0\n",
      "3.360100e+10     1.0\n",
      "3.360100e+10     5.0\n",
      "3.360101e+10    15.0\n",
      "3.360101e+10     2.5\n",
      "                ... \n",
      "3.379000e+10    10.0\n",
      "3.379000e+10     6.0\n",
      "3.197020e+12     5.0\n",
      "3.370000e+14     5.0\n",
      "8.823970e+14     5.0\n",
      "Name: Avg RTT UL (ms), Length: 106856, dtype: float64\n"
     ]
    }
   ],
   "source": [
    "print(f\"Average download round trip time (RTT) per user\\n {user_experience_df.groupby('MSISDN/Number').agg('Avg RTT DL (ms)').mean()}\")\n",
    "print(f\"\\nAverage upload round trip time (RTT) per user\\n {user_experience_df.groupby('MSISDN/Number').agg('Avg RTT UL (ms)').mean()}\")"
   ]
  },
  {
   "cell_type": "markdown",
   "metadata": {},
   "source": [
    "* Handset type"
   ]
  },
  {
   "cell_type": "code",
   "execution_count": 34,
   "metadata": {},
   "outputs": [
    {
     "name": "stdout",
     "output_type": "stream",
     "text": [
      "\n",
      "Average handset types per user\n",
      "                                    Handset Type\n",
      "                                       <lambda>\n",
      "MSISDN/Number                                  \n",
      "3.360100e+10     Huawei P20 Lite Huawei Nova 3E\n",
      "3.360100e+10             Apple iPhone 7 (A1778)\n",
      "3.360100e+10                   Huawei B528S-23A\n",
      "3.360101e+10            Apple iPhone 5S (A1457)\n",
      "3.360101e+10            Apple iPhone Se (A1723)\n",
      "...                                         ...\n",
      "3.379000e+10                Huawei Honor 9 Lite\n",
      "3.379000e+10        Apple iPhone 8 Plus (A1897)\n",
      "3.197020e+12   Quectel Wireless. Quectel Ec25-E\n",
      "3.370000e+14                   Huawei B525S-23A\n",
      "8.823970e+14   Quectel Wireless. Quectel Ec21-E\n",
      "\n",
      "[106856 rows x 1 columns]\n"
     ]
    }
   ],
   "source": [
    "print(f\"\\Most used handset types per user\\n {user_experience_df.groupby('MSISDN/Number').agg({'Handset Type':[lambda x:x.mode()[0]]})}\")"
   ]
  },
  {
   "cell_type": "markdown",
   "metadata": {},
   "source": [
    "* Average throughput"
   ]
  },
  {
   "cell_type": "code",
   "execution_count": 30,
   "metadata": {},
   "outputs": [
    {
     "name": "stdout",
     "output_type": "stream",
     "text": [
      "Average download throughput per user\n",
      " MSISDN/Number\n",
      "3.360100e+10       37.0\n",
      "3.360100e+10       48.0\n",
      "3.360100e+10       48.0\n",
      "3.360101e+10      204.0\n",
      "3.360101e+10    20197.5\n",
      "                 ...   \n",
      "3.379000e+10     9978.0\n",
      "3.379000e+10       68.0\n",
      "3.197020e+12        1.0\n",
      "3.370000e+14       11.0\n",
      "8.823970e+14        2.0\n",
      "Name: Avg Bearer TP DL (kbps), Length: 106856, dtype: float64\n",
      "\n",
      "Average upload throughput per user\n",
      " MSISDN/Number\n",
      "3.360100e+10      39.0\n",
      "3.360100e+10      51.0\n",
      "3.360100e+10      49.0\n",
      "3.360101e+10      44.0\n",
      "3.360101e+10    8224.5\n",
      "                 ...  \n",
      "3.379000e+10     387.0\n",
      "3.379000e+10      48.0\n",
      "3.197020e+12       0.0\n",
      "3.370000e+14      22.0\n",
      "8.823970e+14       0.0\n",
      "Name: Avg Bearer TP UL (kbps), Length: 106856, dtype: float64\n"
     ]
    }
   ],
   "source": [
    "print(f\"Average download throughput per user\\n {user_experience_df.groupby('MSISDN/Number').agg('Avg Bearer TP DL (kbps)').mean()}\")\n",
    "print(f\"\\nAverage upload throughput per user\\n {user_experience_df.groupby('MSISDN/Number').agg('Avg Bearer TP UL (kbps)').mean()}\")"
   ]
  },
  {
   "cell_type": "markdown",
   "metadata": {},
   "source": [
    "### Compute & list 10 of the top, bottom and most frequent"
   ]
  },
  {
   "cell_type": "code",
   "execution_count": 47,
   "metadata": {},
   "outputs": [],
   "source": [
    "# plot the top, bottom and frequent 10\n",
    "def plotly_multi_hist(sr, rows, cols, title_text, subplot_titles):\n",
    "  fig = make_subplots(rows=rows, cols=cols, subplot_titles=subplot_titles)\n",
    "  for i in range(rows):\n",
    "    for j in range(cols):\n",
    "      x = [\"-> \" + str(i) for i in sr[i+j].index]\n",
    "      fig.add_trace(go.Bar(x=x, y=sr[i+j].values ), row=i+1, col=j+1)\n",
    "  fig.update_layout(showlegend=False, title_text=title_text)\n",
    "  fig.show()"
   ]
  },
  {
   "cell_type": "markdown",
   "metadata": {},
   "source": [
    "* TCP values in the dataset"
   ]
  },
  {
   "cell_type": "code",
   "execution_count": 45,
   "metadata": {},
   "outputs": [],
   "source": [
    "tcp_dl = user_experience_df.sort_values('TCP DL Retrans. Vol (Bytes)', ascending=False)\n",
    "tcp_ul = user_experience_df.sort_values('TCP UL Retrans. Vol (Bytes)', ascending=False)\n",
    "\n",
    "top_10_dl = tcp_dl.head(10)\n",
    "bot_10_dl = tcp_dl.tail(10)\n",
    "freq_10_dl = tcp_dl['TCP DL Retrans. Vol (Bytes)'].value_counts().head(10)\n",
    "\n",
    "top_10_ul = tcp_ul.head(10)\n",
    "bot_10_ul = tcp_ul.tail(10)\n",
    "freq_10_ul = tcp_ul['TCP UL Retrans. Vol (Bytes)'].value_counts().head(10)"
   ]
  },
  {
   "cell_type": "markdown",
   "metadata": {},
   "source": [
    "* RTT values in the dataset"
   ]
  },
  {
   "cell_type": "code",
   "execution_count": 44,
   "metadata": {},
   "outputs": [],
   "source": [
    "rtt_dl = user_experience_df.sort_values('Avg RTT DL (ms)', ascending=False)\n",
    "rtt_ul = user_experience_df.sort_values('Avg RTT UL (ms)', ascending=False)\n",
    "\n",
    "top_10_dl = rtt_dl.head(10)\n",
    "bot_10_dl = rtt_dl.tail(10)\n",
    "freq_10_dl = rtt_dl['Avg RTT DL (ms)'].value_counts().head(10)\n",
    "\n",
    "top_10_ul = rtt_ul.head(10)\n",
    "bot_10_ul = rtt_ul.tail(10)\n",
    "freq_10_ul = rtt_ul['Avg RTT UL (ms)'].value_counts().head(10)"
   ]
  },
  {
   "cell_type": "code",
   "execution_count": 48,
   "metadata": {},
   "outputs": [
    {
     "data": {
      "application/vnd.plotly.v1+json": {
       "config": {
        "plotlyServerURL": "https://plot.ly"
       },
       "data": [
        {
         "type": "bar",
         "x": [
          "-> 77950",
          "-> 135677",
          "-> 34636",
          "-> 140797",
          "-> 3741",
          "-> 119667",
          "-> 39608",
          "-> 76971",
          "-> 59011",
          "-> 41182"
         ],
         "xaxis": "x",
         "y": [
          [
           33762109416,
           4294425570,
           6395,
           82,
           34,
           "Huawei B528S-23A",
           109008,
           3032
          ],
          [
           33658718266,
           4291380336,
           84614,
           105,
           28,
           "Huawei B528S-23A",
           47467,
           8294
          ],
          [
           33660452751,
           4289876615,
           54239036,
           64,
           46,
           "Huawei B528S-23A",
           168898,
           16444
          ],
          [
           33698575965,
           4289487601,
           11989838,
           244,
           242,
           "Huawei B528S-23A",
           26456,
           5310
          ],
          [
           33658706088,
           4288060364,
           60496,
           62,
           19,
           "Huawei B528S-23A",
           80994,
           13188
          ],
          [
           33664689058,
           4275259349,
           232364,
           462,
           30,
           "Huawei B528S-23A",
           48106,
           7746
          ],
          [
           33664907178,
           4268431996,
           215354,
           305,
           148,
           "Huawei B528S-23A",
           52901,
           2308
          ],
          [
           33658281911,
           4259996826,
           177319,
           79,
           40,
           "Huawei B528S-23A",
           45913,
           2926
          ],
          [
           33762333446,
           4256650017,
           4966022,
           73,
           40,
           "Huawei B528S-23A",
           54241,
           2570
          ],
          [
           33658633234,
           4254643827,
           15816,
           61,
           27,
           "Huawei B528S-23A",
           87516,
           29617
          ]
         ],
         "yaxis": "y"
        },
        {
         "type": "bar",
         "x": [
          "-> 143707",
          "-> 143429",
          "-> 39582",
          "-> 2818",
          "-> 52480",
          "-> 100305",
          "-> 75082",
          "-> 60417",
          "-> 125088",
          "-> 59708"
         ],
         "xaxis": "x2",
         "y": [
          [
           33669309035,
           4,
           20949.5,
           32,
           11,
           "Zte Mf259",
           16,
           144
          ],
          [
           33761619710,
           4,
           20949.5,
           47,
           7,
           "Zte Mf259",
           9,
           178
          ],
          [
           33761544858,
           4,
           1318,
           63,
           1,
           "Zte Mf259",
           6,
           60
          ],
          [
           33699060950,
           4,
           20949.5,
           37,
           8,
           "Zte Mf259",
           16,
           143
          ],
          [
           33763938150,
           4,
           95464,
           28,
           18,
           "Zte Mf259",
           11,
           175
          ],
          [
           33669328368,
           4,
           5296,
           35,
           2,
           "Zte Mf259",
           13,
           238
          ],
          [
           33761506920,
           4,
           20949.5,
           40,
           4,
           "Zte Mf259",
           11,
           166
          ],
          [
           33763992917,
           4,
           77762,
           21,
           2,
           "Zte Mf259",
           15,
           184
          ],
          [
           33761543605,
           2,
           20949.5,
           28,
           4,
           "Zte Mf259",
           12,
           191
          ],
          [
           33664535559,
           2,
           21557,
           437,
           4,
           "Zte Mf259",
           12,
           171
          ]
         ],
         "yaxis": "y2"
        },
        {
         "type": "bar",
         "x": [
          "-> 568730.0",
          "-> 1330.0",
          "-> 2660.0",
          "-> 38.0",
          "-> 92.0",
          "-> 1318.0",
          "-> 543.0",
          "-> 3990.0",
          "-> 76.0",
          "-> 5320.0"
         ],
         "xaxis": "x3",
         "y": [
          88146,
          433,
          219,
          200,
          192,
          156,
          133,
          114,
          108,
          102
         ],
         "yaxis": "y3"
        }
       ],
       "layout": {
        "annotations": [
         {
          "font": {
           "size": 16
          },
          "showarrow": false,
          "text": "Top 10",
          "x": 0.14444444444444446,
          "xanchor": "center",
          "xref": "paper",
          "y": 1,
          "yanchor": "bottom",
          "yref": "paper"
         },
         {
          "font": {
           "size": 16
          },
          "showarrow": false,
          "text": "Bottom 10",
          "x": 0.5,
          "xanchor": "center",
          "xref": "paper",
          "y": 1,
          "yanchor": "bottom",
          "yref": "paper"
         },
         {
          "font": {
           "size": 16
          },
          "showarrow": false,
          "text": "Most 10",
          "x": 0.8555555555555556,
          "xanchor": "center",
          "xref": "paper",
          "y": 1,
          "yanchor": "bottom",
          "yref": "paper"
         }
        ],
        "showlegend": false,
        "template": {
         "data": {
          "bar": [
           {
            "error_x": {
             "color": "#2a3f5f"
            },
            "error_y": {
             "color": "#2a3f5f"
            },
            "marker": {
             "line": {
              "color": "#E5ECF6",
              "width": 0.5
             },
             "pattern": {
              "fillmode": "overlay",
              "size": 10,
              "solidity": 0.2
             }
            },
            "type": "bar"
           }
          ],
          "barpolar": [
           {
            "marker": {
             "line": {
              "color": "#E5ECF6",
              "width": 0.5
             },
             "pattern": {
              "fillmode": "overlay",
              "size": 10,
              "solidity": 0.2
             }
            },
            "type": "barpolar"
           }
          ],
          "carpet": [
           {
            "aaxis": {
             "endlinecolor": "#2a3f5f",
             "gridcolor": "white",
             "linecolor": "white",
             "minorgridcolor": "white",
             "startlinecolor": "#2a3f5f"
            },
            "baxis": {
             "endlinecolor": "#2a3f5f",
             "gridcolor": "white",
             "linecolor": "white",
             "minorgridcolor": "white",
             "startlinecolor": "#2a3f5f"
            },
            "type": "carpet"
           }
          ],
          "choropleth": [
           {
            "colorbar": {
             "outlinewidth": 0,
             "ticks": ""
            },
            "type": "choropleth"
           }
          ],
          "contour": [
           {
            "colorbar": {
             "outlinewidth": 0,
             "ticks": ""
            },
            "colorscale": [
             [
              0,
              "#0d0887"
             ],
             [
              0.1111111111111111,
              "#46039f"
             ],
             [
              0.2222222222222222,
              "#7201a8"
             ],
             [
              0.3333333333333333,
              "#9c179e"
             ],
             [
              0.4444444444444444,
              "#bd3786"
             ],
             [
              0.5555555555555556,
              "#d8576b"
             ],
             [
              0.6666666666666666,
              "#ed7953"
             ],
             [
              0.7777777777777778,
              "#fb9f3a"
             ],
             [
              0.8888888888888888,
              "#fdca26"
             ],
             [
              1,
              "#f0f921"
             ]
            ],
            "type": "contour"
           }
          ],
          "contourcarpet": [
           {
            "colorbar": {
             "outlinewidth": 0,
             "ticks": ""
            },
            "type": "contourcarpet"
           }
          ],
          "heatmap": [
           {
            "colorbar": {
             "outlinewidth": 0,
             "ticks": ""
            },
            "colorscale": [
             [
              0,
              "#0d0887"
             ],
             [
              0.1111111111111111,
              "#46039f"
             ],
             [
              0.2222222222222222,
              "#7201a8"
             ],
             [
              0.3333333333333333,
              "#9c179e"
             ],
             [
              0.4444444444444444,
              "#bd3786"
             ],
             [
              0.5555555555555556,
              "#d8576b"
             ],
             [
              0.6666666666666666,
              "#ed7953"
             ],
             [
              0.7777777777777778,
              "#fb9f3a"
             ],
             [
              0.8888888888888888,
              "#fdca26"
             ],
             [
              1,
              "#f0f921"
             ]
            ],
            "type": "heatmap"
           }
          ],
          "heatmapgl": [
           {
            "colorbar": {
             "outlinewidth": 0,
             "ticks": ""
            },
            "colorscale": [
             [
              0,
              "#0d0887"
             ],
             [
              0.1111111111111111,
              "#46039f"
             ],
             [
              0.2222222222222222,
              "#7201a8"
             ],
             [
              0.3333333333333333,
              "#9c179e"
             ],
             [
              0.4444444444444444,
              "#bd3786"
             ],
             [
              0.5555555555555556,
              "#d8576b"
             ],
             [
              0.6666666666666666,
              "#ed7953"
             ],
             [
              0.7777777777777778,
              "#fb9f3a"
             ],
             [
              0.8888888888888888,
              "#fdca26"
             ],
             [
              1,
              "#f0f921"
             ]
            ],
            "type": "heatmapgl"
           }
          ],
          "histogram": [
           {
            "marker": {
             "pattern": {
              "fillmode": "overlay",
              "size": 10,
              "solidity": 0.2
             }
            },
            "type": "histogram"
           }
          ],
          "histogram2d": [
           {
            "colorbar": {
             "outlinewidth": 0,
             "ticks": ""
            },
            "colorscale": [
             [
              0,
              "#0d0887"
             ],
             [
              0.1111111111111111,
              "#46039f"
             ],
             [
              0.2222222222222222,
              "#7201a8"
             ],
             [
              0.3333333333333333,
              "#9c179e"
             ],
             [
              0.4444444444444444,
              "#bd3786"
             ],
             [
              0.5555555555555556,
              "#d8576b"
             ],
             [
              0.6666666666666666,
              "#ed7953"
             ],
             [
              0.7777777777777778,
              "#fb9f3a"
             ],
             [
              0.8888888888888888,
              "#fdca26"
             ],
             [
              1,
              "#f0f921"
             ]
            ],
            "type": "histogram2d"
           }
          ],
          "histogram2dcontour": [
           {
            "colorbar": {
             "outlinewidth": 0,
             "ticks": ""
            },
            "colorscale": [
             [
              0,
              "#0d0887"
             ],
             [
              0.1111111111111111,
              "#46039f"
             ],
             [
              0.2222222222222222,
              "#7201a8"
             ],
             [
              0.3333333333333333,
              "#9c179e"
             ],
             [
              0.4444444444444444,
              "#bd3786"
             ],
             [
              0.5555555555555556,
              "#d8576b"
             ],
             [
              0.6666666666666666,
              "#ed7953"
             ],
             [
              0.7777777777777778,
              "#fb9f3a"
             ],
             [
              0.8888888888888888,
              "#fdca26"
             ],
             [
              1,
              "#f0f921"
             ]
            ],
            "type": "histogram2dcontour"
           }
          ],
          "mesh3d": [
           {
            "colorbar": {
             "outlinewidth": 0,
             "ticks": ""
            },
            "type": "mesh3d"
           }
          ],
          "parcoords": [
           {
            "line": {
             "colorbar": {
              "outlinewidth": 0,
              "ticks": ""
             }
            },
            "type": "parcoords"
           }
          ],
          "pie": [
           {
            "automargin": true,
            "type": "pie"
           }
          ],
          "scatter": [
           {
            "fillpattern": {
             "fillmode": "overlay",
             "size": 10,
             "solidity": 0.2
            },
            "type": "scatter"
           }
          ],
          "scatter3d": [
           {
            "line": {
             "colorbar": {
              "outlinewidth": 0,
              "ticks": ""
             }
            },
            "marker": {
             "colorbar": {
              "outlinewidth": 0,
              "ticks": ""
             }
            },
            "type": "scatter3d"
           }
          ],
          "scattercarpet": [
           {
            "marker": {
             "colorbar": {
              "outlinewidth": 0,
              "ticks": ""
             }
            },
            "type": "scattercarpet"
           }
          ],
          "scattergeo": [
           {
            "marker": {
             "colorbar": {
              "outlinewidth": 0,
              "ticks": ""
             }
            },
            "type": "scattergeo"
           }
          ],
          "scattergl": [
           {
            "marker": {
             "colorbar": {
              "outlinewidth": 0,
              "ticks": ""
             }
            },
            "type": "scattergl"
           }
          ],
          "scattermapbox": [
           {
            "marker": {
             "colorbar": {
              "outlinewidth": 0,
              "ticks": ""
             }
            },
            "type": "scattermapbox"
           }
          ],
          "scatterpolar": [
           {
            "marker": {
             "colorbar": {
              "outlinewidth": 0,
              "ticks": ""
             }
            },
            "type": "scatterpolar"
           }
          ],
          "scatterpolargl": [
           {
            "marker": {
             "colorbar": {
              "outlinewidth": 0,
              "ticks": ""
             }
            },
            "type": "scatterpolargl"
           }
          ],
          "scatterternary": [
           {
            "marker": {
             "colorbar": {
              "outlinewidth": 0,
              "ticks": ""
             }
            },
            "type": "scatterternary"
           }
          ],
          "surface": [
           {
            "colorbar": {
             "outlinewidth": 0,
             "ticks": ""
            },
            "colorscale": [
             [
              0,
              "#0d0887"
             ],
             [
              0.1111111111111111,
              "#46039f"
             ],
             [
              0.2222222222222222,
              "#7201a8"
             ],
             [
              0.3333333333333333,
              "#9c179e"
             ],
             [
              0.4444444444444444,
              "#bd3786"
             ],
             [
              0.5555555555555556,
              "#d8576b"
             ],
             [
              0.6666666666666666,
              "#ed7953"
             ],
             [
              0.7777777777777778,
              "#fb9f3a"
             ],
             [
              0.8888888888888888,
              "#fdca26"
             ],
             [
              1,
              "#f0f921"
             ]
            ],
            "type": "surface"
           }
          ],
          "table": [
           {
            "cells": {
             "fill": {
              "color": "#EBF0F8"
             },
             "line": {
              "color": "white"
             }
            },
            "header": {
             "fill": {
              "color": "#C8D4E3"
             },
             "line": {
              "color": "white"
             }
            },
            "type": "table"
           }
          ]
         },
         "layout": {
          "annotationdefaults": {
           "arrowcolor": "#2a3f5f",
           "arrowhead": 0,
           "arrowwidth": 1
          },
          "autotypenumbers": "strict",
          "coloraxis": {
           "colorbar": {
            "outlinewidth": 0,
            "ticks": ""
           }
          },
          "colorscale": {
           "diverging": [
            [
             0,
             "#8e0152"
            ],
            [
             0.1,
             "#c51b7d"
            ],
            [
             0.2,
             "#de77ae"
            ],
            [
             0.3,
             "#f1b6da"
            ],
            [
             0.4,
             "#fde0ef"
            ],
            [
             0.5,
             "#f7f7f7"
            ],
            [
             0.6,
             "#e6f5d0"
            ],
            [
             0.7,
             "#b8e186"
            ],
            [
             0.8,
             "#7fbc41"
            ],
            [
             0.9,
             "#4d9221"
            ],
            [
             1,
             "#276419"
            ]
           ],
           "sequential": [
            [
             0,
             "#0d0887"
            ],
            [
             0.1111111111111111,
             "#46039f"
            ],
            [
             0.2222222222222222,
             "#7201a8"
            ],
            [
             0.3333333333333333,
             "#9c179e"
            ],
            [
             0.4444444444444444,
             "#bd3786"
            ],
            [
             0.5555555555555556,
             "#d8576b"
            ],
            [
             0.6666666666666666,
             "#ed7953"
            ],
            [
             0.7777777777777778,
             "#fb9f3a"
            ],
            [
             0.8888888888888888,
             "#fdca26"
            ],
            [
             1,
             "#f0f921"
            ]
           ],
           "sequentialminus": [
            [
             0,
             "#0d0887"
            ],
            [
             0.1111111111111111,
             "#46039f"
            ],
            [
             0.2222222222222222,
             "#7201a8"
            ],
            [
             0.3333333333333333,
             "#9c179e"
            ],
            [
             0.4444444444444444,
             "#bd3786"
            ],
            [
             0.5555555555555556,
             "#d8576b"
            ],
            [
             0.6666666666666666,
             "#ed7953"
            ],
            [
             0.7777777777777778,
             "#fb9f3a"
            ],
            [
             0.8888888888888888,
             "#fdca26"
            ],
            [
             1,
             "#f0f921"
            ]
           ]
          },
          "colorway": [
           "#636efa",
           "#EF553B",
           "#00cc96",
           "#ab63fa",
           "#FFA15A",
           "#19d3f3",
           "#FF6692",
           "#B6E880",
           "#FF97FF",
           "#FECB52"
          ],
          "font": {
           "color": "#2a3f5f"
          },
          "geo": {
           "bgcolor": "white",
           "lakecolor": "white",
           "landcolor": "#E5ECF6",
           "showlakes": true,
           "showland": true,
           "subunitcolor": "white"
          },
          "hoverlabel": {
           "align": "left"
          },
          "hovermode": "closest",
          "mapbox": {
           "style": "light"
          },
          "paper_bgcolor": "white",
          "plot_bgcolor": "#E5ECF6",
          "polar": {
           "angularaxis": {
            "gridcolor": "white",
            "linecolor": "white",
            "ticks": ""
           },
           "bgcolor": "#E5ECF6",
           "radialaxis": {
            "gridcolor": "white",
            "linecolor": "white",
            "ticks": ""
           }
          },
          "scene": {
           "xaxis": {
            "backgroundcolor": "#E5ECF6",
            "gridcolor": "white",
            "gridwidth": 2,
            "linecolor": "white",
            "showbackground": true,
            "ticks": "",
            "zerolinecolor": "white"
           },
           "yaxis": {
            "backgroundcolor": "#E5ECF6",
            "gridcolor": "white",
            "gridwidth": 2,
            "linecolor": "white",
            "showbackground": true,
            "ticks": "",
            "zerolinecolor": "white"
           },
           "zaxis": {
            "backgroundcolor": "#E5ECF6",
            "gridcolor": "white",
            "gridwidth": 2,
            "linecolor": "white",
            "showbackground": true,
            "ticks": "",
            "zerolinecolor": "white"
           }
          },
          "shapedefaults": {
           "line": {
            "color": "#2a3f5f"
           }
          },
          "ternary": {
           "aaxis": {
            "gridcolor": "white",
            "linecolor": "white",
            "ticks": ""
           },
           "baxis": {
            "gridcolor": "white",
            "linecolor": "white",
            "ticks": ""
           },
           "bgcolor": "#E5ECF6",
           "caxis": {
            "gridcolor": "white",
            "linecolor": "white",
            "ticks": ""
           }
          },
          "title": {
           "x": 0.05
          },
          "xaxis": {
           "automargin": true,
           "gridcolor": "white",
           "linecolor": "white",
           "ticks": "",
           "title": {
            "standoff": 15
           },
           "zerolinecolor": "white",
           "zerolinewidth": 2
          },
          "yaxis": {
           "automargin": true,
           "gridcolor": "white",
           "linecolor": "white",
           "ticks": "",
           "title": {
            "standoff": 15
           },
           "zerolinecolor": "white",
           "zerolinewidth": 2
          }
         }
        },
        "title": {
         "text": "RTT download values in the dataset"
        },
        "xaxis": {
         "anchor": "y",
         "domain": [
          0,
          0.2888888888888889
         ]
        },
        "xaxis2": {
         "anchor": "y2",
         "domain": [
          0.35555555555555557,
          0.6444444444444445
         ]
        },
        "xaxis3": {
         "anchor": "y3",
         "domain": [
          0.7111111111111111,
          1
         ]
        },
        "yaxis": {
         "anchor": "x",
         "domain": [
          0,
          1
         ]
        },
        "yaxis2": {
         "anchor": "x2",
         "domain": [
          0,
          1
         ]
        },
        "yaxis3": {
         "anchor": "x3",
         "domain": [
          0,
          1
         ]
        }
       }
      }
     },
     "metadata": {},
     "output_type": "display_data"
    }
   ],
   "source": [
    "plotly_multi_hist([top_10_dl, bot_10_dl, freq_10_dl], 1, 3, \"RTT download values in the dataset\", ['Top 10', 'Bottom 10', 'Most 10'])"
   ]
  },
  {
   "cell_type": "code",
   "execution_count": 49,
   "metadata": {},
   "outputs": [
    {
     "data": {
      "application/vnd.plotly.v1+json": {
       "config": {
        "plotlyServerURL": "https://plot.ly"
       },
       "data": [
        {
         "type": "bar",
         "x": [
          "-> 36181",
          "-> 76625",
          "-> 67304",
          "-> 1491",
          "-> 133262",
          "-> 35127",
          "-> 142218",
          "-> 142431",
          "-> 66068",
          "-> 1369"
         ],
         "xaxis": "x",
         "y": [
          [
           33669054076,
           5182381,
           2908226006,
           48,
           35,
           "Huawei B528S-23A",
           33353,
           18754
          ],
          [
           33658249284,
           2912938,
           2636857202,
           61,
           24,
           "Huawei B528S-23A",
           84160,
           7507
          ],
          [
           33763588772,
           9213923,
           2455599840,
           50,
           24,
           "Huawei B528S-23A",
           58997,
           6247
          ],
          [
           33669054076,
           352815,
           2260359347,
           50,
           28,
           "Huawei B528S-23A",
           36938,
           18810
          ],
          [
           33664698321,
           323300754,
           1751383517,
           312,
           52,
           "Huawei B528S-23A",
           63163,
           6778
          ],
          [
           33665090461,
           149425717,
           1727810000,
           42,
           39,
           "Huawei B528S-23A",
           144177,
           37662
          ],
          [
           33760918898,
           2089389,
           1237861906,
           115,
           19,
           "Huawei B528S-23A",
           32254,
           10409
          ],
          [
           33661679531,
           122224,
           794825766,
           32,
           9,
           "Huawei B528S-23A",
           39624,
           13541
          ],
          [
           33698382849,
           282503545,
           719571807,
           125,
           167,
           "Huawei B528S-23A",
           42256,
           20965
          ],
          [
           33668446094,
           3076798,
           526246337,
           178,
           495,
           "Huawei B528S-23A",
           17917,
           12905
          ]
         ],
         "yaxis": "y"
        },
        {
         "type": "bar",
         "x": [
          "-> 138997",
          "-> 144969",
          "-> 90210",
          "-> 75076",
          "-> 124047",
          "-> 36067",
          "-> 15237",
          "-> 139549",
          "-> 78672",
          "-> 38380"
         ],
         "xaxis": "x2",
         "y": [
          [
           33658340151,
           2175970,
           1,
           79,
           24,
           "Huawei B528S-23A",
           30284,
           3108
          ],
          [
           33658552333,
           1167641,
           1,
           45,
           17,
           "Huawei B528S-23A",
           47526,
           821
          ],
          [
           33782587773,
           7505983,
           1,
           57,
           12,
           "Spa Condor Elect. Plume L2",
           73997,
           2532
          ],
          [
           33665674774,
           8001,
           1,
           62,
           19,
           "Huawei B528S-23A",
           25732,
           635
          ],
          [
           33658552333,
           256358,
           1,
           46,
           14,
           "Huawei B528S-23A",
           43005,
           900
          ],
          [
           33762067105,
           25425,
           1,
           40,
           27,
           "Huawei B528S-23A",
           22163,
           478
          ],
          [
           33668086182,
           112927,
           1,
           39,
           6,
           "Tp-Link Technolo. Tl-Mr6400",
           14731,
           700
          ],
          [
           33664736698,
           279510,
           1,
           112,
           21,
           "Huawei B528S-23A",
           32179,
           1081
          ],
          [
           33763188980,
           52852177,
           1,
           70,
           13,
           "Huawei B528S-23A",
           47745,
           1113
          ],
          [
           33665743237,
           9310,
           1,
           43,
           32,
           "Huawei B528S-23A",
           17540,
           15000
          ]
         ],
         "yaxis": "y2"
        },
        {
         "type": "bar",
         "x": [
          "-> 20949.5",
          "-> 1330.0",
          "-> 2660.0",
          "-> 1294.0",
          "-> 3990.0",
          "-> 1318.0",
          "-> 5320.0",
          "-> 6650.0",
          "-> 2636.0",
          "-> 7980.0"
         ],
         "xaxis": "x3",
         "y": [
          96648,
          1910,
          937,
          651,
          548,
          545,
          366,
          271,
          234,
          219
         ],
         "yaxis": "y3"
        }
       ],
       "layout": {
        "annotations": [
         {
          "font": {
           "size": 16
          },
          "showarrow": false,
          "text": "Top 10",
          "x": 0.14444444444444446,
          "xanchor": "center",
          "xref": "paper",
          "y": 1,
          "yanchor": "bottom",
          "yref": "paper"
         },
         {
          "font": {
           "size": 16
          },
          "showarrow": false,
          "text": "Bottom 10",
          "x": 0.5,
          "xanchor": "center",
          "xref": "paper",
          "y": 1,
          "yanchor": "bottom",
          "yref": "paper"
         },
         {
          "font": {
           "size": 16
          },
          "showarrow": false,
          "text": "Most 10",
          "x": 0.8555555555555556,
          "xanchor": "center",
          "xref": "paper",
          "y": 1,
          "yanchor": "bottom",
          "yref": "paper"
         }
        ],
        "showlegend": false,
        "template": {
         "data": {
          "bar": [
           {
            "error_x": {
             "color": "#2a3f5f"
            },
            "error_y": {
             "color": "#2a3f5f"
            },
            "marker": {
             "line": {
              "color": "#E5ECF6",
              "width": 0.5
             },
             "pattern": {
              "fillmode": "overlay",
              "size": 10,
              "solidity": 0.2
             }
            },
            "type": "bar"
           }
          ],
          "barpolar": [
           {
            "marker": {
             "line": {
              "color": "#E5ECF6",
              "width": 0.5
             },
             "pattern": {
              "fillmode": "overlay",
              "size": 10,
              "solidity": 0.2
             }
            },
            "type": "barpolar"
           }
          ],
          "carpet": [
           {
            "aaxis": {
             "endlinecolor": "#2a3f5f",
             "gridcolor": "white",
             "linecolor": "white",
             "minorgridcolor": "white",
             "startlinecolor": "#2a3f5f"
            },
            "baxis": {
             "endlinecolor": "#2a3f5f",
             "gridcolor": "white",
             "linecolor": "white",
             "minorgridcolor": "white",
             "startlinecolor": "#2a3f5f"
            },
            "type": "carpet"
           }
          ],
          "choropleth": [
           {
            "colorbar": {
             "outlinewidth": 0,
             "ticks": ""
            },
            "type": "choropleth"
           }
          ],
          "contour": [
           {
            "colorbar": {
             "outlinewidth": 0,
             "ticks": ""
            },
            "colorscale": [
             [
              0,
              "#0d0887"
             ],
             [
              0.1111111111111111,
              "#46039f"
             ],
             [
              0.2222222222222222,
              "#7201a8"
             ],
             [
              0.3333333333333333,
              "#9c179e"
             ],
             [
              0.4444444444444444,
              "#bd3786"
             ],
             [
              0.5555555555555556,
              "#d8576b"
             ],
             [
              0.6666666666666666,
              "#ed7953"
             ],
             [
              0.7777777777777778,
              "#fb9f3a"
             ],
             [
              0.8888888888888888,
              "#fdca26"
             ],
             [
              1,
              "#f0f921"
             ]
            ],
            "type": "contour"
           }
          ],
          "contourcarpet": [
           {
            "colorbar": {
             "outlinewidth": 0,
             "ticks": ""
            },
            "type": "contourcarpet"
           }
          ],
          "heatmap": [
           {
            "colorbar": {
             "outlinewidth": 0,
             "ticks": ""
            },
            "colorscale": [
             [
              0,
              "#0d0887"
             ],
             [
              0.1111111111111111,
              "#46039f"
             ],
             [
              0.2222222222222222,
              "#7201a8"
             ],
             [
              0.3333333333333333,
              "#9c179e"
             ],
             [
              0.4444444444444444,
              "#bd3786"
             ],
             [
              0.5555555555555556,
              "#d8576b"
             ],
             [
              0.6666666666666666,
              "#ed7953"
             ],
             [
              0.7777777777777778,
              "#fb9f3a"
             ],
             [
              0.8888888888888888,
              "#fdca26"
             ],
             [
              1,
              "#f0f921"
             ]
            ],
            "type": "heatmap"
           }
          ],
          "heatmapgl": [
           {
            "colorbar": {
             "outlinewidth": 0,
             "ticks": ""
            },
            "colorscale": [
             [
              0,
              "#0d0887"
             ],
             [
              0.1111111111111111,
              "#46039f"
             ],
             [
              0.2222222222222222,
              "#7201a8"
             ],
             [
              0.3333333333333333,
              "#9c179e"
             ],
             [
              0.4444444444444444,
              "#bd3786"
             ],
             [
              0.5555555555555556,
              "#d8576b"
             ],
             [
              0.6666666666666666,
              "#ed7953"
             ],
             [
              0.7777777777777778,
              "#fb9f3a"
             ],
             [
              0.8888888888888888,
              "#fdca26"
             ],
             [
              1,
              "#f0f921"
             ]
            ],
            "type": "heatmapgl"
           }
          ],
          "histogram": [
           {
            "marker": {
             "pattern": {
              "fillmode": "overlay",
              "size": 10,
              "solidity": 0.2
             }
            },
            "type": "histogram"
           }
          ],
          "histogram2d": [
           {
            "colorbar": {
             "outlinewidth": 0,
             "ticks": ""
            },
            "colorscale": [
             [
              0,
              "#0d0887"
             ],
             [
              0.1111111111111111,
              "#46039f"
             ],
             [
              0.2222222222222222,
              "#7201a8"
             ],
             [
              0.3333333333333333,
              "#9c179e"
             ],
             [
              0.4444444444444444,
              "#bd3786"
             ],
             [
              0.5555555555555556,
              "#d8576b"
             ],
             [
              0.6666666666666666,
              "#ed7953"
             ],
             [
              0.7777777777777778,
              "#fb9f3a"
             ],
             [
              0.8888888888888888,
              "#fdca26"
             ],
             [
              1,
              "#f0f921"
             ]
            ],
            "type": "histogram2d"
           }
          ],
          "histogram2dcontour": [
           {
            "colorbar": {
             "outlinewidth": 0,
             "ticks": ""
            },
            "colorscale": [
             [
              0,
              "#0d0887"
             ],
             [
              0.1111111111111111,
              "#46039f"
             ],
             [
              0.2222222222222222,
              "#7201a8"
             ],
             [
              0.3333333333333333,
              "#9c179e"
             ],
             [
              0.4444444444444444,
              "#bd3786"
             ],
             [
              0.5555555555555556,
              "#d8576b"
             ],
             [
              0.6666666666666666,
              "#ed7953"
             ],
             [
              0.7777777777777778,
              "#fb9f3a"
             ],
             [
              0.8888888888888888,
              "#fdca26"
             ],
             [
              1,
              "#f0f921"
             ]
            ],
            "type": "histogram2dcontour"
           }
          ],
          "mesh3d": [
           {
            "colorbar": {
             "outlinewidth": 0,
             "ticks": ""
            },
            "type": "mesh3d"
           }
          ],
          "parcoords": [
           {
            "line": {
             "colorbar": {
              "outlinewidth": 0,
              "ticks": ""
             }
            },
            "type": "parcoords"
           }
          ],
          "pie": [
           {
            "automargin": true,
            "type": "pie"
           }
          ],
          "scatter": [
           {
            "fillpattern": {
             "fillmode": "overlay",
             "size": 10,
             "solidity": 0.2
            },
            "type": "scatter"
           }
          ],
          "scatter3d": [
           {
            "line": {
             "colorbar": {
              "outlinewidth": 0,
              "ticks": ""
             }
            },
            "marker": {
             "colorbar": {
              "outlinewidth": 0,
              "ticks": ""
             }
            },
            "type": "scatter3d"
           }
          ],
          "scattercarpet": [
           {
            "marker": {
             "colorbar": {
              "outlinewidth": 0,
              "ticks": ""
             }
            },
            "type": "scattercarpet"
           }
          ],
          "scattergeo": [
           {
            "marker": {
             "colorbar": {
              "outlinewidth": 0,
              "ticks": ""
             }
            },
            "type": "scattergeo"
           }
          ],
          "scattergl": [
           {
            "marker": {
             "colorbar": {
              "outlinewidth": 0,
              "ticks": ""
             }
            },
            "type": "scattergl"
           }
          ],
          "scattermapbox": [
           {
            "marker": {
             "colorbar": {
              "outlinewidth": 0,
              "ticks": ""
             }
            },
            "type": "scattermapbox"
           }
          ],
          "scatterpolar": [
           {
            "marker": {
             "colorbar": {
              "outlinewidth": 0,
              "ticks": ""
             }
            },
            "type": "scatterpolar"
           }
          ],
          "scatterpolargl": [
           {
            "marker": {
             "colorbar": {
              "outlinewidth": 0,
              "ticks": ""
             }
            },
            "type": "scatterpolargl"
           }
          ],
          "scatterternary": [
           {
            "marker": {
             "colorbar": {
              "outlinewidth": 0,
              "ticks": ""
             }
            },
            "type": "scatterternary"
           }
          ],
          "surface": [
           {
            "colorbar": {
             "outlinewidth": 0,
             "ticks": ""
            },
            "colorscale": [
             [
              0,
              "#0d0887"
             ],
             [
              0.1111111111111111,
              "#46039f"
             ],
             [
              0.2222222222222222,
              "#7201a8"
             ],
             [
              0.3333333333333333,
              "#9c179e"
             ],
             [
              0.4444444444444444,
              "#bd3786"
             ],
             [
              0.5555555555555556,
              "#d8576b"
             ],
             [
              0.6666666666666666,
              "#ed7953"
             ],
             [
              0.7777777777777778,
              "#fb9f3a"
             ],
             [
              0.8888888888888888,
              "#fdca26"
             ],
             [
              1,
              "#f0f921"
             ]
            ],
            "type": "surface"
           }
          ],
          "table": [
           {
            "cells": {
             "fill": {
              "color": "#EBF0F8"
             },
             "line": {
              "color": "white"
             }
            },
            "header": {
             "fill": {
              "color": "#C8D4E3"
             },
             "line": {
              "color": "white"
             }
            },
            "type": "table"
           }
          ]
         },
         "layout": {
          "annotationdefaults": {
           "arrowcolor": "#2a3f5f",
           "arrowhead": 0,
           "arrowwidth": 1
          },
          "autotypenumbers": "strict",
          "coloraxis": {
           "colorbar": {
            "outlinewidth": 0,
            "ticks": ""
           }
          },
          "colorscale": {
           "diverging": [
            [
             0,
             "#8e0152"
            ],
            [
             0.1,
             "#c51b7d"
            ],
            [
             0.2,
             "#de77ae"
            ],
            [
             0.3,
             "#f1b6da"
            ],
            [
             0.4,
             "#fde0ef"
            ],
            [
             0.5,
             "#f7f7f7"
            ],
            [
             0.6,
             "#e6f5d0"
            ],
            [
             0.7,
             "#b8e186"
            ],
            [
             0.8,
             "#7fbc41"
            ],
            [
             0.9,
             "#4d9221"
            ],
            [
             1,
             "#276419"
            ]
           ],
           "sequential": [
            [
             0,
             "#0d0887"
            ],
            [
             0.1111111111111111,
             "#46039f"
            ],
            [
             0.2222222222222222,
             "#7201a8"
            ],
            [
             0.3333333333333333,
             "#9c179e"
            ],
            [
             0.4444444444444444,
             "#bd3786"
            ],
            [
             0.5555555555555556,
             "#d8576b"
            ],
            [
             0.6666666666666666,
             "#ed7953"
            ],
            [
             0.7777777777777778,
             "#fb9f3a"
            ],
            [
             0.8888888888888888,
             "#fdca26"
            ],
            [
             1,
             "#f0f921"
            ]
           ],
           "sequentialminus": [
            [
             0,
             "#0d0887"
            ],
            [
             0.1111111111111111,
             "#46039f"
            ],
            [
             0.2222222222222222,
             "#7201a8"
            ],
            [
             0.3333333333333333,
             "#9c179e"
            ],
            [
             0.4444444444444444,
             "#bd3786"
            ],
            [
             0.5555555555555556,
             "#d8576b"
            ],
            [
             0.6666666666666666,
             "#ed7953"
            ],
            [
             0.7777777777777778,
             "#fb9f3a"
            ],
            [
             0.8888888888888888,
             "#fdca26"
            ],
            [
             1,
             "#f0f921"
            ]
           ]
          },
          "colorway": [
           "#636efa",
           "#EF553B",
           "#00cc96",
           "#ab63fa",
           "#FFA15A",
           "#19d3f3",
           "#FF6692",
           "#B6E880",
           "#FF97FF",
           "#FECB52"
          ],
          "font": {
           "color": "#2a3f5f"
          },
          "geo": {
           "bgcolor": "white",
           "lakecolor": "white",
           "landcolor": "#E5ECF6",
           "showlakes": true,
           "showland": true,
           "subunitcolor": "white"
          },
          "hoverlabel": {
           "align": "left"
          },
          "hovermode": "closest",
          "mapbox": {
           "style": "light"
          },
          "paper_bgcolor": "white",
          "plot_bgcolor": "#E5ECF6",
          "polar": {
           "angularaxis": {
            "gridcolor": "white",
            "linecolor": "white",
            "ticks": ""
           },
           "bgcolor": "#E5ECF6",
           "radialaxis": {
            "gridcolor": "white",
            "linecolor": "white",
            "ticks": ""
           }
          },
          "scene": {
           "xaxis": {
            "backgroundcolor": "#E5ECF6",
            "gridcolor": "white",
            "gridwidth": 2,
            "linecolor": "white",
            "showbackground": true,
            "ticks": "",
            "zerolinecolor": "white"
           },
           "yaxis": {
            "backgroundcolor": "#E5ECF6",
            "gridcolor": "white",
            "gridwidth": 2,
            "linecolor": "white",
            "showbackground": true,
            "ticks": "",
            "zerolinecolor": "white"
           },
           "zaxis": {
            "backgroundcolor": "#E5ECF6",
            "gridcolor": "white",
            "gridwidth": 2,
            "linecolor": "white",
            "showbackground": true,
            "ticks": "",
            "zerolinecolor": "white"
           }
          },
          "shapedefaults": {
           "line": {
            "color": "#2a3f5f"
           }
          },
          "ternary": {
           "aaxis": {
            "gridcolor": "white",
            "linecolor": "white",
            "ticks": ""
           },
           "baxis": {
            "gridcolor": "white",
            "linecolor": "white",
            "ticks": ""
           },
           "bgcolor": "#E5ECF6",
           "caxis": {
            "gridcolor": "white",
            "linecolor": "white",
            "ticks": ""
           }
          },
          "title": {
           "x": 0.05
          },
          "xaxis": {
           "automargin": true,
           "gridcolor": "white",
           "linecolor": "white",
           "ticks": "",
           "title": {
            "standoff": 15
           },
           "zerolinecolor": "white",
           "zerolinewidth": 2
          },
          "yaxis": {
           "automargin": true,
           "gridcolor": "white",
           "linecolor": "white",
           "ticks": "",
           "title": {
            "standoff": 15
           },
           "zerolinecolor": "white",
           "zerolinewidth": 2
          }
         }
        },
        "title": {
         "text": "RTT upload values in the dataset"
        },
        "xaxis": {
         "anchor": "y",
         "domain": [
          0,
          0.2888888888888889
         ]
        },
        "xaxis2": {
         "anchor": "y2",
         "domain": [
          0.35555555555555557,
          0.6444444444444445
         ]
        },
        "xaxis3": {
         "anchor": "y3",
         "domain": [
          0.7111111111111111,
          1
         ]
        },
        "yaxis": {
         "anchor": "x",
         "domain": [
          0,
          1
         ]
        },
        "yaxis2": {
         "anchor": "x2",
         "domain": [
          0,
          1
         ]
        },
        "yaxis3": {
         "anchor": "x3",
         "domain": [
          0,
          1
         ]
        }
       }
      }
     },
     "metadata": {},
     "output_type": "display_data"
    }
   ],
   "source": [
    "plotly_multi_hist([top_10_ul, bot_10_ul, freq_10_ul], 1, 3, \"RTT upload values in the dataset\", ['Top 10', 'Bottom 10', 'Most 10'])"
   ]
  },
  {
   "cell_type": "markdown",
   "metadata": {},
   "source": [
    "* Throughput values in the dataset"
   ]
  },
  {
   "cell_type": "code",
   "execution_count": 43,
   "metadata": {},
   "outputs": [],
   "source": [
    "through_put_dl = user_experience_df.sort_values('Avg Bearer TP DL (kbps)', ascending=False)\n",
    "through_put_ul = user_experience_df.sort_values('Avg Bearer TP UL (kbps)', ascending=False)\n",
    "\n",
    "top_10_dl = through_put_dl.head(10)\n",
    "bot_10_dl = through_put_dl.tail(10)\n",
    "freq_10_dl = through_put_dl['Avg Bearer TP DL (kbps)'].value_counts().head(10)\n",
    "\n",
    "top_10_ul = through_put_ul.head(10)\n",
    "bot_10_ul = through_put_ul.tail(10)\n",
    "freq_10_ul = through_put_ul['Avg Bearer TP UL (kbps)'].value_counts().head(10)"
   ]
  },
  {
   "cell_type": "markdown",
   "metadata": {},
   "source": [
    "### Compute & report"
   ]
  },
  {
   "cell_type": "markdown",
   "metadata": {},
   "source": [
    "* Distribution of the average throughput  per handset type"
   ]
  },
  {
   "cell_type": "markdown",
   "metadata": {},
   "source": [
    "* average TCP retransmission view per handset type"
   ]
  },
  {
   "cell_type": "markdown",
   "metadata": {},
   "source": [
    "###  Using the experience metrics above, perform a k-means clustering (where k = 3) to segment users into groups of experiences and provide a brief description of each cluster. (The description must define each group based on your understanding of the data)"
   ]
  }
 ],
 "metadata": {
  "kernelspec": {
   "display_name": "Python 3.10.5 64-bit",
   "language": "python",
   "name": "python3"
  },
  "language_info": {
   "codemirror_mode": {
    "name": "ipython",
    "version": 3
   },
   "file_extension": ".py",
   "mimetype": "text/x-python",
   "name": "python",
   "nbconvert_exporter": "python",
   "pygments_lexer": "ipython3",
   "version": "3.10.5"
  },
  "orig_nbformat": 4,
  "vscode": {
   "interpreter": {
    "hash": "a265634967a27dd555e8346f2355ee703e655fd7f0a0d20c168527cd0a3d5707"
   }
  }
 },
 "nbformat": 4,
 "nbformat_minor": 2
}
