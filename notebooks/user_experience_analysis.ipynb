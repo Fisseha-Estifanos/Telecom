{
 "cells": [
  {
   "cell_type": "code",
   "execution_count": 69,
   "metadata": {},
   "outputs": [],
   "source": [
    "# imports\n",
    "import pandas as pd\n",
    "import numpy as np\n",
    "import sys\n",
    "import os\n",
    "import matplotlib.pyplot as plt\n",
    "import seaborn as sns\n",
    "import plotly.express as px\n",
    "import plotly.graph_objects as go\n",
    "from plotly.subplots import make_subplots\n",
    "from IPython.display import Image"
   ]
  },
  {
   "cell_type": "code",
   "execution_count": 2,
   "metadata": {},
   "outputs": [],
   "source": [
    "# add paths and import scripts\n",
    "sys.path.append('.')\n",
    "sys.path.append('..')\n",
    "sys.path.insert(1,'../scripts')\n",
    "from dataCleaner import *\n",
    "from dataVisualizer import *"
   ]
  },
  {
   "cell_type": "code",
   "execution_count": 3,
   "metadata": {},
   "outputs": [
    {
     "data": {
      "text/html": [
       "<div>\n",
       "<style scoped>\n",
       "    .dataframe tbody tr th:only-of-type {\n",
       "        vertical-align: middle;\n",
       "    }\n",
       "\n",
       "    .dataframe tbody tr th {\n",
       "        vertical-align: top;\n",
       "    }\n",
       "\n",
       "    .dataframe thead th {\n",
       "        text-align: right;\n",
       "    }\n",
       "</style>\n",
       "<table border=\"1\" class=\"dataframe\">\n",
       "  <thead>\n",
       "    <tr style=\"text-align: right;\">\n",
       "      <th></th>\n",
       "      <th>Bearer Id</th>\n",
       "      <th>Start</th>\n",
       "      <th>Start ms</th>\n",
       "      <th>End</th>\n",
       "      <th>End ms</th>\n",
       "      <th>Dur. (ms)</th>\n",
       "      <th>IMSI</th>\n",
       "      <th>MSISDN/Number</th>\n",
       "      <th>IMEI</th>\n",
       "      <th>Last Location Name</th>\n",
       "      <th>...</th>\n",
       "      <th>total_youtube</th>\n",
       "      <th>total_netflix</th>\n",
       "      <th>total_social</th>\n",
       "      <th>total_other</th>\n",
       "      <th>fixed_dur</th>\n",
       "      <th>fixed_activity_dur_dl</th>\n",
       "      <th>fixed_activity_dur_ul</th>\n",
       "      <th>fixed_total_ul</th>\n",
       "      <th>total_data</th>\n",
       "      <th>decile</th>\n",
       "    </tr>\n",
       "  </thead>\n",
       "  <tbody>\n",
       "    <tr>\n",
       "      <th>0</th>\n",
       "      <td>1.311450e+19</td>\n",
       "      <td>2019-04-04 12:01:00</td>\n",
       "      <td>770.0</td>\n",
       "      <td>2019-04-25 14:35:00</td>\n",
       "      <td>662.0</td>\n",
       "      <td>86399.0</td>\n",
       "      <td>2.082010e+14</td>\n",
       "      <td>3.366496e+10</td>\n",
       "      <td>3.552120e+13</td>\n",
       "      <td>9.16457E+15</td>\n",
       "      <td>...</td>\n",
       "      <td>18355943.0</td>\n",
       "      <td>17855187.0</td>\n",
       "      <td>1570185.0</td>\n",
       "      <td>180558843.0</td>\n",
       "      <td>86399.0</td>\n",
       "      <td>37624.0</td>\n",
       "      <td>38787.0</td>\n",
       "      <td>36749741.0</td>\n",
       "      <td>345629377.0</td>\n",
       "      <td>(72290.0, 86399.0]</td>\n",
       "    </tr>\n",
       "    <tr>\n",
       "      <th>1</th>\n",
       "      <td>1.311450e+19</td>\n",
       "      <td>2019-04-09 13:04:00</td>\n",
       "      <td>235.0</td>\n",
       "      <td>2019-04-25 08:15:00</td>\n",
       "      <td>606.0</td>\n",
       "      <td>86399.0</td>\n",
       "      <td>2.082020e+14</td>\n",
       "      <td>3.368185e+10</td>\n",
       "      <td>3.579400e+13</td>\n",
       "      <td>L77566A</td>\n",
       "      <td>...</td>\n",
       "      <td>39359124.0</td>\n",
       "      <td>35565545.0</td>\n",
       "      <td>1933278.0</td>\n",
       "      <td>541959383.0</td>\n",
       "      <td>86399.0</td>\n",
       "      <td>168.0</td>\n",
       "      <td>3560.0</td>\n",
       "      <td>53800391.0</td>\n",
       "      <td>707185356.0</td>\n",
       "      <td>(72290.0, 86399.0]</td>\n",
       "    </tr>\n",
       "    <tr>\n",
       "      <th>2</th>\n",
       "      <td>1.311450e+19</td>\n",
       "      <td>2019-04-09 17:42:00</td>\n",
       "      <td>1.0</td>\n",
       "      <td>2019-04-25 11:58:00</td>\n",
       "      <td>652.0</td>\n",
       "      <td>86399.0</td>\n",
       "      <td>2.082000e+14</td>\n",
       "      <td>3.376063e+10</td>\n",
       "      <td>3.528150e+13</td>\n",
       "      <td>D42335A</td>\n",
       "      <td>...</td>\n",
       "      <td>34425237.0</td>\n",
       "      <td>23751202.0</td>\n",
       "      <td>1726277.0</td>\n",
       "      <td>414908351.0</td>\n",
       "      <td>86399.0</td>\n",
       "      <td>0.0</td>\n",
       "      <td>0.0</td>\n",
       "      <td>27883638.0</td>\n",
       "      <td>307690973.0</td>\n",
       "      <td>(72290.0, 86399.0]</td>\n",
       "    </tr>\n",
       "    <tr>\n",
       "      <th>3</th>\n",
       "      <td>1.311450e+19</td>\n",
       "      <td>2019-04-10 00:31:00</td>\n",
       "      <td>486.0</td>\n",
       "      <td>2019-04-25 07:36:00</td>\n",
       "      <td>171.0</td>\n",
       "      <td>86399.0</td>\n",
       "      <td>2.082010e+14</td>\n",
       "      <td>3.375034e+10</td>\n",
       "      <td>3.535660e+13</td>\n",
       "      <td>T21824A</td>\n",
       "      <td>...</td>\n",
       "      <td>36534765.0</td>\n",
       "      <td>15092588.0</td>\n",
       "      <td>657493.0</td>\n",
       "      <td>761837216.0</td>\n",
       "      <td>86399.0</td>\n",
       "      <td>3330.0</td>\n",
       "      <td>37882.0</td>\n",
       "      <td>43324218.0</td>\n",
       "      <td>889352748.0</td>\n",
       "      <td>(72290.0, 86399.0]</td>\n",
       "    </tr>\n",
       "    <tr>\n",
       "      <th>4</th>\n",
       "      <td>1.311450e+19</td>\n",
       "      <td>2019-04-12 20:10:00</td>\n",
       "      <td>565.0</td>\n",
       "      <td>2019-04-25 10:40:00</td>\n",
       "      <td>954.0</td>\n",
       "      <td>86399.0</td>\n",
       "      <td>2.082010e+14</td>\n",
       "      <td>3.369980e+10</td>\n",
       "      <td>3.540700e+13</td>\n",
       "      <td>D88865A</td>\n",
       "      <td>...</td>\n",
       "      <td>34222253.0</td>\n",
       "      <td>17539799.0</td>\n",
       "      <td>912788.0</td>\n",
       "      <td>564619822.0</td>\n",
       "      <td>86399.0</td>\n",
       "      <td>0.0</td>\n",
       "      <td>0.0</td>\n",
       "      <td>38542814.0</td>\n",
       "      <td>607681403.0</td>\n",
       "      <td>(72290.0, 86399.0]</td>\n",
       "    </tr>\n",
       "    <tr>\n",
       "      <th>...</th>\n",
       "      <td>...</td>\n",
       "      <td>...</td>\n",
       "      <td>...</td>\n",
       "      <td>...</td>\n",
       "      <td>...</td>\n",
       "      <td>...</td>\n",
       "      <td>...</td>\n",
       "      <td>...</td>\n",
       "      <td>...</td>\n",
       "      <td>...</td>\n",
       "      <td>...</td>\n",
       "      <td>...</td>\n",
       "      <td>...</td>\n",
       "      <td>...</td>\n",
       "      <td>...</td>\n",
       "      <td>...</td>\n",
       "      <td>...</td>\n",
       "      <td>...</td>\n",
       "      <td>...</td>\n",
       "      <td>...</td>\n",
       "      <td>...</td>\n",
       "    </tr>\n",
       "    <tr>\n",
       "      <th>149995</th>\n",
       "      <td>1.304240e+19</td>\n",
       "      <td>2019-04-29 07:28:00</td>\n",
       "      <td>615.0</td>\n",
       "      <td>2019-04-30 00:01:00</td>\n",
       "      <td>407.0</td>\n",
       "      <td>59587.0</td>\n",
       "      <td>2.082010e+14</td>\n",
       "      <td>3.366865e+10</td>\n",
       "      <td>3.533250e+13</td>\n",
       "      <td>T85721A</td>\n",
       "      <td>...</td>\n",
       "      <td>24553645.0</td>\n",
       "      <td>29618711.0</td>\n",
       "      <td>993175.0</td>\n",
       "      <td>336273648.0</td>\n",
       "      <td>59587.0</td>\n",
       "      <td>3380381.0</td>\n",
       "      <td>2355730.0</td>\n",
       "      <td>53745392.0</td>\n",
       "      <td>872761860.0</td>\n",
       "      <td>(45959.8, 72290.0]</td>\n",
       "    </tr>\n",
       "    <tr>\n",
       "      <th>149996</th>\n",
       "      <td>7.277830e+18</td>\n",
       "      <td>2019-04-29 07:28:00</td>\n",
       "      <td>451.0</td>\n",
       "      <td>2019-04-30 06:02:00</td>\n",
       "      <td>214.0</td>\n",
       "      <td>81230.0</td>\n",
       "      <td>2.082020e+14</td>\n",
       "      <td>3.365069e+10</td>\n",
       "      <td>3.548310e+13</td>\n",
       "      <td>D20434A</td>\n",
       "      <td>...</td>\n",
       "      <td>27955095.0</td>\n",
       "      <td>37561864.0</td>\n",
       "      <td>3517065.0</td>\n",
       "      <td>16751926.0</td>\n",
       "      <td>81230.0</td>\n",
       "      <td>42376.0</td>\n",
       "      <td>41915.0</td>\n",
       "      <td>57628851.0</td>\n",
       "      <td>631804110.0</td>\n",
       "      <td>(72290.0, 86399.0]</td>\n",
       "    </tr>\n",
       "    <tr>\n",
       "      <th>149997</th>\n",
       "      <td>7.349880e+18</td>\n",
       "      <td>2019-04-29 07:28:00</td>\n",
       "      <td>483.0</td>\n",
       "      <td>2019-04-30 10:41:00</td>\n",
       "      <td>187.0</td>\n",
       "      <td>97970.0</td>\n",
       "      <td>2.082020e+14</td>\n",
       "      <td>3.366345e+10</td>\n",
       "      <td>3.566050e+13</td>\n",
       "      <td>D10223C</td>\n",
       "      <td>...</td>\n",
       "      <td>22165518.0</td>\n",
       "      <td>40643294.0</td>\n",
       "      <td>2352181.0</td>\n",
       "      <td>714638145.0</td>\n",
       "      <td>97970.0</td>\n",
       "      <td>17264.0</td>\n",
       "      <td>16759.0</td>\n",
       "      <td>39135081.0</td>\n",
       "      <td>705783925.0</td>\n",
       "      <td>(86400.0, 101468.0]</td>\n",
       "    </tr>\n",
       "    <tr>\n",
       "      <th>149998</th>\n",
       "      <td>1.311450e+19</td>\n",
       "      <td>2019-04-29 07:28:00</td>\n",
       "      <td>283.0</td>\n",
       "      <td>2019-04-30 10:46:00</td>\n",
       "      <td>810.0</td>\n",
       "      <td>98249.0</td>\n",
       "      <td>2.082020e+14</td>\n",
       "      <td>3.362189e+10</td>\n",
       "      <td>3.572120e+13</td>\n",
       "      <td>T51102A</td>\n",
       "      <td>...</td>\n",
       "      <td>24516413.0</td>\n",
       "      <td>15029702.0</td>\n",
       "      <td>1260239.0</td>\n",
       "      <td>132415585.0</td>\n",
       "      <td>98249.0</td>\n",
       "      <td>25003.0</td>\n",
       "      <td>28640.0</td>\n",
       "      <td>34912224.0</td>\n",
       "      <td>627698629.0</td>\n",
       "      <td>(86400.0, 101468.0]</td>\n",
       "    </tr>\n",
       "    <tr>\n",
       "      <th>149999</th>\n",
       "      <td>1.311450e+19</td>\n",
       "      <td>2019-04-29 07:28:00</td>\n",
       "      <td>696.0</td>\n",
       "      <td>2019-04-30 10:40:00</td>\n",
       "      <td>327.0</td>\n",
       "      <td>97910.0</td>\n",
       "      <td>2.082020e+14</td>\n",
       "      <td>3.361962e+10</td>\n",
       "      <td>8.618620e+13</td>\n",
       "      <td>L88342B</td>\n",
       "      <td>...</td>\n",
       "      <td>17122508.0</td>\n",
       "      <td>16494842.0</td>\n",
       "      <td>823109.0</td>\n",
       "      <td>816120043.0</td>\n",
       "      <td>97910.0</td>\n",
       "      <td>13405.0</td>\n",
       "      <td>34088.0</td>\n",
       "      <td>29626096.0</td>\n",
       "      <td>401522016.0</td>\n",
       "      <td>(86400.0, 101468.0]</td>\n",
       "    </tr>\n",
       "  </tbody>\n",
       "</table>\n",
       "<p>150000 rows × 68 columns</p>\n",
       "</div>"
      ],
      "text/plain": [
       "           Bearer Id                Start  Start ms                  End  \\\n",
       "0       1.311450e+19  2019-04-04 12:01:00     770.0  2019-04-25 14:35:00   \n",
       "1       1.311450e+19  2019-04-09 13:04:00     235.0  2019-04-25 08:15:00   \n",
       "2       1.311450e+19  2019-04-09 17:42:00       1.0  2019-04-25 11:58:00   \n",
       "3       1.311450e+19  2019-04-10 00:31:00     486.0  2019-04-25 07:36:00   \n",
       "4       1.311450e+19  2019-04-12 20:10:00     565.0  2019-04-25 10:40:00   \n",
       "...              ...                  ...       ...                  ...   \n",
       "149995  1.304240e+19  2019-04-29 07:28:00     615.0  2019-04-30 00:01:00   \n",
       "149996  7.277830e+18  2019-04-29 07:28:00     451.0  2019-04-30 06:02:00   \n",
       "149997  7.349880e+18  2019-04-29 07:28:00     483.0  2019-04-30 10:41:00   \n",
       "149998  1.311450e+19  2019-04-29 07:28:00     283.0  2019-04-30 10:46:00   \n",
       "149999  1.311450e+19  2019-04-29 07:28:00     696.0  2019-04-30 10:40:00   \n",
       "\n",
       "        End ms  Dur. (ms)          IMSI  MSISDN/Number          IMEI  \\\n",
       "0        662.0    86399.0  2.082010e+14   3.366496e+10  3.552120e+13   \n",
       "1        606.0    86399.0  2.082020e+14   3.368185e+10  3.579400e+13   \n",
       "2        652.0    86399.0  2.082000e+14   3.376063e+10  3.528150e+13   \n",
       "3        171.0    86399.0  2.082010e+14   3.375034e+10  3.535660e+13   \n",
       "4        954.0    86399.0  2.082010e+14   3.369980e+10  3.540700e+13   \n",
       "...        ...        ...           ...            ...           ...   \n",
       "149995   407.0    59587.0  2.082010e+14   3.366865e+10  3.533250e+13   \n",
       "149996   214.0    81230.0  2.082020e+14   3.365069e+10  3.548310e+13   \n",
       "149997   187.0    97970.0  2.082020e+14   3.366345e+10  3.566050e+13   \n",
       "149998   810.0    98249.0  2.082020e+14   3.362189e+10  3.572120e+13   \n",
       "149999   327.0    97910.0  2.082020e+14   3.361962e+10  8.618620e+13   \n",
       "\n",
       "       Last Location Name  ...  total_youtube  total_netflix  total_social  \\\n",
       "0             9.16457E+15  ...     18355943.0     17855187.0     1570185.0   \n",
       "1                 L77566A  ...     39359124.0     35565545.0     1933278.0   \n",
       "2                 D42335A  ...     34425237.0     23751202.0     1726277.0   \n",
       "3                 T21824A  ...     36534765.0     15092588.0      657493.0   \n",
       "4                 D88865A  ...     34222253.0     17539799.0      912788.0   \n",
       "...                   ...  ...            ...            ...           ...   \n",
       "149995            T85721A  ...     24553645.0     29618711.0      993175.0   \n",
       "149996            D20434A  ...     27955095.0     37561864.0     3517065.0   \n",
       "149997            D10223C  ...     22165518.0     40643294.0     2352181.0   \n",
       "149998            T51102A  ...     24516413.0     15029702.0     1260239.0   \n",
       "149999            L88342B  ...     17122508.0     16494842.0      823109.0   \n",
       "\n",
       "        total_other  fixed_dur  fixed_activity_dur_dl  fixed_activity_dur_ul  \\\n",
       "0       180558843.0    86399.0                37624.0                38787.0   \n",
       "1       541959383.0    86399.0                  168.0                 3560.0   \n",
       "2       414908351.0    86399.0                    0.0                    0.0   \n",
       "3       761837216.0    86399.0                 3330.0                37882.0   \n",
       "4       564619822.0    86399.0                    0.0                    0.0   \n",
       "...             ...        ...                    ...                    ...   \n",
       "149995  336273648.0    59587.0              3380381.0              2355730.0   \n",
       "149996   16751926.0    81230.0                42376.0                41915.0   \n",
       "149997  714638145.0    97970.0                17264.0                16759.0   \n",
       "149998  132415585.0    98249.0                25003.0                28640.0   \n",
       "149999  816120043.0    97910.0                13405.0                34088.0   \n",
       "\n",
       "        fixed_total_ul   total_data               decile  \n",
       "0           36749741.0  345629377.0   (72290.0, 86399.0]  \n",
       "1           53800391.0  707185356.0   (72290.0, 86399.0]  \n",
       "2           27883638.0  307690973.0   (72290.0, 86399.0]  \n",
       "3           43324218.0  889352748.0   (72290.0, 86399.0]  \n",
       "4           38542814.0  607681403.0   (72290.0, 86399.0]  \n",
       "...                ...          ...                  ...  \n",
       "149995      53745392.0  872761860.0   (45959.8, 72290.0]  \n",
       "149996      57628851.0  631804110.0   (72290.0, 86399.0]  \n",
       "149997      39135081.0  705783925.0  (86400.0, 101468.0]  \n",
       "149998      34912224.0  627698629.0  (86400.0, 101468.0]  \n",
       "149999      29626096.0  401522016.0  (86400.0, 101468.0]  \n",
       "\n",
       "[150000 rows x 68 columns]"
      ]
     },
     "execution_count": 3,
     "metadata": {},
     "output_type": "execute_result"
    }
   ],
   "source": [
    "# read the dataset\n",
    "df = pd.read_csv('../data/Week1_challenge_data_source_filled.csv.bz2')\n",
    "df"
   ]
  },
  {
   "cell_type": "code",
   "execution_count": 4,
   "metadata": {},
   "outputs": [
    {
     "name": "stdout",
     "output_type": "stream",
     "text": [
      "Data cleaner in action.\n",
      "Data visualizer in action.\n"
     ]
    }
   ],
   "source": [
    "cleaner = dataCleaner(df)\n",
    "visualizer = dataVisualizer()"
   ]
  },
  {
   "cell_type": "markdown",
   "metadata": {},
   "source": [
    "# User experience analysis"
   ]
  },
  {
   "cell_type": "markdown",
   "metadata": {},
   "source": [
    "### Aggregate, per customer, the following information"
   ]
  },
  {
   "cell_type": "code",
   "execution_count": 12,
   "metadata": {},
   "outputs": [
    {
     "data": {
      "text/html": [
       "<div>\n",
       "<style scoped>\n",
       "    .dataframe tbody tr th:only-of-type {\n",
       "        vertical-align: middle;\n",
       "    }\n",
       "\n",
       "    .dataframe tbody tr th {\n",
       "        vertical-align: top;\n",
       "    }\n",
       "\n",
       "    .dataframe thead th {\n",
       "        text-align: right;\n",
       "    }\n",
       "</style>\n",
       "<table border=\"1\" class=\"dataframe\">\n",
       "  <thead>\n",
       "    <tr style=\"text-align: right;\">\n",
       "      <th></th>\n",
       "      <th>MSISDN/Number</th>\n",
       "      <th>TCP DL Retrans. Vol (Bytes)</th>\n",
       "      <th>TCP UL Retrans. Vol (Bytes)</th>\n",
       "      <th>Avg RTT DL (ms)</th>\n",
       "      <th>Avg RTT UL (ms)</th>\n",
       "      <th>Handset Type</th>\n",
       "      <th>Avg Bearer TP DL (kbps)</th>\n",
       "      <th>Avg Bearer TP UL (kbps)</th>\n",
       "    </tr>\n",
       "  </thead>\n",
       "  <tbody>\n",
       "    <tr>\n",
       "      <th>0</th>\n",
       "      <td>3.366496e+10</td>\n",
       "      <td>568730.0</td>\n",
       "      <td>20949.5</td>\n",
       "      <td>42.0</td>\n",
       "      <td>5.0</td>\n",
       "      <td>Samsung Galaxy A5 Sm-A520F</td>\n",
       "      <td>23.0</td>\n",
       "      <td>44.0</td>\n",
       "    </tr>\n",
       "    <tr>\n",
       "      <th>1</th>\n",
       "      <td>3.368185e+10</td>\n",
       "      <td>568730.0</td>\n",
       "      <td>20949.5</td>\n",
       "      <td>65.0</td>\n",
       "      <td>5.0</td>\n",
       "      <td>Samsung Galaxy J5 (Sm-J530)</td>\n",
       "      <td>16.0</td>\n",
       "      <td>26.0</td>\n",
       "    </tr>\n",
       "    <tr>\n",
       "      <th>2</th>\n",
       "      <td>3.376063e+10</td>\n",
       "      <td>568730.0</td>\n",
       "      <td>20949.5</td>\n",
       "      <td>45.0</td>\n",
       "      <td>5.0</td>\n",
       "      <td>Samsung Galaxy A8 (2018)</td>\n",
       "      <td>6.0</td>\n",
       "      <td>9.0</td>\n",
       "    </tr>\n",
       "    <tr>\n",
       "      <th>3</th>\n",
       "      <td>3.375034e+10</td>\n",
       "      <td>568730.0</td>\n",
       "      <td>20949.5</td>\n",
       "      <td>45.0</td>\n",
       "      <td>5.0</td>\n",
       "      <td>Huawei B528S-23A</td>\n",
       "      <td>44.0</td>\n",
       "      <td>44.0</td>\n",
       "    </tr>\n",
       "    <tr>\n",
       "      <th>4</th>\n",
       "      <td>3.369980e+10</td>\n",
       "      <td>568730.0</td>\n",
       "      <td>20949.5</td>\n",
       "      <td>45.0</td>\n",
       "      <td>5.0</td>\n",
       "      <td>Samsung Sm-G390F</td>\n",
       "      <td>6.0</td>\n",
       "      <td>9.0</td>\n",
       "    </tr>\n",
       "    <tr>\n",
       "      <th>...</th>\n",
       "      <td>...</td>\n",
       "      <td>...</td>\n",
       "      <td>...</td>\n",
       "      <td>...</td>\n",
       "      <td>...</td>\n",
       "      <td>...</td>\n",
       "      <td>...</td>\n",
       "      <td>...</td>\n",
       "    </tr>\n",
       "    <tr>\n",
       "      <th>149995</th>\n",
       "      <td>3.366865e+10</td>\n",
       "      <td>16552848.0</td>\n",
       "      <td>162614.0</td>\n",
       "      <td>313.0</td>\n",
       "      <td>9.0</td>\n",
       "      <td>Huawei B528S-23A</td>\n",
       "      <td>63420.0</td>\n",
       "      <td>1393.0</td>\n",
       "    </tr>\n",
       "    <tr>\n",
       "      <th>149996</th>\n",
       "      <td>3.365069e+10</td>\n",
       "      <td>568730.0</td>\n",
       "      <td>20949.5</td>\n",
       "      <td>32.0</td>\n",
       "      <td>0.0</td>\n",
       "      <td>Apple iPhone 8 Plus (A1897)</td>\n",
       "      <td>52.0</td>\n",
       "      <td>65.0</td>\n",
       "    </tr>\n",
       "    <tr>\n",
       "      <th>149997</th>\n",
       "      <td>3.366345e+10</td>\n",
       "      <td>568730.0</td>\n",
       "      <td>20949.5</td>\n",
       "      <td>27.0</td>\n",
       "      <td>2.0</td>\n",
       "      <td>Apple iPhone Se (A1723)</td>\n",
       "      <td>23.0</td>\n",
       "      <td>54.0</td>\n",
       "    </tr>\n",
       "    <tr>\n",
       "      <th>149998</th>\n",
       "      <td>3.362189e+10</td>\n",
       "      <td>568730.0</td>\n",
       "      <td>20949.5</td>\n",
       "      <td>43.0</td>\n",
       "      <td>6.0</td>\n",
       "      <td>Apple iPhone Xs (A2097)</td>\n",
       "      <td>43.0</td>\n",
       "      <td>47.0</td>\n",
       "    </tr>\n",
       "    <tr>\n",
       "      <th>149999</th>\n",
       "      <td>3.361962e+10</td>\n",
       "      <td>568730.0</td>\n",
       "      <td>20949.5</td>\n",
       "      <td>37.0</td>\n",
       "      <td>5.0</td>\n",
       "      <td>Huawei Fig-Lx1</td>\n",
       "      <td>34.0</td>\n",
       "      <td>37.0</td>\n",
       "    </tr>\n",
       "  </tbody>\n",
       "</table>\n",
       "<p>150000 rows × 8 columns</p>\n",
       "</div>"
      ],
      "text/plain": [
       "        MSISDN/Number  TCP DL Retrans. Vol (Bytes)  \\\n",
       "0        3.366496e+10                     568730.0   \n",
       "1        3.368185e+10                     568730.0   \n",
       "2        3.376063e+10                     568730.0   \n",
       "3        3.375034e+10                     568730.0   \n",
       "4        3.369980e+10                     568730.0   \n",
       "...               ...                          ...   \n",
       "149995   3.366865e+10                   16552848.0   \n",
       "149996   3.365069e+10                     568730.0   \n",
       "149997   3.366345e+10                     568730.0   \n",
       "149998   3.362189e+10                     568730.0   \n",
       "149999   3.361962e+10                     568730.0   \n",
       "\n",
       "        TCP UL Retrans. Vol (Bytes)  Avg RTT DL (ms)  Avg RTT UL (ms)  \\\n",
       "0                           20949.5             42.0              5.0   \n",
       "1                           20949.5             65.0              5.0   \n",
       "2                           20949.5             45.0              5.0   \n",
       "3                           20949.5             45.0              5.0   \n",
       "4                           20949.5             45.0              5.0   \n",
       "...                             ...              ...              ...   \n",
       "149995                     162614.0            313.0              9.0   \n",
       "149996                      20949.5             32.0              0.0   \n",
       "149997                      20949.5             27.0              2.0   \n",
       "149998                      20949.5             43.0              6.0   \n",
       "149999                      20949.5             37.0              5.0   \n",
       "\n",
       "                       Handset Type  Avg Bearer TP DL (kbps)  \\\n",
       "0        Samsung Galaxy A5 Sm-A520F                     23.0   \n",
       "1       Samsung Galaxy J5 (Sm-J530)                     16.0   \n",
       "2          Samsung Galaxy A8 (2018)                      6.0   \n",
       "3                  Huawei B528S-23A                     44.0   \n",
       "4                  Samsung Sm-G390F                      6.0   \n",
       "...                             ...                      ...   \n",
       "149995             Huawei B528S-23A                  63420.0   \n",
       "149996  Apple iPhone 8 Plus (A1897)                     52.0   \n",
       "149997      Apple iPhone Se (A1723)                     23.0   \n",
       "149998      Apple iPhone Xs (A2097)                     43.0   \n",
       "149999               Huawei Fig-Lx1                     34.0   \n",
       "\n",
       "        Avg Bearer TP UL (kbps)  \n",
       "0                          44.0  \n",
       "1                          26.0  \n",
       "2                           9.0  \n",
       "3                          44.0  \n",
       "4                           9.0  \n",
       "...                         ...  \n",
       "149995                   1393.0  \n",
       "149996                     65.0  \n",
       "149997                     54.0  \n",
       "149998                     47.0  \n",
       "149999                     37.0  \n",
       "\n",
       "[150000 rows x 8 columns]"
      ]
     },
     "execution_count": 12,
     "metadata": {},
     "output_type": "execute_result"
    }
   ],
   "source": [
    "# defining the user experience data frame\n",
    "user_experience_df = df[['MSISDN/Number', 'TCP DL Retrans. Vol (Bytes)', 'TCP UL Retrans. Vol (Bytes)', 'Avg RTT DL (ms)', 'Avg RTT UL (ms)', 'Handset Type', 'Avg Bearer TP DL (kbps)', 'Avg Bearer TP UL (kbps)']]\n",
    "user_experience_df"
   ]
  },
  {
   "cell_type": "markdown",
   "metadata": {},
   "source": [
    "* Average TCP retransmission"
   ]
  },
  {
   "cell_type": "code",
   "execution_count": 24,
   "metadata": {},
   "outputs": [
    {
     "name": "stdout",
     "output_type": "stream",
     "text": [
      "Average TCP download retransmission per user\n",
      " MSISDN/Number\n",
      "3.360100e+10     568730.0\n",
      "3.360100e+10     568730.0\n",
      "3.360100e+10     568730.0\n",
      "3.360101e+10       1066.0\n",
      "3.360101e+10    4959180.0\n",
      "                  ...    \n",
      "3.379000e+10     215044.0\n",
      "3.379000e+10     568730.0\n",
      "3.197020e+12     568730.0\n",
      "3.370000e+14     568730.0\n",
      "8.823970e+14     568730.0\n",
      "Name: TCP DL Retrans. Vol (Bytes), Length: 106856, dtype: float64\n",
      "\n",
      "Average TCP upload retransmission per user\n",
      " MSISDN/Number\n",
      "3.360100e+10    20949.50\n",
      "3.360100e+10    20949.50\n",
      "3.360100e+10    20949.50\n",
      "3.360101e+10    20949.50\n",
      "3.360101e+10    21075.75\n",
      "                  ...   \n",
      "3.379000e+10     3001.00\n",
      "3.379000e+10    20949.50\n",
      "3.197020e+12    20949.50\n",
      "3.370000e+14    20949.50\n",
      "8.823970e+14    20949.50\n",
      "Name: TCP UL Retrans. Vol (Bytes), Length: 106856, dtype: float64\n"
     ]
    }
   ],
   "source": [
    "print(f\"Average TCP download retransmission per user\\n {user_experience_df.groupby('MSISDN/Number').agg('TCP DL Retrans. Vol (Bytes)').mean()}\")\n",
    "print(f\"\\nAverage TCP upload retransmission per user\\n {user_experience_df.groupby('MSISDN/Number').agg('TCP UL Retrans. Vol (Bytes)').mean()}\")"
   ]
  },
  {
   "cell_type": "markdown",
   "metadata": {},
   "source": [
    "* Average RTT"
   ]
  },
  {
   "cell_type": "code",
   "execution_count": 27,
   "metadata": {},
   "outputs": [
    {
     "name": "stdout",
     "output_type": "stream",
     "text": [
      "Average download round trip time (RTT) per user\n",
      " MSISDN/Number\n",
      "3.360100e+10    46.0\n",
      "3.360100e+10    30.0\n",
      "3.360100e+10    45.0\n",
      "3.360101e+10    69.0\n",
      "3.360101e+10    57.0\n",
      "                ... \n",
      "3.379000e+10    42.0\n",
      "3.379000e+10    34.0\n",
      "3.197020e+12    45.0\n",
      "3.370000e+14    45.0\n",
      "8.823970e+14    45.0\n",
      "Name: Avg RTT DL (ms), Length: 106856, dtype: float64\n",
      "\n",
      "Average upload round trip time (RTT) per user\n",
      " MSISDN/Number\n",
      "3.360100e+10     0.0\n",
      "3.360100e+10     1.0\n",
      "3.360100e+10     5.0\n",
      "3.360101e+10    15.0\n",
      "3.360101e+10     2.5\n",
      "                ... \n",
      "3.379000e+10    10.0\n",
      "3.379000e+10     6.0\n",
      "3.197020e+12     5.0\n",
      "3.370000e+14     5.0\n",
      "8.823970e+14     5.0\n",
      "Name: Avg RTT UL (ms), Length: 106856, dtype: float64\n"
     ]
    }
   ],
   "source": [
    "print(f\"Average download round trip time (RTT) per user\\n {user_experience_df.groupby('MSISDN/Number').agg('Avg RTT DL (ms)').mean()}\")\n",
    "print(f\"\\nAverage upload round trip time (RTT) per user\\n {user_experience_df.groupby('MSISDN/Number').agg('Avg RTT UL (ms)').mean()}\")"
   ]
  },
  {
   "cell_type": "markdown",
   "metadata": {},
   "source": [
    "* Handset type"
   ]
  },
  {
   "cell_type": "code",
   "execution_count": 34,
   "metadata": {},
   "outputs": [
    {
     "name": "stdout",
     "output_type": "stream",
     "text": [
      "\n",
      "Average handset types per user\n",
      "                                    Handset Type\n",
      "                                       <lambda>\n",
      "MSISDN/Number                                  \n",
      "3.360100e+10     Huawei P20 Lite Huawei Nova 3E\n",
      "3.360100e+10             Apple iPhone 7 (A1778)\n",
      "3.360100e+10                   Huawei B528S-23A\n",
      "3.360101e+10            Apple iPhone 5S (A1457)\n",
      "3.360101e+10            Apple iPhone Se (A1723)\n",
      "...                                         ...\n",
      "3.379000e+10                Huawei Honor 9 Lite\n",
      "3.379000e+10        Apple iPhone 8 Plus (A1897)\n",
      "3.197020e+12   Quectel Wireless. Quectel Ec25-E\n",
      "3.370000e+14                   Huawei B525S-23A\n",
      "8.823970e+14   Quectel Wireless. Quectel Ec21-E\n",
      "\n",
      "[106856 rows x 1 columns]\n"
     ]
    }
   ],
   "source": [
    "print(f\"\\Most used handset types per user\\n {user_experience_df.groupby('MSISDN/Number').agg({'Handset Type':[lambda x:x.mode()[0]]})}\")"
   ]
  },
  {
   "cell_type": "markdown",
   "metadata": {},
   "source": [
    "* Average throughput"
   ]
  },
  {
   "cell_type": "code",
   "execution_count": 30,
   "metadata": {},
   "outputs": [
    {
     "name": "stdout",
     "output_type": "stream",
     "text": [
      "Average download throughput per user\n",
      " MSISDN/Number\n",
      "3.360100e+10       37.0\n",
      "3.360100e+10       48.0\n",
      "3.360100e+10       48.0\n",
      "3.360101e+10      204.0\n",
      "3.360101e+10    20197.5\n",
      "                 ...   \n",
      "3.379000e+10     9978.0\n",
      "3.379000e+10       68.0\n",
      "3.197020e+12        1.0\n",
      "3.370000e+14       11.0\n",
      "8.823970e+14        2.0\n",
      "Name: Avg Bearer TP DL (kbps), Length: 106856, dtype: float64\n",
      "\n",
      "Average upload throughput per user\n",
      " MSISDN/Number\n",
      "3.360100e+10      39.0\n",
      "3.360100e+10      51.0\n",
      "3.360100e+10      49.0\n",
      "3.360101e+10      44.0\n",
      "3.360101e+10    8224.5\n",
      "                 ...  \n",
      "3.379000e+10     387.0\n",
      "3.379000e+10      48.0\n",
      "3.197020e+12       0.0\n",
      "3.370000e+14      22.0\n",
      "8.823970e+14       0.0\n",
      "Name: Avg Bearer TP UL (kbps), Length: 106856, dtype: float64\n"
     ]
    }
   ],
   "source": [
    "print(f\"Average download throughput per user\\n {user_experience_df.groupby('MSISDN/Number').agg('Avg Bearer TP DL (kbps)').mean()}\")\n",
    "print(f\"\\nAverage upload throughput per user\\n {user_experience_df.groupby('MSISDN/Number').agg('Avg Bearer TP UL (kbps)').mean()}\")"
   ]
  },
  {
   "cell_type": "markdown",
   "metadata": {},
   "source": [
    "### Compute & list 10 of the top, bottom and most frequent"
   ]
  },
  {
   "cell_type": "code",
   "execution_count": 59,
   "metadata": {},
   "outputs": [],
   "source": [
    "# plot the top, bottom and frequent 10\n",
    "def plotly_multi_hist(sr, rows, cols, title_text, subplot_titles):\n",
    "  fig = make_subplots(rows=rows, cols=cols, subplot_titles=subplot_titles)\n",
    "  for i in range(rows):\n",
    "    for j in range(cols):\n",
    "      x = [\"-> \" + str(i) for i in sr[i+j].index]\n",
    "      fig.add_trace(go.Bar(x=x, y=sr[i+j].values ), row=i+1, col=j+1)\n",
    "  fig.update_layout(showlegend=False, title_text=title_text)\n",
    "  fig.show()"
   ]
  },
  {
   "cell_type": "markdown",
   "metadata": {},
   "source": [
    "* TCP values in the dataset"
   ]
  },
  {
   "cell_type": "code",
   "execution_count": 60,
   "metadata": {},
   "outputs": [],
   "source": [
    "tcp_dl = user_experience_df.sort_values('TCP DL Retrans. Vol (Bytes)', ascending=False)\n",
    "tcp_ul = user_experience_df.sort_values('TCP UL Retrans. Vol (Bytes)', ascending=False)\n",
    "\n",
    "top_10_dl = tcp_dl.head(10)\n",
    "bot_10_dl = tcp_dl.tail(10)\n",
    "freq_10_dl = tcp_dl['TCP DL Retrans. Vol (Bytes)'].value_counts().head(10)\n",
    "\n",
    "top_10_ul = tcp_ul.head(10)\n",
    "bot_10_ul = tcp_ul.tail(10)\n",
    "freq_10_ul = tcp_ul['TCP UL Retrans. Vol (Bytes)'].value_counts().head(10)"
   ]
  },
  {
   "cell_type": "code",
   "execution_count": 61,
   "metadata": {},
   "outputs": [
    {
     "data": {
      "application/vnd.plotly.v1+json": {
       "config": {
        "plotlyServerURL": "https://plot.ly"
       },
       "data": [
        {
         "type": "bar",
         "x": [
          "-> 77950",
          "-> 135677",
          "-> 34636",
          "-> 140797",
          "-> 3741",
          "-> 119667",
          "-> 39608",
          "-> 76971",
          "-> 59011",
          "-> 41182"
         ],
         "xaxis": "x",
         "y": [
          [
           33762109416,
           4294425570,
           6395,
           82,
           34,
           "Huawei B528S-23A",
           109008,
           3032
          ],
          [
           33658718266,
           4291380336,
           84614,
           105,
           28,
           "Huawei B528S-23A",
           47467,
           8294
          ],
          [
           33660452751,
           4289876615,
           54239036,
           64,
           46,
           "Huawei B528S-23A",
           168898,
           16444
          ],
          [
           33698575965,
           4289487601,
           11989838,
           244,
           242,
           "Huawei B528S-23A",
           26456,
           5310
          ],
          [
           33658706088,
           4288060364,
           60496,
           62,
           19,
           "Huawei B528S-23A",
           80994,
           13188
          ],
          [
           33664689058,
           4275259349,
           232364,
           462,
           30,
           "Huawei B528S-23A",
           48106,
           7746
          ],
          [
           33664907178,
           4268431996,
           215354,
           305,
           148,
           "Huawei B528S-23A",
           52901,
           2308
          ],
          [
           33658281911,
           4259996826,
           177319,
           79,
           40,
           "Huawei B528S-23A",
           45913,
           2926
          ],
          [
           33762333446,
           4256650017,
           4966022,
           73,
           40,
           "Huawei B528S-23A",
           54241,
           2570
          ],
          [
           33658633234,
           4254643827,
           15816,
           61,
           27,
           "Huawei B528S-23A",
           87516,
           29617
          ]
         ],
         "yaxis": "y"
        },
        {
         "type": "bar",
         "x": [
          "-> 143707",
          "-> 143429",
          "-> 39582",
          "-> 2818",
          "-> 52480",
          "-> 100305",
          "-> 75082",
          "-> 60417",
          "-> 125088",
          "-> 59708"
         ],
         "xaxis": "x2",
         "y": [
          [
           33669309035,
           4,
           20949.5,
           32,
           11,
           "Zte Mf259",
           16,
           144
          ],
          [
           33761619710,
           4,
           20949.5,
           47,
           7,
           "Zte Mf259",
           9,
           178
          ],
          [
           33761544858,
           4,
           1318,
           63,
           1,
           "Zte Mf259",
           6,
           60
          ],
          [
           33699060950,
           4,
           20949.5,
           37,
           8,
           "Zte Mf259",
           16,
           143
          ],
          [
           33763938150,
           4,
           95464,
           28,
           18,
           "Zte Mf259",
           11,
           175
          ],
          [
           33669328368,
           4,
           5296,
           35,
           2,
           "Zte Mf259",
           13,
           238
          ],
          [
           33761506920,
           4,
           20949.5,
           40,
           4,
           "Zte Mf259",
           11,
           166
          ],
          [
           33763992917,
           4,
           77762,
           21,
           2,
           "Zte Mf259",
           15,
           184
          ],
          [
           33761543605,
           2,
           20949.5,
           28,
           4,
           "Zte Mf259",
           12,
           191
          ],
          [
           33664535559,
           2,
           21557,
           437,
           4,
           "Zte Mf259",
           12,
           171
          ]
         ],
         "yaxis": "y2"
        },
        {
         "type": "bar",
         "x": [
          "-> 568730.0",
          "-> 1330.0",
          "-> 2660.0",
          "-> 38.0",
          "-> 92.0",
          "-> 1318.0",
          "-> 543.0",
          "-> 3990.0",
          "-> 76.0",
          "-> 5320.0"
         ],
         "xaxis": "x3",
         "y": [
          88146,
          433,
          219,
          200,
          192,
          156,
          133,
          114,
          108,
          102
         ],
         "yaxis": "y3"
        }
       ],
       "layout": {
        "annotations": [
         {
          "font": {
           "size": 16
          },
          "showarrow": false,
          "text": "Top 10",
          "x": 0.14444444444444446,
          "xanchor": "center",
          "xref": "paper",
          "y": 1,
          "yanchor": "bottom",
          "yref": "paper"
         },
         {
          "font": {
           "size": 16
          },
          "showarrow": false,
          "text": "Bottom 10",
          "x": 0.5,
          "xanchor": "center",
          "xref": "paper",
          "y": 1,
          "yanchor": "bottom",
          "yref": "paper"
         },
         {
          "font": {
           "size": 16
          },
          "showarrow": false,
          "text": "Most 10",
          "x": 0.8555555555555556,
          "xanchor": "center",
          "xref": "paper",
          "y": 1,
          "yanchor": "bottom",
          "yref": "paper"
         }
        ],
        "showlegend": false,
        "template": {
         "data": {
          "bar": [
           {
            "error_x": {
             "color": "#2a3f5f"
            },
            "error_y": {
             "color": "#2a3f5f"
            },
            "marker": {
             "line": {
              "color": "#E5ECF6",
              "width": 0.5
             },
             "pattern": {
              "fillmode": "overlay",
              "size": 10,
              "solidity": 0.2
             }
            },
            "type": "bar"
           }
          ],
          "barpolar": [
           {
            "marker": {
             "line": {
              "color": "#E5ECF6",
              "width": 0.5
             },
             "pattern": {
              "fillmode": "overlay",
              "size": 10,
              "solidity": 0.2
             }
            },
            "type": "barpolar"
           }
          ],
          "carpet": [
           {
            "aaxis": {
             "endlinecolor": "#2a3f5f",
             "gridcolor": "white",
             "linecolor": "white",
             "minorgridcolor": "white",
             "startlinecolor": "#2a3f5f"
            },
            "baxis": {
             "endlinecolor": "#2a3f5f",
             "gridcolor": "white",
             "linecolor": "white",
             "minorgridcolor": "white",
             "startlinecolor": "#2a3f5f"
            },
            "type": "carpet"
           }
          ],
          "choropleth": [
           {
            "colorbar": {
             "outlinewidth": 0,
             "ticks": ""
            },
            "type": "choropleth"
           }
          ],
          "contour": [
           {
            "colorbar": {
             "outlinewidth": 0,
             "ticks": ""
            },
            "colorscale": [
             [
              0,
              "#0d0887"
             ],
             [
              0.1111111111111111,
              "#46039f"
             ],
             [
              0.2222222222222222,
              "#7201a8"
             ],
             [
              0.3333333333333333,
              "#9c179e"
             ],
             [
              0.4444444444444444,
              "#bd3786"
             ],
             [
              0.5555555555555556,
              "#d8576b"
             ],
             [
              0.6666666666666666,
              "#ed7953"
             ],
             [
              0.7777777777777778,
              "#fb9f3a"
             ],
             [
              0.8888888888888888,
              "#fdca26"
             ],
             [
              1,
              "#f0f921"
             ]
            ],
            "type": "contour"
           }
          ],
          "contourcarpet": [
           {
            "colorbar": {
             "outlinewidth": 0,
             "ticks": ""
            },
            "type": "contourcarpet"
           }
          ],
          "heatmap": [
           {
            "colorbar": {
             "outlinewidth": 0,
             "ticks": ""
            },
            "colorscale": [
             [
              0,
              "#0d0887"
             ],
             [
              0.1111111111111111,
              "#46039f"
             ],
             [
              0.2222222222222222,
              "#7201a8"
             ],
             [
              0.3333333333333333,
              "#9c179e"
             ],
             [
              0.4444444444444444,
              "#bd3786"
             ],
             [
              0.5555555555555556,
              "#d8576b"
             ],
             [
              0.6666666666666666,
              "#ed7953"
             ],
             [
              0.7777777777777778,
              "#fb9f3a"
             ],
             [
              0.8888888888888888,
              "#fdca26"
             ],
             [
              1,
              "#f0f921"
             ]
            ],
            "type": "heatmap"
           }
          ],
          "heatmapgl": [
           {
            "colorbar": {
             "outlinewidth": 0,
             "ticks": ""
            },
            "colorscale": [
             [
              0,
              "#0d0887"
             ],
             [
              0.1111111111111111,
              "#46039f"
             ],
             [
              0.2222222222222222,
              "#7201a8"
             ],
             [
              0.3333333333333333,
              "#9c179e"
             ],
             [
              0.4444444444444444,
              "#bd3786"
             ],
             [
              0.5555555555555556,
              "#d8576b"
             ],
             [
              0.6666666666666666,
              "#ed7953"
             ],
             [
              0.7777777777777778,
              "#fb9f3a"
             ],
             [
              0.8888888888888888,
              "#fdca26"
             ],
             [
              1,
              "#f0f921"
             ]
            ],
            "type": "heatmapgl"
           }
          ],
          "histogram": [
           {
            "marker": {
             "pattern": {
              "fillmode": "overlay",
              "size": 10,
              "solidity": 0.2
             }
            },
            "type": "histogram"
           }
          ],
          "histogram2d": [
           {
            "colorbar": {
             "outlinewidth": 0,
             "ticks": ""
            },
            "colorscale": [
             [
              0,
              "#0d0887"
             ],
             [
              0.1111111111111111,
              "#46039f"
             ],
             [
              0.2222222222222222,
              "#7201a8"
             ],
             [
              0.3333333333333333,
              "#9c179e"
             ],
             [
              0.4444444444444444,
              "#bd3786"
             ],
             [
              0.5555555555555556,
              "#d8576b"
             ],
             [
              0.6666666666666666,
              "#ed7953"
             ],
             [
              0.7777777777777778,
              "#fb9f3a"
             ],
             [
              0.8888888888888888,
              "#fdca26"
             ],
             [
              1,
              "#f0f921"
             ]
            ],
            "type": "histogram2d"
           }
          ],
          "histogram2dcontour": [
           {
            "colorbar": {
             "outlinewidth": 0,
             "ticks": ""
            },
            "colorscale": [
             [
              0,
              "#0d0887"
             ],
             [
              0.1111111111111111,
              "#46039f"
             ],
             [
              0.2222222222222222,
              "#7201a8"
             ],
             [
              0.3333333333333333,
              "#9c179e"
             ],
             [
              0.4444444444444444,
              "#bd3786"
             ],
             [
              0.5555555555555556,
              "#d8576b"
             ],
             [
              0.6666666666666666,
              "#ed7953"
             ],
             [
              0.7777777777777778,
              "#fb9f3a"
             ],
             [
              0.8888888888888888,
              "#fdca26"
             ],
             [
              1,
              "#f0f921"
             ]
            ],
            "type": "histogram2dcontour"
           }
          ],
          "mesh3d": [
           {
            "colorbar": {
             "outlinewidth": 0,
             "ticks": ""
            },
            "type": "mesh3d"
           }
          ],
          "parcoords": [
           {
            "line": {
             "colorbar": {
              "outlinewidth": 0,
              "ticks": ""
             }
            },
            "type": "parcoords"
           }
          ],
          "pie": [
           {
            "automargin": true,
            "type": "pie"
           }
          ],
          "scatter": [
           {
            "fillpattern": {
             "fillmode": "overlay",
             "size": 10,
             "solidity": 0.2
            },
            "type": "scatter"
           }
          ],
          "scatter3d": [
           {
            "line": {
             "colorbar": {
              "outlinewidth": 0,
              "ticks": ""
             }
            },
            "marker": {
             "colorbar": {
              "outlinewidth": 0,
              "ticks": ""
             }
            },
            "type": "scatter3d"
           }
          ],
          "scattercarpet": [
           {
            "marker": {
             "colorbar": {
              "outlinewidth": 0,
              "ticks": ""
             }
            },
            "type": "scattercarpet"
           }
          ],
          "scattergeo": [
           {
            "marker": {
             "colorbar": {
              "outlinewidth": 0,
              "ticks": ""
             }
            },
            "type": "scattergeo"
           }
          ],
          "scattergl": [
           {
            "marker": {
             "colorbar": {
              "outlinewidth": 0,
              "ticks": ""
             }
            },
            "type": "scattergl"
           }
          ],
          "scattermapbox": [
           {
            "marker": {
             "colorbar": {
              "outlinewidth": 0,
              "ticks": ""
             }
            },
            "type": "scattermapbox"
           }
          ],
          "scatterpolar": [
           {
            "marker": {
             "colorbar": {
              "outlinewidth": 0,
              "ticks": ""
             }
            },
            "type": "scatterpolar"
           }
          ],
          "scatterpolargl": [
           {
            "marker": {
             "colorbar": {
              "outlinewidth": 0,
              "ticks": ""
             }
            },
            "type": "scatterpolargl"
           }
          ],
          "scatterternary": [
           {
            "marker": {
             "colorbar": {
              "outlinewidth": 0,
              "ticks": ""
             }
            },
            "type": "scatterternary"
           }
          ],
          "surface": [
           {
            "colorbar": {
             "outlinewidth": 0,
             "ticks": ""
            },
            "colorscale": [
             [
              0,
              "#0d0887"
             ],
             [
              0.1111111111111111,
              "#46039f"
             ],
             [
              0.2222222222222222,
              "#7201a8"
             ],
             [
              0.3333333333333333,
              "#9c179e"
             ],
             [
              0.4444444444444444,
              "#bd3786"
             ],
             [
              0.5555555555555556,
              "#d8576b"
             ],
             [
              0.6666666666666666,
              "#ed7953"
             ],
             [
              0.7777777777777778,
              "#fb9f3a"
             ],
             [
              0.8888888888888888,
              "#fdca26"
             ],
             [
              1,
              "#f0f921"
             ]
            ],
            "type": "surface"
           }
          ],
          "table": [
           {
            "cells": {
             "fill": {
              "color": "#EBF0F8"
             },
             "line": {
              "color": "white"
             }
            },
            "header": {
             "fill": {
              "color": "#C8D4E3"
             },
             "line": {
              "color": "white"
             }
            },
            "type": "table"
           }
          ]
         },
         "layout": {
          "annotationdefaults": {
           "arrowcolor": "#2a3f5f",
           "arrowhead": 0,
           "arrowwidth": 1
          },
          "autotypenumbers": "strict",
          "coloraxis": {
           "colorbar": {
            "outlinewidth": 0,
            "ticks": ""
           }
          },
          "colorscale": {
           "diverging": [
            [
             0,
             "#8e0152"
            ],
            [
             0.1,
             "#c51b7d"
            ],
            [
             0.2,
             "#de77ae"
            ],
            [
             0.3,
             "#f1b6da"
            ],
            [
             0.4,
             "#fde0ef"
            ],
            [
             0.5,
             "#f7f7f7"
            ],
            [
             0.6,
             "#e6f5d0"
            ],
            [
             0.7,
             "#b8e186"
            ],
            [
             0.8,
             "#7fbc41"
            ],
            [
             0.9,
             "#4d9221"
            ],
            [
             1,
             "#276419"
            ]
           ],
           "sequential": [
            [
             0,
             "#0d0887"
            ],
            [
             0.1111111111111111,
             "#46039f"
            ],
            [
             0.2222222222222222,
             "#7201a8"
            ],
            [
             0.3333333333333333,
             "#9c179e"
            ],
            [
             0.4444444444444444,
             "#bd3786"
            ],
            [
             0.5555555555555556,
             "#d8576b"
            ],
            [
             0.6666666666666666,
             "#ed7953"
            ],
            [
             0.7777777777777778,
             "#fb9f3a"
            ],
            [
             0.8888888888888888,
             "#fdca26"
            ],
            [
             1,
             "#f0f921"
            ]
           ],
           "sequentialminus": [
            [
             0,
             "#0d0887"
            ],
            [
             0.1111111111111111,
             "#46039f"
            ],
            [
             0.2222222222222222,
             "#7201a8"
            ],
            [
             0.3333333333333333,
             "#9c179e"
            ],
            [
             0.4444444444444444,
             "#bd3786"
            ],
            [
             0.5555555555555556,
             "#d8576b"
            ],
            [
             0.6666666666666666,
             "#ed7953"
            ],
            [
             0.7777777777777778,
             "#fb9f3a"
            ],
            [
             0.8888888888888888,
             "#fdca26"
            ],
            [
             1,
             "#f0f921"
            ]
           ]
          },
          "colorway": [
           "#636efa",
           "#EF553B",
           "#00cc96",
           "#ab63fa",
           "#FFA15A",
           "#19d3f3",
           "#FF6692",
           "#B6E880",
           "#FF97FF",
           "#FECB52"
          ],
          "font": {
           "color": "#2a3f5f"
          },
          "geo": {
           "bgcolor": "white",
           "lakecolor": "white",
           "landcolor": "#E5ECF6",
           "showlakes": true,
           "showland": true,
           "subunitcolor": "white"
          },
          "hoverlabel": {
           "align": "left"
          },
          "hovermode": "closest",
          "mapbox": {
           "style": "light"
          },
          "paper_bgcolor": "white",
          "plot_bgcolor": "#E5ECF6",
          "polar": {
           "angularaxis": {
            "gridcolor": "white",
            "linecolor": "white",
            "ticks": ""
           },
           "bgcolor": "#E5ECF6",
           "radialaxis": {
            "gridcolor": "white",
            "linecolor": "white",
            "ticks": ""
           }
          },
          "scene": {
           "xaxis": {
            "backgroundcolor": "#E5ECF6",
            "gridcolor": "white",
            "gridwidth": 2,
            "linecolor": "white",
            "showbackground": true,
            "ticks": "",
            "zerolinecolor": "white"
           },
           "yaxis": {
            "backgroundcolor": "#E5ECF6",
            "gridcolor": "white",
            "gridwidth": 2,
            "linecolor": "white",
            "showbackground": true,
            "ticks": "",
            "zerolinecolor": "white"
           },
           "zaxis": {
            "backgroundcolor": "#E5ECF6",
            "gridcolor": "white",
            "gridwidth": 2,
            "linecolor": "white",
            "showbackground": true,
            "ticks": "",
            "zerolinecolor": "white"
           }
          },
          "shapedefaults": {
           "line": {
            "color": "#2a3f5f"
           }
          },
          "ternary": {
           "aaxis": {
            "gridcolor": "white",
            "linecolor": "white",
            "ticks": ""
           },
           "baxis": {
            "gridcolor": "white",
            "linecolor": "white",
            "ticks": ""
           },
           "bgcolor": "#E5ECF6",
           "caxis": {
            "gridcolor": "white",
            "linecolor": "white",
            "ticks": ""
           }
          },
          "title": {
           "x": 0.05
          },
          "xaxis": {
           "automargin": true,
           "gridcolor": "white",
           "linecolor": "white",
           "ticks": "",
           "title": {
            "standoff": 15
           },
           "zerolinecolor": "white",
           "zerolinewidth": 2
          },
          "yaxis": {
           "automargin": true,
           "gridcolor": "white",
           "linecolor": "white",
           "ticks": "",
           "title": {
            "standoff": 15
           },
           "zerolinecolor": "white",
           "zerolinewidth": 2
          }
         }
        },
        "title": {
         "text": "TCP retransmission download values in the dataset"
        },
        "xaxis": {
         "anchor": "y",
         "domain": [
          0,
          0.2888888888888889
         ]
        },
        "xaxis2": {
         "anchor": "y2",
         "domain": [
          0.35555555555555557,
          0.6444444444444445
         ]
        },
        "xaxis3": {
         "anchor": "y3",
         "domain": [
          0.7111111111111111,
          1
         ]
        },
        "yaxis": {
         "anchor": "x",
         "domain": [
          0,
          1
         ]
        },
        "yaxis2": {
         "anchor": "x2",
         "domain": [
          0,
          1
         ]
        },
        "yaxis3": {
         "anchor": "x3",
         "domain": [
          0,
          1
         ]
        }
       }
      }
     },
     "metadata": {},
     "output_type": "display_data"
    }
   ],
   "source": [
    "plotly_multi_hist([top_10_dl, bot_10_dl, freq_10_dl], 1, 3, \"TCP retransmission download values in the dataset\", ['Top 10', 'Bottom 10', 'Most 10'])"
   ]
  },
  {
   "cell_type": "code",
   "execution_count": 77,
   "metadata": {},
   "outputs": [
    {
     "data": {
      "image/png": "[encoded data removed]",
      "text/plain": [
       "<IPython.core.display.Image object>"
      ]
     },
     "execution_count": 77,
     "metadata": {},
     "output_type": "execute_result"
    }
   ],
   "source": [
    "# this is just for git hub, to display the plot on git hub\n",
    "Image(filename='../plots/tcp_dl.png')"
   ]
  },
  {
   "cell_type": "code",
   "execution_count": 62,
   "metadata": {},
   "outputs": [
    {
     "data": {
      "application/vnd.plotly.v1+json": {
       "config": {
        "plotlyServerURL": "https://plot.ly"
       },
       "data": [
        {
         "type": "bar",
         "x": [
          "-> 36181",
          "-> 76625",
          "-> 67304",
          "-> 1491",
          "-> 133262",
          "-> 35127",
          "-> 142218",
          "-> 142431",
          "-> 66068",
          "-> 1369"
         ],
         "xaxis": "x",
         "y": [
          [
           33669054076,
           5182381,
           2908226006,
           48,
           35,
           "Huawei B528S-23A",
           33353,
           18754
          ],
          [
           33658249284,
           2912938,
           2636857202,
           61,
           24,
           "Huawei B528S-23A",
           84160,
           7507
          ],
          [
           33763588772,
           9213923,
           2455599840,
           50,
           24,
           "Huawei B528S-23A",
           58997,
           6247
          ],
          [
           33669054076,
           352815,
           2260359347,
           50,
           28,
           "Huawei B528S-23A",
           36938,
           18810
          ],
          [
           33664698321,
           323300754,
           1751383517,
           312,
           52,
           "Huawei B528S-23A",
           63163,
           6778
          ],
          [
           33665090461,
           149425717,
           1727810000,
           42,
           39,
           "Huawei B528S-23A",
           144177,
           37662
          ],
          [
           33760918898,
           2089389,
           1237861906,
           115,
           19,
           "Huawei B528S-23A",
           32254,
           10409
          ],
          [
           33661679531,
           122224,
           794825766,
           32,
           9,
           "Huawei B528S-23A",
           39624,
           13541
          ],
          [
           33698382849,
           282503545,
           719571807,
           125,
           167,
           "Huawei B528S-23A",
           42256,
           20965
          ],
          [
           33668446094,
           3076798,
           526246337,
           178,
           495,
           "Huawei B528S-23A",
           17917,
           12905
          ]
         ],
         "yaxis": "y"
        },
        {
         "type": "bar",
         "x": [
          "-> 138997",
          "-> 144969",
          "-> 90210",
          "-> 75076",
          "-> 124047",
          "-> 36067",
          "-> 15237",
          "-> 139549",
          "-> 78672",
          "-> 38380"
         ],
         "xaxis": "x2",
         "y": [
          [
           33658340151,
           2175970,
           1,
           79,
           24,
           "Huawei B528S-23A",
           30284,
           3108
          ],
          [
           33658552333,
           1167641,
           1,
           45,
           17,
           "Huawei B528S-23A",
           47526,
           821
          ],
          [
           33782587773,
           7505983,
           1,
           57,
           12,
           "Spa Condor Elect. Plume L2",
           73997,
           2532
          ],
          [
           33665674774,
           8001,
           1,
           62,
           19,
           "Huawei B528S-23A",
           25732,
           635
          ],
          [
           33658552333,
           256358,
           1,
           46,
           14,
           "Huawei B528S-23A",
           43005,
           900
          ],
          [
           33762067105,
           25425,
           1,
           40,
           27,
           "Huawei B528S-23A",
           22163,
           478
          ],
          [
           33668086182,
           112927,
           1,
           39,
           6,
           "Tp-Link Technolo. Tl-Mr6400",
           14731,
           700
          ],
          [
           33664736698,
           279510,
           1,
           112,
           21,
           "Huawei B528S-23A",
           32179,
           1081
          ],
          [
           33763188980,
           52852177,
           1,
           70,
           13,
           "Huawei B528S-23A",
           47745,
           1113
          ],
          [
           33665743237,
           9310,
           1,
           43,
           32,
           "Huawei B528S-23A",
           17540,
           15000
          ]
         ],
         "yaxis": "y2"
        },
        {
         "type": "bar",
         "x": [
          "-> 20949.5",
          "-> 1330.0",
          "-> 2660.0",
          "-> 1294.0",
          "-> 3990.0",
          "-> 1318.0",
          "-> 5320.0",
          "-> 6650.0",
          "-> 2636.0",
          "-> 7980.0"
         ],
         "xaxis": "x3",
         "y": [
          96648,
          1910,
          937,
          651,
          548,
          545,
          366,
          271,
          234,
          219
         ],
         "yaxis": "y3"
        }
       ],
       "layout": {
        "annotations": [
         {
          "font": {
           "size": 16
          },
          "showarrow": false,
          "text": "Top 10",
          "x": 0.14444444444444446,
          "xanchor": "center",
          "xref": "paper",
          "y": 1,
          "yanchor": "bottom",
          "yref": "paper"
         },
         {
          "font": {
           "size": 16
          },
          "showarrow": false,
          "text": "Bottom 10",
          "x": 0.5,
          "xanchor": "center",
          "xref": "paper",
          "y": 1,
          "yanchor": "bottom",
          "yref": "paper"
         },
         {
          "font": {
           "size": 16
          },
          "showarrow": false,
          "text": "Most 10",
          "x": 0.8555555555555556,
          "xanchor": "center",
          "xref": "paper",
          "y": 1,
          "yanchor": "bottom",
          "yref": "paper"
         }
        ],
        "showlegend": false,
        "template": {
         "data": {
          "bar": [
           {
            "error_x": {
             "color": "#2a3f5f"
            },
            "error_y": {
             "color": "#2a3f5f"
            },
            "marker": {
             "line": {
              "color": "#E5ECF6",
              "width": 0.5
             },
             "pattern": {
              "fillmode": "overlay",
              "size": 10,
              "solidity": 0.2
             }
            },
            "type": "bar"
           }
          ],
          "barpolar": [
           {
            "marker": {
             "line": {
              "color": "#E5ECF6",
              "width": 0.5
             },
             "pattern": {
              "fillmode": "overlay",
              "size": 10,
              "solidity": 0.2
             }
            },
            "type": "barpolar"
           }
          ],
          "carpet": [
           {
            "aaxis": {
             "endlinecolor": "#2a3f5f",
             "gridcolor": "white",
             "linecolor": "white",
             "minorgridcolor": "white",
             "startlinecolor": "#2a3f5f"
            },
            "baxis": {
             "endlinecolor": "#2a3f5f",
             "gridcolor": "white",
             "linecolor": "white",
             "minorgridcolor": "white",
             "startlinecolor": "#2a3f5f"
            },
            "type": "carpet"
           }
          ],
          "choropleth": [
           {
            "colorbar": {
             "outlinewidth": 0,
             "ticks": ""
            },
            "type": "choropleth"
           }
          ],
          "contour": [
           {
            "colorbar": {
             "outlinewidth": 0,
             "ticks": ""
            },
            "colorscale": [
             [
              0,
              "#0d0887"
             ],
             [
              0.1111111111111111,
              "#46039f"
             ],
             [
              0.2222222222222222,
              "#7201a8"
             ],
             [
              0.3333333333333333,
              "#9c179e"
             ],
             [
              0.4444444444444444,
              "#bd3786"
             ],
             [
              0.5555555555555556,
              "#d8576b"
             ],
             [
              0.6666666666666666,
              "#ed7953"
             ],
             [
              0.7777777777777778,
              "#fb9f3a"
             ],
             [
              0.8888888888888888,
              "#fdca26"
             ],
             [
              1,
              "#f0f921"
             ]
            ],
            "type": "contour"
           }
          ],
          "contourcarpet": [
           {
            "colorbar": {
             "outlinewidth": 0,
             "ticks": ""
            },
            "type": "contourcarpet"
           }
          ],
          "heatmap": [
           {
            "colorbar": {
             "outlinewidth": 0,
             "ticks": ""
            },
            "colorscale": [
             [
              0,
              "#0d0887"
             ],
             [
              0.1111111111111111,
              "#46039f"
             ],
             [
              0.2222222222222222,
              "#7201a8"
             ],
             [
              0.3333333333333333,
              "#9c179e"
             ],
             [
              0.4444444444444444,
              "#bd3786"
             ],
             [
              0.5555555555555556,
              "#d8576b"
             ],
             [
              0.6666666666666666,
              "#ed7953"
             ],
             [
              0.7777777777777778,
              "#fb9f3a"
             ],
             [
              0.8888888888888888,
              "#fdca26"
             ],
             [
              1,
              "#f0f921"
             ]
            ],
            "type": "heatmap"
           }
          ],
          "heatmapgl": [
           {
            "colorbar": {
             "outlinewidth": 0,
             "ticks": ""
            },
            "colorscale": [
             [
              0,
              "#0d0887"
             ],
             [
              0.1111111111111111,
              "#46039f"
             ],
             [
              0.2222222222222222,
              "#7201a8"
             ],
             [
              0.3333333333333333,
              "#9c179e"
             ],
             [
              0.4444444444444444,
              "#bd3786"
             ],
             [
              0.5555555555555556,
              "#d8576b"
             ],
             [
              0.6666666666666666,
              "#ed7953"
             ],
             [
              0.7777777777777778,
              "#fb9f3a"
             ],
             [
              0.8888888888888888,
              "#fdca26"
             ],
             [
              1,
              "#f0f921"
             ]
            ],
            "type": "heatmapgl"
           }
          ],
          "histogram": [
           {
            "marker": {
             "pattern": {
              "fillmode": "overlay",
              "size": 10,
              "solidity": 0.2
             }
            },
            "type": "histogram"
           }
          ],
          "histogram2d": [
           {
            "colorbar": {
             "outlinewidth": 0,
             "ticks": ""
            },
            "colorscale": [
             [
              0,
              "#0d0887"
             ],
             [
              0.1111111111111111,
              "#46039f"
             ],
             [
              0.2222222222222222,
              "#7201a8"
             ],
             [
              0.3333333333333333,
              "#9c179e"
             ],
             [
              0.4444444444444444,
              "#bd3786"
             ],
             [
              0.5555555555555556,
              "#d8576b"
             ],
             [
              0.6666666666666666,
              "#ed7953"
             ],
             [
              0.7777777777777778,
              "#fb9f3a"
             ],
             [
              0.8888888888888888,
              "#fdca26"
             ],
             [
              1,
              "#f0f921"
             ]
            ],
            "type": "histogram2d"
           }
          ],
          "histogram2dcontour": [
           {
            "colorbar": {
             "outlinewidth": 0,
             "ticks": ""
            },
            "colorscale": [
             [
              0,
              "#0d0887"
             ],
             [
              0.1111111111111111,
              "#46039f"
             ],
             [
              0.2222222222222222,
              "#7201a8"
             ],
             [
              0.3333333333333333,
              "#9c179e"
             ],
             [
              0.4444444444444444,
              "#bd3786"
             ],
             [
              0.5555555555555556,
              "#d8576b"
             ],
             [
              0.6666666666666666,
              "#ed7953"
             ],
             [
              0.7777777777777778,
              "#fb9f3a"
             ],
             [
              0.8888888888888888,
              "#fdca26"
             ],
             [
              1,
              "#f0f921"
             ]
            ],
            "type": "histogram2dcontour"
           }
          ],
          "mesh3d": [
           {
            "colorbar": {
             "outlinewidth": 0,
             "ticks": ""
            },
            "type": "mesh3d"
           }
          ],
          "parcoords": [
           {
            "line": {
             "colorbar": {
              "outlinewidth": 0,
              "ticks": ""
             }
            },
            "type": "parcoords"
           }
          ],
          "pie": [
           {
            "automargin": true,
            "type": "pie"
           }
          ],
          "scatter": [
           {
            "fillpattern": {
             "fillmode": "overlay",
             "size": 10,
             "solidity": 0.2
            },
            "type": "scatter"
           }
          ],
          "scatter3d": [
           {
            "line": {
             "colorbar": {
              "outlinewidth": 0,
              "ticks": ""
             }
            },
            "marker": {
             "colorbar": {
              "outlinewidth": 0,
              "ticks": ""
             }
            },
            "type": "scatter3d"
           }
          ],
          "scattercarpet": [
           {
            "marker": {
             "colorbar": {
              "outlinewidth": 0,
              "ticks": ""
             }
            },
            "type": "scattercarpet"
           }
          ],
          "scattergeo": [
           {
            "marker": {
             "colorbar": {
              "outlinewidth": 0,
              "ticks": ""
             }
            },
            "type": "scattergeo"
           }
          ],
          "scattergl": [
           {
            "marker": {
             "colorbar": {
              "outlinewidth": 0,
              "ticks": ""
             }
            },
            "type": "scattergl"
           }
          ],
          "scattermapbox": [
           {
            "marker": {
             "colorbar": {
              "outlinewidth": 0,
              "ticks": ""
             }
            },
            "type": "scattermapbox"
           }
          ],
          "scatterpolar": [
           {
            "marker": {
             "colorbar": {
              "outlinewidth": 0,
              "ticks": ""
             }
            },
            "type": "scatterpolar"
           }
          ],
          "scatterpolargl": [
           {
            "marker": {
             "colorbar": {
              "outlinewidth": 0,
              "ticks": ""
             }
            },
            "type": "scatterpolargl"
           }
          ],
          "scatterternary": [
           {
            "marker": {
             "colorbar": {
              "outlinewidth": 0,
              "ticks": ""
             }
            },
            "type": "scatterternary"
           }
          ],
          "surface": [
           {
            "colorbar": {
             "outlinewidth": 0,
             "ticks": ""
            },
            "colorscale": [
             [
              0,
              "#0d0887"
             ],
             [
              0.1111111111111111,
              "#46039f"
             ],
             [
              0.2222222222222222,
              "#7201a8"
             ],
             [
              0.3333333333333333,
              "#9c179e"
             ],
             [
              0.4444444444444444,
              "#bd3786"
             ],
             [
              0.5555555555555556,
              "#d8576b"
             ],
             [
              0.6666666666666666,
              "#ed7953"
             ],
             [
              0.7777777777777778,
              "#fb9f3a"
             ],
             [
              0.8888888888888888,
              "#fdca26"
             ],
             [
              1,
              "#f0f921"
             ]
            ],
            "type": "surface"
           }
          ],
          "table": [
           {
            "cells": {
             "fill": {
              "color": "#EBF0F8"
             },
             "line": {
              "color": "white"
             }
            },
            "header": {
             "fill": {
              "color": "#C8D4E3"
             },
             "line": {
              "color": "white"
             }
            },
            "type": "table"
           }
          ]
         },
         "layout": {
          "annotationdefaults": {
           "arrowcolor": "#2a3f5f",
           "arrowhead": 0,
           "arrowwidth": 1
          },
          "autotypenumbers": "strict",
          "coloraxis": {
           "colorbar": {
            "outlinewidth": 0,
            "ticks": ""
           }
          },
          "colorscale": {
           "diverging": [
            [
             0,
             "#8e0152"
            ],
            [
             0.1,
             "#c51b7d"
            ],
            [
             0.2,
             "#de77ae"
            ],
            [
             0.3,
             "#f1b6da"
            ],
            [
             0.4,
             "#fde0ef"
            ],
            [
             0.5,
             "#f7f7f7"
            ],
            [
             0.6,
             "#e6f5d0"
            ],
            [
             0.7,
             "#b8e186"
            ],
            [
             0.8,
             "#7fbc41"
            ],
            [
             0.9,
             "#4d9221"
            ],
            [
             1,
             "#276419"
            ]
           ],
           "sequential": [
            [
             0,
             "#0d0887"
            ],
            [
             0.1111111111111111,
             "#46039f"
            ],
            [
             0.2222222222222222,
             "#7201a8"
            ],
            [
             0.3333333333333333,
             "#9c179e"
            ],
            [
             0.4444444444444444,
             "#bd3786"
            ],
            [
             0.5555555555555556,
             "#d8576b"
            ],
            [
             0.6666666666666666,
             "#ed7953"
            ],
            [
             0.7777777777777778,
             "#fb9f3a"
            ],
            [
             0.8888888888888888,
             "#fdca26"
            ],
            [
             1,
             "#f0f921"
            ]
           ],
           "sequentialminus": [
            [
             0,
             "#0d0887"
            ],
            [
             0.1111111111111111,
             "#46039f"
            ],
            [
             0.2222222222222222,
             "#7201a8"
            ],
            [
             0.3333333333333333,
             "#9c179e"
            ],
            [
             0.4444444444444444,
             "#bd3786"
            ],
            [
             0.5555555555555556,
             "#d8576b"
            ],
            [
             0.6666666666666666,
             "#ed7953"
            ],
            [
             0.7777777777777778,
             "#fb9f3a"
            ],
            [
             0.8888888888888888,
             "#fdca26"
            ],
            [
             1,
             "#f0f921"
            ]
           ]
          },
          "colorway": [
           "#636efa",
           "#EF553B",
           "#00cc96",
           "#ab63fa",
           "#FFA15A",
           "#19d3f3",
           "#FF6692",
           "#B6E880",
           "#FF97FF",
           "#FECB52"
          ],
          "font": {
           "color": "#2a3f5f"
          },
          "geo": {
           "bgcolor": "white",
           "lakecolor": "white",
           "landcolor": "#E5ECF6",
           "showlakes": true,
           "showland": true,
           "subunitcolor": "white"
          },
          "hoverlabel": {
           "align": "left"
          },
          "hovermode": "closest",
          "mapbox": {
           "style": "light"
          },
          "paper_bgcolor": "white",
          "plot_bgcolor": "#E5ECF6",
          "polar": {
           "angularaxis": {
            "gridcolor": "white",
            "linecolor": "white",
            "ticks": ""
           },
           "bgcolor": "#E5ECF6",
           "radialaxis": {
            "gridcolor": "white",
            "linecolor": "white",
            "ticks": ""
           }
          },
          "scene": {
           "xaxis": {
            "backgroundcolor": "#E5ECF6",
            "gridcolor": "white",
            "gridwidth": 2,
            "linecolor": "white",
            "showbackground": true,
            "ticks": "",
            "zerolinecolor": "white"
           },
           "yaxis": {
            "backgroundcolor": "#E5ECF6",
            "gridcolor": "white",
            "gridwidth": 2,
            "linecolor": "white",
            "showbackground": true,
            "ticks": "",
            "zerolinecolor": "white"
           },
           "zaxis": {
            "backgroundcolor": "#E5ECF6",
            "gridcolor": "white",
            "gridwidth": 2,
            "linecolor": "white",
            "showbackground": true,
            "ticks": "",
            "zerolinecolor": "white"
           }
          },
          "shapedefaults": {
           "line": {
            "color": "#2a3f5f"
           }
          },
          "ternary": {
           "aaxis": {
            "gridcolor": "white",
            "linecolor": "white",
            "ticks": ""
           },
           "baxis": {
            "gridcolor": "white",
            "linecolor": "white",
            "ticks": ""
           },
           "bgcolor": "#E5ECF6",
           "caxis": {
            "gridcolor": "white",
            "linecolor": "white",
            "ticks": ""
           }
          },
          "title": {
           "x": 0.05
          },
          "xaxis": {
           "automargin": true,
           "gridcolor": "white",
           "linecolor": "white",
           "ticks": "",
           "title": {
            "standoff": 15
           },
           "zerolinecolor": "white",
           "zerolinewidth": 2
          },
          "yaxis": {
           "automargin": true,
           "gridcolor": "white",
           "linecolor": "white",
           "ticks": "",
           "title": {
            "standoff": 15
           },
           "zerolinecolor": "white",
           "zerolinewidth": 2
          }
         }
        },
        "title": {
         "text": "TCP retransmission upload values in the dataset"
        },
        "xaxis": {
         "anchor": "y",
         "domain": [
          0,
          0.2888888888888889
         ]
        },
        "xaxis2": {
         "anchor": "y2",
         "domain": [
          0.35555555555555557,
          0.6444444444444445
         ]
        },
        "xaxis3": {
         "anchor": "y3",
         "domain": [
          0.7111111111111111,
          1
         ]
        },
        "yaxis": {
         "anchor": "x",
         "domain": [
          0,
          1
         ]
        },
        "yaxis2": {
         "anchor": "x2",
         "domain": [
          0,
          1
         ]
        },
        "yaxis3": {
         "anchor": "x3",
         "domain": [
          0,
          1
         ]
        }
       }
      }
     },
     "metadata": {},
     "output_type": "display_data"
    }
   ],
   "source": [
    "plotly_multi_hist([top_10_ul, bot_10_ul, freq_10_ul], 1, 3, \"TCP retransmission upload values in the dataset\", ['Top 10', 'Bottom 10', 'Most 10'])"
   ]
  },
  {
   "cell_type": "code",
   "execution_count": 76,
   "metadata": {},
   "outputs": [
    {
     "data": {
      "image/png": "[encoded data removed]",
      "text/plain": [
       "<IPython.core.display.Image object>"
      ]
     },
     "execution_count": 76,
     "metadata": {},
     "output_type": "execute_result"
    }
   ],
   "source": [
    "# this is just for git hub, to display the plot on git hub\n",
    "Image(filename='../plots/tcp_ul.png')"
   ]
  },
  {
   "cell_type": "markdown",
   "metadata": {},
   "source": [
    "* RTT values in the dataset"
   ]
  },
  {
   "cell_type": "code",
   "execution_count": 63,
   "metadata": {},
   "outputs": [],
   "source": [
    "rtt_dl = user_experience_df.sort_values('Avg RTT DL (ms)', ascending=False)\n",
    "rtt_ul = user_experience_df.sort_values('Avg RTT UL (ms)', ascending=False)\n",
    "\n",
    "top_10_dl = rtt_dl.head(10)\n",
    "bot_10_dl = rtt_dl.tail(10)\n",
    "freq_10_dl = rtt_dl['Avg RTT DL (ms)'].value_counts().head(10)\n",
    "\n",
    "top_10_ul = rtt_ul.head(10)\n",
    "bot_10_ul = rtt_ul.tail(10)\n",
    "freq_10_ul = rtt_ul['Avg RTT UL (ms)'].value_counts().head(10)"
   ]
  },
  {
   "cell_type": "code",
   "execution_count": 64,
   "metadata": {},
   "outputs": [
    {
     "data": {
      "application/vnd.plotly.v1+json": {
       "config": {
        "plotlyServerURL": "https://plot.ly"
       },
       "data": [
        {
         "type": "bar",
         "x": [
          "-> 30155",
          "-> 29916",
          "-> 17894",
          "-> 5963",
          "-> 22839",
          "-> 23442",
          "-> 1361",
          "-> 81256",
          "-> 97312",
          "-> 100575"
         ],
         "xaxis": "x",
         "y": [
          [
           33662317023,
           568730,
           20949.5,
           96923,
           1,
           "Apple iPhone 8 (A1905)",
           1,
           2
          ],
          [
           33660874265,
           568730,
           20949.5,
           64640,
           1,
           "Apple iPhone 6 (A1586)",
           64,
           64
          ],
          [
           33663706799,
           568730,
           5852,
           55811,
           1,
           "Huawei B528S-23A",
           1,
           261
          ],
          [
           33683692867,
           92,
           20949.5,
           54847,
           1,
           "Lg Lg-D315",
           12,
           9
          ],
          [
           33760941100,
           522969,
           17613,
           26971,
           307,
           "Samsung Galaxy S7 Edge (Sm-G935X)",
           3778,
           1370
          ],
          [
           33606788933,
           13300,
           20949.5,
           26250,
           50,
           "Samsung Galaxy S9 Plus (Sm-G965F)",
           124,
           20
          ],
          [
           33698551167,
           5320,
           8981,
           25873,
           49,
           "Huawei B528S-23A",
           50,
           115
          ],
          [
           33671816754,
           568730,
           5320,
           25602,
           113,
           "Samsung Galaxy S6 Edge (Sm-G925X)",
           5,
           66
          ],
          [
           33781865588,
           197268,
           2636,
           25374,
           14,
           "Apple iPhone 6S (A1688)",
           885,
           723
          ],
          [
           33784013667,
           568730,
           20949.5,
           24733,
           5,
           "Apple iPhone 8 (A1905)",
           43,
           40
          ]
         ],
         "yaxis": "y"
        },
        {
         "type": "bar",
         "x": [
          "-> 71738",
          "-> 61337",
          "-> 42602",
          "-> 61144",
          "-> 52217",
          "-> 60143",
          "-> 103321",
          "-> 143878",
          "-> 142526",
          "-> 124538"
         ],
         "xaxis": "x2",
         "y": [
          [
           33660204450,
           568730,
           20949.5,
           2,
           0,
           "Apple iPhone X (A1901)",
           46,
           67
          ],
          [
           33699538565,
           568730,
           20949.5,
           0,
           33,
           "Huawei Mrd-Lx1",
           45,
           68
          ],
          [
           33652982188,
           568730,
           20949.5,
           0,
           0,
           "Huawei P20 Pro",
           52,
           48
          ],
          [
           33762753209,
           568730,
           20949.5,
           0,
           38,
           "Apple iPhone 8 Plus (A1897)",
           21,
           50
          ],
          [
           33665599640,
           568730,
           20949.5,
           0,
           32,
           "Apple iPhone 6 (A1586)",
           42,
           44
          ],
          [
           33660637039,
           568730,
           20949.5,
           0,
           29,
           "Apple iPhone Xr (A2105)",
           63,
           54
          ],
          [
           33609260285,
           568730,
           20949.5,
           0,
           0,
           "Samsung Galaxy S6 (Sm-G920X)",
           45,
           54
          ],
          [
           33642753301,
           568730,
           20949.5,
           0,
           0,
           "Apple iPhone 6 (A1586)",
           45,
           55
          ],
          [
           33667477967,
           568730,
           20949.5,
           0,
           785,
           "Huawei B528S-23A",
           43,
           47
          ],
          [
           33661575382,
           568730,
           20949.5,
           0,
           0,
           "Huawei Pct-L29",
           38,
           47
          ]
         ],
         "yaxis": "y2"
        },
        {
         "type": "bar",
         "x": [
          "-> 45.0",
          "-> 28.0",
          "-> 27.0",
          "-> 34.0",
          "-> 35.0",
          "-> 37.0",
          "-> 36.0",
          "-> 38.0",
          "-> 29.0",
          "-> 26.0"
         ],
         "xaxis": "x3",
         "y": [
          29906,
          3553,
          3380,
          3296,
          2892,
          2718,
          2645,
          2547,
          2498,
          2488
         ],
         "yaxis": "y3"
        }
       ],
       "layout": {
        "annotations": [
         {
          "font": {
           "size": 16
          },
          "showarrow": false,
          "text": "Top 10",
          "x": 0.14444444444444446,
          "xanchor": "center",
          "xref": "paper",
          "y": 1,
          "yanchor": "bottom",
          "yref": "paper"
         },
         {
          "font": {
           "size": 16
          },
          "showarrow": false,
          "text": "Bottom 10",
          "x": 0.5,
          "xanchor": "center",
          "xref": "paper",
          "y": 1,
          "yanchor": "bottom",
          "yref": "paper"
         },
         {
          "font": {
           "size": 16
          },
          "showarrow": false,
          "text": "Most 10",
          "x": 0.8555555555555556,
          "xanchor": "center",
          "xref": "paper",
          "y": 1,
          "yanchor": "bottom",
          "yref": "paper"
         }
        ],
        "showlegend": false,
        "template": {
         "data": {
          "bar": [
           {
            "error_x": {
             "color": "#2a3f5f"
            },
            "error_y": {
             "color": "#2a3f5f"
            },
            "marker": {
             "line": {
              "color": "#E5ECF6",
              "width": 0.5
             },
             "pattern": {
              "fillmode": "overlay",
              "size": 10,
              "solidity": 0.2
             }
            },
            "type": "bar"
           }
          ],
          "barpolar": [
           {
            "marker": {
             "line": {
              "color": "#E5ECF6",
              "width": 0.5
             },
             "pattern": {
              "fillmode": "overlay",
              "size": 10,
              "solidity": 0.2
             }
            },
            "type": "barpolar"
           }
          ],
          "carpet": [
           {
            "aaxis": {
             "endlinecolor": "#2a3f5f",
             "gridcolor": "white",
             "linecolor": "white",
             "minorgridcolor": "white",
             "startlinecolor": "#2a3f5f"
            },
            "baxis": {
             "endlinecolor": "#2a3f5f",
             "gridcolor": "white",
             "linecolor": "white",
             "minorgridcolor": "white",
             "startlinecolor": "#2a3f5f"
            },
            "type": "carpet"
           }
          ],
          "choropleth": [
           {
            "colorbar": {
             "outlinewidth": 0,
             "ticks": ""
            },
            "type": "choropleth"
           }
          ],
          "contour": [
           {
            "colorbar": {
             "outlinewidth": 0,
             "ticks": ""
            },
            "colorscale": [
             [
              0,
              "#0d0887"
             ],
             [
              0.1111111111111111,
              "#46039f"
             ],
             [
              0.2222222222222222,
              "#7201a8"
             ],
             [
              0.3333333333333333,
              "#9c179e"
             ],
             [
              0.4444444444444444,
              "#bd3786"
             ],
             [
              0.5555555555555556,
              "#d8576b"
             ],
             [
              0.6666666666666666,
              "#ed7953"
             ],
             [
              0.7777777777777778,
              "#fb9f3a"
             ],
             [
              0.8888888888888888,
              "#fdca26"
             ],
             [
              1,
              "#f0f921"
             ]
            ],
            "type": "contour"
           }
          ],
          "contourcarpet": [
           {
            "colorbar": {
             "outlinewidth": 0,
             "ticks": ""
            },
            "type": "contourcarpet"
           }
          ],
          "heatmap": [
           {
            "colorbar": {
             "outlinewidth": 0,
             "ticks": ""
            },
            "colorscale": [
             [
              0,
              "#0d0887"
             ],
             [
              0.1111111111111111,
              "#46039f"
             ],
             [
              0.2222222222222222,
              "#7201a8"
             ],
             [
              0.3333333333333333,
              "#9c179e"
             ],
             [
              0.4444444444444444,
              "#bd3786"
             ],
             [
              0.5555555555555556,
              "#d8576b"
             ],
             [
              0.6666666666666666,
              "#ed7953"
             ],
             [
              0.7777777777777778,
              "#fb9f3a"
             ],
             [
              0.8888888888888888,
              "#fdca26"
             ],
             [
              1,
              "#f0f921"
             ]
            ],
            "type": "heatmap"
           }
          ],
          "heatmapgl": [
           {
            "colorbar": {
             "outlinewidth": 0,
             "ticks": ""
            },
            "colorscale": [
             [
              0,
              "#0d0887"
             ],
             [
              0.1111111111111111,
              "#46039f"
             ],
             [
              0.2222222222222222,
              "#7201a8"
             ],
             [
              0.3333333333333333,
              "#9c179e"
             ],
             [
              0.4444444444444444,
              "#bd3786"
             ],
             [
              0.5555555555555556,
              "#d8576b"
             ],
             [
              0.6666666666666666,
              "#ed7953"
             ],
             [
              0.7777777777777778,
              "#fb9f3a"
             ],
             [
              0.8888888888888888,
              "#fdca26"
             ],
             [
              1,
              "#f0f921"
             ]
            ],
            "type": "heatmapgl"
           }
          ],
          "histogram": [
           {
            "marker": {
             "pattern": {
              "fillmode": "overlay",
              "size": 10,
              "solidity": 0.2
             }
            },
            "type": "histogram"
           }
          ],
          "histogram2d": [
           {
            "colorbar": {
             "outlinewidth": 0,
             "ticks": ""
            },
            "colorscale": [
             [
              0,
              "#0d0887"
             ],
             [
              0.1111111111111111,
              "#46039f"
             ],
             [
              0.2222222222222222,
              "#7201a8"
             ],
             [
              0.3333333333333333,
              "#9c179e"
             ],
             [
              0.4444444444444444,
              "#bd3786"
             ],
             [
              0.5555555555555556,
              "#d8576b"
             ],
             [
              0.6666666666666666,
              "#ed7953"
             ],
             [
              0.7777777777777778,
              "#fb9f3a"
             ],
             [
              0.8888888888888888,
              "#fdca26"
             ],
             [
              1,
              "#f0f921"
             ]
            ],
            "type": "histogram2d"
           }
          ],
          "histogram2dcontour": [
           {
            "colorbar": {
             "outlinewidth": 0,
             "ticks": ""
            },
            "colorscale": [
             [
              0,
              "#0d0887"
             ],
             [
              0.1111111111111111,
              "#46039f"
             ],
             [
              0.2222222222222222,
              "#7201a8"
             ],
             [
              0.3333333333333333,
              "#9c179e"
             ],
             [
              0.4444444444444444,
              "#bd3786"
             ],
             [
              0.5555555555555556,
              "#d8576b"
             ],
             [
              0.6666666666666666,
              "#ed7953"
             ],
             [
              0.7777777777777778,
              "#fb9f3a"
             ],
             [
              0.8888888888888888,
              "#fdca26"
             ],
             [
              1,
              "#f0f921"
             ]
            ],
            "type": "histogram2dcontour"
           }
          ],
          "mesh3d": [
           {
            "colorbar": {
             "outlinewidth": 0,
             "ticks": ""
            },
            "type": "mesh3d"
           }
          ],
          "parcoords": [
           {
            "line": {
             "colorbar": {
              "outlinewidth": 0,
              "ticks": ""
             }
            },
            "type": "parcoords"
           }
          ],
          "pie": [
           {
            "automargin": true,
            "type": "pie"
           }
          ],
          "scatter": [
           {
            "fillpattern": {
             "fillmode": "overlay",
             "size": 10,
             "solidity": 0.2
            },
            "type": "scatter"
           }
          ],
          "scatter3d": [
           {
            "line": {
             "colorbar": {
              "outlinewidth": 0,
              "ticks": ""
             }
            },
            "marker": {
             "colorbar": {
              "outlinewidth": 0,
              "ticks": ""
             }
            },
            "type": "scatter3d"
           }
          ],
          "scattercarpet": [
           {
            "marker": {
             "colorbar": {
              "outlinewidth": 0,
              "ticks": ""
             }
            },
            "type": "scattercarpet"
           }
          ],
          "scattergeo": [
           {
            "marker": {
             "colorbar": {
              "outlinewidth": 0,
              "ticks": ""
             }
            },
            "type": "scattergeo"
           }
          ],
          "scattergl": [
           {
            "marker": {
             "colorbar": {
              "outlinewidth": 0,
              "ticks": ""
             }
            },
            "type": "scattergl"
           }
          ],
          "scattermapbox": [
           {
            "marker": {
             "colorbar": {
              "outlinewidth": 0,
              "ticks": ""
             }
            },
            "type": "scattermapbox"
           }
          ],
          "scatterpolar": [
           {
            "marker": {
             "colorbar": {
              "outlinewidth": 0,
              "ticks": ""
             }
            },
            "type": "scatterpolar"
           }
          ],
          "scatterpolargl": [
           {
            "marker": {
             "colorbar": {
              "outlinewidth": 0,
              "ticks": ""
             }
            },
            "type": "scatterpolargl"
           }
          ],
          "scatterternary": [
           {
            "marker": {
             "colorbar": {
              "outlinewidth": 0,
              "ticks": ""
             }
            },
            "type": "scatterternary"
           }
          ],
          "surface": [
           {
            "colorbar": {
             "outlinewidth": 0,
             "ticks": ""
            },
            "colorscale": [
             [
              0,
              "#0d0887"
             ],
             [
              0.1111111111111111,
              "#46039f"
             ],
             [
              0.2222222222222222,
              "#7201a8"
             ],
             [
              0.3333333333333333,
              "#9c179e"
             ],
             [
              0.4444444444444444,
              "#bd3786"
             ],
             [
              0.5555555555555556,
              "#d8576b"
             ],
             [
              0.6666666666666666,
              "#ed7953"
             ],
             [
              0.7777777777777778,
              "#fb9f3a"
             ],
             [
              0.8888888888888888,
              "#fdca26"
             ],
             [
              1,
              "#f0f921"
             ]
            ],
            "type": "surface"
           }
          ],
          "table": [
           {
            "cells": {
             "fill": {
              "color": "#EBF0F8"
             },
             "line": {
              "color": "white"
             }
            },
            "header": {
             "fill": {
              "color": "#C8D4E3"
             },
             "line": {
              "color": "white"
             }
            },
            "type": "table"
           }
          ]
         },
         "layout": {
          "annotationdefaults": {
           "arrowcolor": "#2a3f5f",
           "arrowhead": 0,
           "arrowwidth": 1
          },
          "autotypenumbers": "strict",
          "coloraxis": {
           "colorbar": {
            "outlinewidth": 0,
            "ticks": ""
           }
          },
          "colorscale": {
           "diverging": [
            [
             0,
             "#8e0152"
            ],
            [
             0.1,
             "#c51b7d"
            ],
            [
             0.2,
             "#de77ae"
            ],
            [
             0.3,
             "#f1b6da"
            ],
            [
             0.4,
             "#fde0ef"
            ],
            [
             0.5,
             "#f7f7f7"
            ],
            [
             0.6,
             "#e6f5d0"
            ],
            [
             0.7,
             "#b8e186"
            ],
            [
             0.8,
             "#7fbc41"
            ],
            [
             0.9,
             "#4d9221"
            ],
            [
             1,
             "#276419"
            ]
           ],
           "sequential": [
            [
             0,
             "#0d0887"
            ],
            [
             0.1111111111111111,
             "#46039f"
            ],
            [
             0.2222222222222222,
             "#7201a8"
            ],
            [
             0.3333333333333333,
             "#9c179e"
            ],
            [
             0.4444444444444444,
             "#bd3786"
            ],
            [
             0.5555555555555556,
             "#d8576b"
            ],
            [
             0.6666666666666666,
             "#ed7953"
            ],
            [
             0.7777777777777778,
             "#fb9f3a"
            ],
            [
             0.8888888888888888,
             "#fdca26"
            ],
            [
             1,
             "#f0f921"
            ]
           ],
           "sequentialminus": [
            [
             0,
             "#0d0887"
            ],
            [
             0.1111111111111111,
             "#46039f"
            ],
            [
             0.2222222222222222,
             "#7201a8"
            ],
            [
             0.3333333333333333,
             "#9c179e"
            ],
            [
             0.4444444444444444,
             "#bd3786"
            ],
            [
             0.5555555555555556,
             "#d8576b"
            ],
            [
             0.6666666666666666,
             "#ed7953"
            ],
            [
             0.7777777777777778,
             "#fb9f3a"
            ],
            [
             0.8888888888888888,
             "#fdca26"
            ],
            [
             1,
             "#f0f921"
            ]
           ]
          },
          "colorway": [
           "#636efa",
           "#EF553B",
           "#00cc96",
           "#ab63fa",
           "#FFA15A",
           "#19d3f3",
           "#FF6692",
           "#B6E880",
           "#FF97FF",
           "#FECB52"
          ],
          "font": {
           "color": "#2a3f5f"
          },
          "geo": {
           "bgcolor": "white",
           "lakecolor": "white",
           "landcolor": "#E5ECF6",
           "showlakes": true,
           "showland": true,
           "subunitcolor": "white"
          },
          "hoverlabel": {
           "align": "left"
          },
          "hovermode": "closest",
          "mapbox": {
           "style": "light"
          },
          "paper_bgcolor": "white",
          "plot_bgcolor": "#E5ECF6",
          "polar": {
           "angularaxis": {
            "gridcolor": "white",
            "linecolor": "white",
            "ticks": ""
           },
           "bgcolor": "#E5ECF6",
           "radialaxis": {
            "gridcolor": "white",
            "linecolor": "white",
            "ticks": ""
           }
          },
          "scene": {
           "xaxis": {
            "backgroundcolor": "#E5ECF6",
            "gridcolor": "white",
            "gridwidth": 2,
            "linecolor": "white",
            "showbackground": true,
            "ticks": "",
            "zerolinecolor": "white"
           },
           "yaxis": {
            "backgroundcolor": "#E5ECF6",
            "gridcolor": "white",
            "gridwidth": 2,
            "linecolor": "white",
            "showbackground": true,
            "ticks": "",
            "zerolinecolor": "white"
           },
           "zaxis": {
            "backgroundcolor": "#E5ECF6",
            "gridcolor": "white",
            "gridwidth": 2,
            "linecolor": "white",
            "showbackground": true,
            "ticks": "",
            "zerolinecolor": "white"
           }
          },
          "shapedefaults": {
           "line": {
            "color": "#2a3f5f"
           }
          },
          "ternary": {
           "aaxis": {
            "gridcolor": "white",
            "linecolor": "white",
            "ticks": ""
           },
           "baxis": {
            "gridcolor": "white",
            "linecolor": "white",
            "ticks": ""
           },
           "bgcolor": "#E5ECF6",
           "caxis": {
            "gridcolor": "white",
            "linecolor": "white",
            "ticks": ""
           }
          },
          "title": {
           "x": 0.05
          },
          "xaxis": {
           "automargin": true,
           "gridcolor": "white",
           "linecolor": "white",
           "ticks": "",
           "title": {
            "standoff": 15
           },
           "zerolinecolor": "white",
           "zerolinewidth": 2
          },
          "yaxis": {
           "automargin": true,
           "gridcolor": "white",
           "linecolor": "white",
           "ticks": "",
           "title": {
            "standoff": 15
           },
           "zerolinecolor": "white",
           "zerolinewidth": 2
          }
         }
        },
        "title": {
         "text": "RTT download values in the dataset"
        },
        "xaxis": {
         "anchor": "y",
         "domain": [
          0,
          0.2888888888888889
         ]
        },
        "xaxis2": {
         "anchor": "y2",
         "domain": [
          0.35555555555555557,
          0.6444444444444445
         ]
        },
        "xaxis3": {
         "anchor": "y3",
         "domain": [
          0.7111111111111111,
          1
         ]
        },
        "yaxis": {
         "anchor": "x",
         "domain": [
          0,
          1
         ]
        },
        "yaxis2": {
         "anchor": "x2",
         "domain": [
          0,
          1
         ]
        },
        "yaxis3": {
         "anchor": "x3",
         "domain": [
          0,
          1
         ]
        }
       }
      }
     },
     "metadata": {},
     "output_type": "display_data"
    }
   ],
   "source": [
    "plotly_multi_hist([top_10_dl, bot_10_dl, freq_10_dl], 1, 3, \"RTT download values in the dataset\", ['Top 10', 'Bottom 10', 'Most 10'])"
   ]
  },
  {
   "cell_type": "code",
   "execution_count": 75,
   "metadata": {},
   "outputs": [
    {
     "data": {
      "image/png": "[encoded data removed]",
      "text/plain": [
       "<IPython.core.display.Image object>"
      ]
     },
     "execution_count": 75,
     "metadata": {},
     "output_type": "execute_result"
    }
   ],
   "source": [
    "# this is just for git hub, to display the plot on git hub\n",
    "Image(filename='../plots/rtt_dl.png')"
   ]
  },
  {
   "cell_type": "code",
   "execution_count": 65,
   "metadata": {},
   "outputs": [
    {
     "data": {
      "application/vnd.plotly.v1+json": {
       "config": {
        "plotlyServerURL": "https://plot.ly"
       },
       "data": [
        {
         "type": "bar",
         "x": [
          "-> 20013",
          "-> 132554",
          "-> 85010",
          "-> 183",
          "-> 95341",
          "-> 42087",
          "-> 49591",
          "-> 137931",
          "-> 124860",
          "-> 45992"
         ],
         "xaxis": "x",
         "y": [
          [
           33659778586,
           568730,
           20949.5,
           38,
           7120,
           "Samsung Galaxy A3 (Sm-A310X)",
           877,
           141
          ],
          [
           33633298261,
           568730,
           20949.5,
           53,
           5607,
           "Apple iPhone 6S (A1688)",
           43,
           52
          ],
          [
           33761092970,
           568730,
           20949.5,
           31,
           5422,
           "Tcl Communicatio. Alcatel 1X",
           8299,
           210
          ],
          [
           33627850141,
           568730,
           20949.5,
           126,
           5279,
           "Apple iPhone 7 (A1778)",
           42,
           47
          ],
          [
           33668497162,
           61280,
           20949.5,
           32,
           4677,
           "Samsung Galaxy A5 Sm-A520F",
           4227,
           721
          ],
          [
           33762057942,
           17732555,
           417015,
           377,
           4226,
           "Huawei B528S-23A",
           22533,
           3357
          ],
          [
           33636368478,
           142374,
           20949.5,
           43,
           4021,
           "Samsung Galaxy J3 (Sm-J330)",
           184,
           115
          ],
          [
           33778078390,
           5158628,
           20949.5,
           71,
           3923,
           "Electro Depot Fr. W55Hd",
           13093,
           399
          ],
          [
           33664279730,
           568730,
           20949.5,
           15,
           3093,
           "Huawei Y6 2018",
           61,
           50
          ],
          [
           33662361196,
           568730,
           20949.5,
           63,
           3029,
           "Sony Ericsson E15I",
           4,
           3
          ]
         ],
         "yaxis": "y"
        },
        {
         "type": "bar",
         "x": [
          "-> 106611",
          "-> 142973",
          "-> 142972",
          "-> 10481",
          "-> 142969",
          "-> 52328",
          "-> 106646",
          "-> 52320",
          "-> 52319",
          "-> 46227"
         ],
         "xaxis": "x2",
         "y": [
          [
           33666962129,
           568730,
           20949.5,
           29,
           0,
           "Apple iPhone 8 Plus (A1897)",
           50,
           49
          ],
          [
           33663381673,
           568730,
           20949.5,
           26,
           0,
           "Huawei P10 Lite",
           48,
           47
          ],
          [
           33622856315,
           568730,
           20949.5,
           22,
           0,
           "Apple iPhone 6 (A1586)",
           41,
           50
          ],
          [
           33698870720,
           568730,
           20949.5,
           52,
           0,
           "Apple iPhone X (A1901)",
           63,
           47
          ],
          [
           33605429601,
           568730,
           20949.5,
           20,
           0,
           "Apple iPhone 8 Plus (A1897)",
           29,
           55
          ],
          [
           33660733512,
           568730,
           20949.5,
           33,
           0,
           "Huawei Fig-Lx1",
           22,
           46
          ],
          [
           33647539269,
           568730,
           20949.5,
           144,
           0,
           "Apple iPhone Xr (A2105)",
           23,
           52
          ],
          [
           33663663727,
           568730,
           20949.5,
           24,
           0,
           "Apple iPhone 7 (A1778)",
           54,
           51
          ],
          [
           33669646781,
           568730,
           20949.5,
           15,
           0,
           "Huawei Y6 2018",
           44,
           49
          ],
          [
           33631991594,
           568730,
           20949.5,
           22,
           0,
           "Apple iPhone 7 (A1778)",
           62,
           47
          ]
         ],
         "yaxis": "y2"
        },
        {
         "type": "bar",
         "x": [
          "-> 5.0",
          "-> 2.0",
          "-> 1.0",
          "-> 4.0",
          "-> 3.0",
          "-> 6.0",
          "-> 7.0",
          "-> 0.0",
          "-> 8.0",
          "-> 9.0"
         ],
         "xaxis": "x3",
         "y": [
          42474,
          14277,
          12826,
          10242,
          7935,
          7518,
          4196,
          4126,
          3209,
          2647
         ],
         "yaxis": "y3"
        }
       ],
       "layout": {
        "annotations": [
         {
          "font": {
           "size": 16
          },
          "showarrow": false,
          "text": "Top 10",
          "x": 0.14444444444444446,
          "xanchor": "center",
          "xref": "paper",
          "y": 1,
          "yanchor": "bottom",
          "yref": "paper"
         },
         {
          "font": {
           "size": 16
          },
          "showarrow": false,
          "text": "Bottom 10",
          "x": 0.5,
          "xanchor": "center",
          "xref": "paper",
          "y": 1,
          "yanchor": "bottom",
          "yref": "paper"
         },
         {
          "font": {
           "size": 16
          },
          "showarrow": false,
          "text": "Most 10",
          "x": 0.8555555555555556,
          "xanchor": "center",
          "xref": "paper",
          "y": 1,
          "yanchor": "bottom",
          "yref": "paper"
         }
        ],
        "showlegend": false,
        "template": {
         "data": {
          "bar": [
           {
            "error_x": {
             "color": "#2a3f5f"
            },
            "error_y": {
             "color": "#2a3f5f"
            },
            "marker": {
             "line": {
              "color": "#E5ECF6",
              "width": 0.5
             },
             "pattern": {
              "fillmode": "overlay",
              "size": 10,
              "solidity": 0.2
             }
            },
            "type": "bar"
           }
          ],
          "barpolar": [
           {
            "marker": {
             "line": {
              "color": "#E5ECF6",
              "width": 0.5
             },
             "pattern": {
              "fillmode": "overlay",
              "size": 10,
              "solidity": 0.2
             }
            },
            "type": "barpolar"
           }
          ],
          "carpet": [
           {
            "aaxis": {
             "endlinecolor": "#2a3f5f",
             "gridcolor": "white",
             "linecolor": "white",
             "minorgridcolor": "white",
             "startlinecolor": "#2a3f5f"
            },
            "baxis": {
             "endlinecolor": "#2a3f5f",
             "gridcolor": "white",
             "linecolor": "white",
             "minorgridcolor": "white",
             "startlinecolor": "#2a3f5f"
            },
            "type": "carpet"
           }
          ],
          "choropleth": [
           {
            "colorbar": {
             "outlinewidth": 0,
             "ticks": ""
            },
            "type": "choropleth"
           }
          ],
          "contour": [
           {
            "colorbar": {
             "outlinewidth": 0,
             "ticks": ""
            },
            "colorscale": [
             [
              0,
              "#0d0887"
             ],
             [
              0.1111111111111111,
              "#46039f"
             ],
             [
              0.2222222222222222,
              "#7201a8"
             ],
             [
              0.3333333333333333,
              "#9c179e"
             ],
             [
              0.4444444444444444,
              "#bd3786"
             ],
             [
              0.5555555555555556,
              "#d8576b"
             ],
             [
              0.6666666666666666,
              "#ed7953"
             ],
             [
              0.7777777777777778,
              "#fb9f3a"
             ],
             [
              0.8888888888888888,
              "#fdca26"
             ],
             [
              1,
              "#f0f921"
             ]
            ],
            "type": "contour"
           }
          ],
          "contourcarpet": [
           {
            "colorbar": {
             "outlinewidth": 0,
             "ticks": ""
            },
            "type": "contourcarpet"
           }
          ],
          "heatmap": [
           {
            "colorbar": {
             "outlinewidth": 0,
             "ticks": ""
            },
            "colorscale": [
             [
              0,
              "#0d0887"
             ],
             [
              0.1111111111111111,
              "#46039f"
             ],
             [
              0.2222222222222222,
              "#7201a8"
             ],
             [
              0.3333333333333333,
              "#9c179e"
             ],
             [
              0.4444444444444444,
              "#bd3786"
             ],
             [
              0.5555555555555556,
              "#d8576b"
             ],
             [
              0.6666666666666666,
              "#ed7953"
             ],
             [
              0.7777777777777778,
              "#fb9f3a"
             ],
             [
              0.8888888888888888,
              "#fdca26"
             ],
             [
              1,
              "#f0f921"
             ]
            ],
            "type": "heatmap"
           }
          ],
          "heatmapgl": [
           {
            "colorbar": {
             "outlinewidth": 0,
             "ticks": ""
            },
            "colorscale": [
             [
              0,
              "#0d0887"
             ],
             [
              0.1111111111111111,
              "#46039f"
             ],
             [
              0.2222222222222222,
              "#7201a8"
             ],
             [
              0.3333333333333333,
              "#9c179e"
             ],
             [
              0.4444444444444444,
              "#bd3786"
             ],
             [
              0.5555555555555556,
              "#d8576b"
             ],
             [
              0.6666666666666666,
              "#ed7953"
             ],
             [
              0.7777777777777778,
              "#fb9f3a"
             ],
             [
              0.8888888888888888,
              "#fdca26"
             ],
             [
              1,
              "#f0f921"
             ]
            ],
            "type": "heatmapgl"
           }
          ],
          "histogram": [
           {
            "marker": {
             "pattern": {
              "fillmode": "overlay",
              "size": 10,
              "solidity": 0.2
             }
            },
            "type": "histogram"
           }
          ],
          "histogram2d": [
           {
            "colorbar": {
             "outlinewidth": 0,
             "ticks": ""
            },
            "colorscale": [
             [
              0,
              "#0d0887"
             ],
             [
              0.1111111111111111,
              "#46039f"
             ],
             [
              0.2222222222222222,
              "#7201a8"
             ],
             [
              0.3333333333333333,
              "#9c179e"
             ],
             [
              0.4444444444444444,
              "#bd3786"
             ],
             [
              0.5555555555555556,
              "#d8576b"
             ],
             [
              0.6666666666666666,
              "#ed7953"
             ],
             [
              0.7777777777777778,
              "#fb9f3a"
             ],
             [
              0.8888888888888888,
              "#fdca26"
             ],
             [
              1,
              "#f0f921"
             ]
            ],
            "type": "histogram2d"
           }
          ],
          "histogram2dcontour": [
           {
            "colorbar": {
             "outlinewidth": 0,
             "ticks": ""
            },
            "colorscale": [
             [
              0,
              "#0d0887"
             ],
             [
              0.1111111111111111,
              "#46039f"
             ],
             [
              0.2222222222222222,
              "#7201a8"
             ],
             [
              0.3333333333333333,
              "#9c179e"
             ],
             [
              0.4444444444444444,
              "#bd3786"
             ],
             [
              0.5555555555555556,
              "#d8576b"
             ],
             [
              0.6666666666666666,
              "#ed7953"
             ],
             [
              0.7777777777777778,
              "#fb9f3a"
             ],
             [
              0.8888888888888888,
              "#fdca26"
             ],
             [
              1,
              "#f0f921"
             ]
            ],
            "type": "histogram2dcontour"
           }
          ],
          "mesh3d": [
           {
            "colorbar": {
             "outlinewidth": 0,
             "ticks": ""
            },
            "type": "mesh3d"
           }
          ],
          "parcoords": [
           {
            "line": {
             "colorbar": {
              "outlinewidth": 0,
              "ticks": ""
             }
            },
            "type": "parcoords"
           }
          ],
          "pie": [
           {
            "automargin": true,
            "type": "pie"
           }
          ],
          "scatter": [
           {
            "fillpattern": {
             "fillmode": "overlay",
             "size": 10,
             "solidity": 0.2
            },
            "type": "scatter"
           }
          ],
          "scatter3d": [
           {
            "line": {
             "colorbar": {
              "outlinewidth": 0,
              "ticks": ""
             }
            },
            "marker": {
             "colorbar": {
              "outlinewidth": 0,
              "ticks": ""
             }
            },
            "type": "scatter3d"
           }
          ],
          "scattercarpet": [
           {
            "marker": {
             "colorbar": {
              "outlinewidth": 0,
              "ticks": ""
             }
            },
            "type": "scattercarpet"
           }
          ],
          "scattergeo": [
           {
            "marker": {
             "colorbar": {
              "outlinewidth": 0,
              "ticks": ""
             }
            },
            "type": "scattergeo"
           }
          ],
          "scattergl": [
           {
            "marker": {
             "colorbar": {
              "outlinewidth": 0,
              "ticks": ""
             }
            },
            "type": "scattergl"
           }
          ],
          "scattermapbox": [
           {
            "marker": {
             "colorbar": {
              "outlinewidth": 0,
              "ticks": ""
             }
            },
            "type": "scattermapbox"
           }
          ],
          "scatterpolar": [
           {
            "marker": {
             "colorbar": {
              "outlinewidth": 0,
              "ticks": ""
             }
            },
            "type": "scatterpolar"
           }
          ],
          "scatterpolargl": [
           {
            "marker": {
             "colorbar": {
              "outlinewidth": 0,
              "ticks": ""
             }
            },
            "type": "scatterpolargl"
           }
          ],
          "scatterternary": [
           {
            "marker": {
             "colorbar": {
              "outlinewidth": 0,
              "ticks": ""
             }
            },
            "type": "scatterternary"
           }
          ],
          "surface": [
           {
            "colorbar": {
             "outlinewidth": 0,
             "ticks": ""
            },
            "colorscale": [
             [
              0,
              "#0d0887"
             ],
             [
              0.1111111111111111,
              "#46039f"
             ],
             [
              0.2222222222222222,
              "#7201a8"
             ],
             [
              0.3333333333333333,
              "#9c179e"
             ],
             [
              0.4444444444444444,
              "#bd3786"
             ],
             [
              0.5555555555555556,
              "#d8576b"
             ],
             [
              0.6666666666666666,
              "#ed7953"
             ],
             [
              0.7777777777777778,
              "#fb9f3a"
             ],
             [
              0.8888888888888888,
              "#fdca26"
             ],
             [
              1,
              "#f0f921"
             ]
            ],
            "type": "surface"
           }
          ],
          "table": [
           {
            "cells": {
             "fill": {
              "color": "#EBF0F8"
             },
             "line": {
              "color": "white"
             }
            },
            "header": {
             "fill": {
              "color": "#C8D4E3"
             },
             "line": {
              "color": "white"
             }
            },
            "type": "table"
           }
          ]
         },
         "layout": {
          "annotationdefaults": {
           "arrowcolor": "#2a3f5f",
           "arrowhead": 0,
           "arrowwidth": 1
          },
          "autotypenumbers": "strict",
          "coloraxis": {
           "colorbar": {
            "outlinewidth": 0,
            "ticks": ""
           }
          },
          "colorscale": {
           "diverging": [
            [
             0,
             "#8e0152"
            ],
            [
             0.1,
             "#c51b7d"
            ],
            [
             0.2,
             "#de77ae"
            ],
            [
             0.3,
             "#f1b6da"
            ],
            [
             0.4,
             "#fde0ef"
            ],
            [
             0.5,
             "#f7f7f7"
            ],
            [
             0.6,
             "#e6f5d0"
            ],
            [
             0.7,
             "#b8e186"
            ],
            [
             0.8,
             "#7fbc41"
            ],
            [
             0.9,
             "#4d9221"
            ],
            [
             1,
             "#276419"
            ]
           ],
           "sequential": [
            [
             0,
             "#0d0887"
            ],
            [
             0.1111111111111111,
             "#46039f"
            ],
            [
             0.2222222222222222,
             "#7201a8"
            ],
            [
             0.3333333333333333,
             "#9c179e"
            ],
            [
             0.4444444444444444,
             "#bd3786"
            ],
            [
             0.5555555555555556,
             "#d8576b"
            ],
            [
             0.6666666666666666,
             "#ed7953"
            ],
            [
             0.7777777777777778,
             "#fb9f3a"
            ],
            [
             0.8888888888888888,
             "#fdca26"
            ],
            [
             1,
             "#f0f921"
            ]
           ],
           "sequentialminus": [
            [
             0,
             "#0d0887"
            ],
            [
             0.1111111111111111,
             "#46039f"
            ],
            [
             0.2222222222222222,
             "#7201a8"
            ],
            [
             0.3333333333333333,
             "#9c179e"
            ],
            [
             0.4444444444444444,
             "#bd3786"
            ],
            [
             0.5555555555555556,
             "#d8576b"
            ],
            [
             0.6666666666666666,
             "#ed7953"
            ],
            [
             0.7777777777777778,
             "#fb9f3a"
            ],
            [
             0.8888888888888888,
             "#fdca26"
            ],
            [
             1,
             "#f0f921"
            ]
           ]
          },
          "colorway": [
           "#636efa",
           "#EF553B",
           "#00cc96",
           "#ab63fa",
           "#FFA15A",
           "#19d3f3",
           "#FF6692",
           "#B6E880",
           "#FF97FF",
           "#FECB52"
          ],
          "font": {
           "color": "#2a3f5f"
          },
          "geo": {
           "bgcolor": "white",
           "lakecolor": "white",
           "landcolor": "#E5ECF6",
           "showlakes": true,
           "showland": true,
           "subunitcolor": "white"
          },
          "hoverlabel": {
           "align": "left"
          },
          "hovermode": "closest",
          "mapbox": {
           "style": "light"
          },
          "paper_bgcolor": "white",
          "plot_bgcolor": "#E5ECF6",
          "polar": {
           "angularaxis": {
            "gridcolor": "white",
            "linecolor": "white",
            "ticks": ""
           },
           "bgcolor": "#E5ECF6",
           "radialaxis": {
            "gridcolor": "white",
            "linecolor": "white",
            "ticks": ""
           }
          },
          "scene": {
           "xaxis": {
            "backgroundcolor": "#E5ECF6",
            "gridcolor": "white",
            "gridwidth": 2,
            "linecolor": "white",
            "showbackground": true,
            "ticks": "",
            "zerolinecolor": "white"
           },
           "yaxis": {
            "backgroundcolor": "#E5ECF6",
            "gridcolor": "white",
            "gridwidth": 2,
            "linecolor": "white",
            "showbackground": true,
            "ticks": "",
            "zerolinecolor": "white"
           },
           "zaxis": {
            "backgroundcolor": "#E5ECF6",
            "gridcolor": "white",
            "gridwidth": 2,
            "linecolor": "white",
            "showbackground": true,
            "ticks": "",
            "zerolinecolor": "white"
           }
          },
          "shapedefaults": {
           "line": {
            "color": "#2a3f5f"
           }
          },
          "ternary": {
           "aaxis": {
            "gridcolor": "white",
            "linecolor": "white",
            "ticks": ""
           },
           "baxis": {
            "gridcolor": "white",
            "linecolor": "white",
            "ticks": ""
           },
           "bgcolor": "#E5ECF6",
           "caxis": {
            "gridcolor": "white",
            "linecolor": "white",
            "ticks": ""
           }
          },
          "title": {
           "x": 0.05
          },
          "xaxis": {
           "automargin": true,
           "gridcolor": "white",
           "linecolor": "white",
           "ticks": "",
           "title": {
            "standoff": 15
           },
           "zerolinecolor": "white",
           "zerolinewidth": 2
          },
          "yaxis": {
           "automargin": true,
           "gridcolor": "white",
           "linecolor": "white",
           "ticks": "",
           "title": {
            "standoff": 15
           },
           "zerolinecolor": "white",
           "zerolinewidth": 2
          }
         }
        },
        "title": {
         "text": "RTT upload values in the dataset"
        },
        "xaxis": {
         "anchor": "y",
         "domain": [
          0,
          0.2888888888888889
         ]
        },
        "xaxis2": {
         "anchor": "y2",
         "domain": [
          0.35555555555555557,
          0.6444444444444445
         ]
        },
        "xaxis3": {
         "anchor": "y3",
         "domain": [
          0.7111111111111111,
          1
         ]
        },
        "yaxis": {
         "anchor": "x",
         "domain": [
          0,
          1
         ]
        },
        "yaxis2": {
         "anchor": "x2",
         "domain": [
          0,
          1
         ]
        },
        "yaxis3": {
         "anchor": "x3",
         "domain": [
          0,
          1
         ]
        }
       }
      }
     },
     "metadata": {},
     "output_type": "display_data"
    }
   ],
   "source": [
    "plotly_multi_hist([top_10_ul, bot_10_ul, freq_10_ul], 1, 3, \"RTT upload values in the dataset\", ['Top 10', 'Bottom 10', 'Most 10'])"
   ]
  },
  {
   "cell_type": "code",
   "execution_count": 74,
   "metadata": {},
   "outputs": [
    {
     "data": {
      "image/png": "[encoded data removed]",
      "text/plain": [
       "<IPython.core.display.Image object>"
      ]
     },
     "execution_count": 74,
     "metadata": {},
     "output_type": "execute_result"
    }
   ],
   "source": [
    "# this is just for git hub, to display the plot on git hub\n",
    "Image(filename='../plots/rtt_ul.png')"
   ]
  },
  {
   "cell_type": "markdown",
   "metadata": {},
   "source": [
    "* Throughput values in the dataset"
   ]
  },
  {
   "cell_type": "code",
   "execution_count": 66,
   "metadata": {},
   "outputs": [],
   "source": [
    "through_put_dl = user_experience_df.sort_values('Avg Bearer TP DL (kbps)', ascending=False)\n",
    "through_put_ul = user_experience_df.sort_values('Avg Bearer TP UL (kbps)', ascending=False)\n",
    "\n",
    "top_10_dl = through_put_dl.head(10)\n",
    "bot_10_dl = through_put_dl.tail(10)\n",
    "freq_10_dl = through_put_dl['Avg Bearer TP DL (kbps)'].value_counts().head(10)\n",
    "\n",
    "top_10_ul = through_put_ul.head(10)\n",
    "bot_10_ul = through_put_ul.tail(10)\n",
    "freq_10_ul = through_put_ul['Avg Bearer TP UL (kbps)'].value_counts().head(10)"
   ]
  },
  {
   "cell_type": "code",
   "execution_count": 67,
   "metadata": {},
   "outputs": [
    {
     "data": {
      "application/vnd.plotly.v1+json": {
       "config": {
        "plotlyServerURL": "https://plot.ly"
       },
       "data": [
        {
         "type": "bar",
         "x": [
          "-> 120876",
          "-> 141250",
          "-> 143670",
          "-> 149616",
          "-> 92177",
          "-> 117776",
          "-> 115836",
          "-> 89567",
          "-> 116550",
          "-> 41551"
         ],
         "xaxis": "x",
         "y": [
          [
           33661168806,
           1226706,
           57921,
           71,
           25,
           "Huawei B528S-23A",
           378160,
           4102
          ],
          [
           33698174760,
           61004007,
           288269,
           42,
           7,
           "Huawei B528S-23A",
           299257,
           5042
          ],
          [
           33672505906,
           91336,
           16181,
           24,
           20,
           "Samsung Galaxy S9 Sm-G960F Ds",
           299002,
           14242
          ],
          [
           33651688261,
           150808,
           20949.5,
           34,
           4,
           "Apple iPhone Xs Max (A2101)",
           276040,
           1112
          ],
          [
           33668563049,
           27912589,
           98428,
           39,
           10,
           "Apple iPhone Xr (A2105)",
           269362,
           6843
          ],
          [
           33768694413,
           816345,
           2231,
           28,
           27,
           "Huawei B528S-23A",
           266332,
           3556
          ],
          [
           33668425947,
           432587162,
           120432,
           85,
           29,
           "Huawei B528S-23A",
           265440,
           3952
          ],
          [
           33662681056,
           9535,
           20949.5,
           22,
           15,
           "Huawei P20",
           264448,
           1276
          ],
          [
           33665490907,
           6438686,
           104062,
           64,
           5,
           "Apple iPhone Xr (A2105)",
           263047,
           11005
          ],
          [
           33786863758,
           597147,
           4102,
           32,
           11,
           "Samsung Galaxy S8 (Sm-G950F)",
           254253,
           3426
          ]
         ],
         "yaxis": "y"
        },
        {
         "type": "bar",
         "x": [
          "-> 95212",
          "-> 20506",
          "-> 55556",
          "-> 10513",
          "-> 117835",
          "-> 117821",
          "-> 148808",
          "-> 10632",
          "-> 20517",
          "-> 95306"
         ],
         "xaxis": "x2",
         "y": [
          [
           33753079128,
           568730,
           20949.5,
           45,
           5,
           "Samsung Galaxy S7 (Sm-G930X)",
           0,
           2
          ],
          [
           33662459797,
           568730,
           20949.5,
           45,
           5,
           "Samsung Galaxy S8 (Sm-G950F)",
           0,
           0
          ],
          [
           33677213615,
           568730,
           20949.5,
           45,
           5,
           "Samsung Galaxy S7 (Sm-G930X)",
           0,
           2
          ],
          [
           33670972499,
           568730,
           20949.5,
           45,
           5,
           "Huawei P8 Lite",
           0,
           1
          ],
          [
           33769571093,
           568730,
           20949.5,
           45,
           5,
           "Sony Mobile Comm. Xperia Xa1",
           0,
           0
          ],
          [
           33663309405,
           568730,
           20949.5,
           45,
           5,
           "Apple iPhone 6S Plus (A1687)",
           0,
           0
          ],
          [
           33663706799,
           568730,
           20949.5,
           45,
           5,
           "Huawei B528S-23A",
           0,
           46
          ],
          [
           33661113772,
           568730,
           20949.5,
           45,
           5,
           "Huawei B528S-23A",
           0,
           0
          ],
          [
           33662425908,
           568730,
           20949.5,
           45,
           5,
           "Samsung Galaxy S6 Edge (Sm-G925X)",
           0,
           2
          ],
          [
           33659307997,
           568730,
           14630,
           45,
           5,
           "Samsung Galaxy S6 Plus (Sm-G928)",
           0,
           1465
          ]
         ],
         "yaxis": "y2"
        },
        {
         "type": "bar",
         "x": [
          "-> 23.0",
          "-> 43.0",
          "-> 44.0",
          "-> 6.0",
          "-> 22.0",
          "-> 48.0",
          "-> 63.0",
          "-> 42.0",
          "-> 45.0",
          "-> 47.0"
         ],
         "xaxis": "x3",
         "y": [
          7324,
          4352,
          4186,
          3983,
          2867,
          2778,
          2757,
          2689,
          2644,
          2263
         ],
         "yaxis": "y3"
        }
       ],
       "layout": {
        "annotations": [
         {
          "font": {
           "size": 16
          },
          "showarrow": false,
          "text": "Top 10",
          "x": 0.14444444444444446,
          "xanchor": "center",
          "xref": "paper",
          "y": 1,
          "yanchor": "bottom",
          "yref": "paper"
         },
         {
          "font": {
           "size": 16
          },
          "showarrow": false,
          "text": "Bottom 10",
          "x": 0.5,
          "xanchor": "center",
          "xref": "paper",
          "y": 1,
          "yanchor": "bottom",
          "yref": "paper"
         },
         {
          "font": {
           "size": 16
          },
          "showarrow": false,
          "text": "Most 10",
          "x": 0.8555555555555556,
          "xanchor": "center",
          "xref": "paper",
          "y": 1,
          "yanchor": "bottom",
          "yref": "paper"
         }
        ],
        "showlegend": false,
        "template": {
         "data": {
          "bar": [
           {
            "error_x": {
             "color": "#2a3f5f"
            },
            "error_y": {
             "color": "#2a3f5f"
            },
            "marker": {
             "line": {
              "color": "#E5ECF6",
              "width": 0.5
             },
             "pattern": {
              "fillmode": "overlay",
              "size": 10,
              "solidity": 0.2
             }
            },
            "type": "bar"
           }
          ],
          "barpolar": [
           {
            "marker": {
             "line": {
              "color": "#E5ECF6",
              "width": 0.5
             },
             "pattern": {
              "fillmode": "overlay",
              "size": 10,
              "solidity": 0.2
             }
            },
            "type": "barpolar"
           }
          ],
          "carpet": [
           {
            "aaxis": {
             "endlinecolor": "#2a3f5f",
             "gridcolor": "white",
             "linecolor": "white",
             "minorgridcolor": "white",
             "startlinecolor": "#2a3f5f"
            },
            "baxis": {
             "endlinecolor": "#2a3f5f",
             "gridcolor": "white",
             "linecolor": "white",
             "minorgridcolor": "white",
             "startlinecolor": "#2a3f5f"
            },
            "type": "carpet"
           }
          ],
          "choropleth": [
           {
            "colorbar": {
             "outlinewidth": 0,
             "ticks": ""
            },
            "type": "choropleth"
           }
          ],
          "contour": [
           {
            "colorbar": {
             "outlinewidth": 0,
             "ticks": ""
            },
            "colorscale": [
             [
              0,
              "#0d0887"
             ],
             [
              0.1111111111111111,
              "#46039f"
             ],
             [
              0.2222222222222222,
              "#7201a8"
             ],
             [
              0.3333333333333333,
              "#9c179e"
             ],
             [
              0.4444444444444444,
              "#bd3786"
             ],
             [
              0.5555555555555556,
              "#d8576b"
             ],
             [
              0.6666666666666666,
              "#ed7953"
             ],
             [
              0.7777777777777778,
              "#fb9f3a"
             ],
             [
              0.8888888888888888,
              "#fdca26"
             ],
             [
              1,
              "#f0f921"
             ]
            ],
            "type": "contour"
           }
          ],
          "contourcarpet": [
           {
            "colorbar": {
             "outlinewidth": 0,
             "ticks": ""
            },
            "type": "contourcarpet"
           }
          ],
          "heatmap": [
           {
            "colorbar": {
             "outlinewidth": 0,
             "ticks": ""
            },
            "colorscale": [
             [
              0,
              "#0d0887"
             ],
             [
              0.1111111111111111,
              "#46039f"
             ],
             [
              0.2222222222222222,
              "#7201a8"
             ],
             [
              0.3333333333333333,
              "#9c179e"
             ],
             [
              0.4444444444444444,
              "#bd3786"
             ],
             [
              0.5555555555555556,
              "#d8576b"
             ],
             [
              0.6666666666666666,
              "#ed7953"
             ],
             [
              0.7777777777777778,
              "#fb9f3a"
             ],
             [
              0.8888888888888888,
              "#fdca26"
             ],
             [
              1,
              "#f0f921"
             ]
            ],
            "type": "heatmap"
           }
          ],
          "heatmapgl": [
           {
            "colorbar": {
             "outlinewidth": 0,
             "ticks": ""
            },
            "colorscale": [
             [
              0,
              "#0d0887"
             ],
             [
              0.1111111111111111,
              "#46039f"
             ],
             [
              0.2222222222222222,
              "#7201a8"
             ],
             [
              0.3333333333333333,
              "#9c179e"
             ],
             [
              0.4444444444444444,
              "#bd3786"
             ],
             [
              0.5555555555555556,
              "#d8576b"
             ],
             [
              0.6666666666666666,
              "#ed7953"
             ],
             [
              0.7777777777777778,
              "#fb9f3a"
             ],
             [
              0.8888888888888888,
              "#fdca26"
             ],
             [
              1,
              "#f0f921"
             ]
            ],
            "type": "heatmapgl"
           }
          ],
          "histogram": [
           {
            "marker": {
             "pattern": {
              "fillmode": "overlay",
              "size": 10,
              "solidity": 0.2
             }
            },
            "type": "histogram"
           }
          ],
          "histogram2d": [
           {
            "colorbar": {
             "outlinewidth": 0,
             "ticks": ""
            },
            "colorscale": [
             [
              0,
              "#0d0887"
             ],
             [
              0.1111111111111111,
              "#46039f"
             ],
             [
              0.2222222222222222,
              "#7201a8"
             ],
             [
              0.3333333333333333,
              "#9c179e"
             ],
             [
              0.4444444444444444,
              "#bd3786"
             ],
             [
              0.5555555555555556,
              "#d8576b"
             ],
             [
              0.6666666666666666,
              "#ed7953"
             ],
             [
              0.7777777777777778,
              "#fb9f3a"
             ],
             [
              0.8888888888888888,
              "#fdca26"
             ],
             [
              1,
              "#f0f921"
             ]
            ],
            "type": "histogram2d"
           }
          ],
          "histogram2dcontour": [
           {
            "colorbar": {
             "outlinewidth": 0,
             "ticks": ""
            },
            "colorscale": [
             [
              0,
              "#0d0887"
             ],
             [
              0.1111111111111111,
              "#46039f"
             ],
             [
              0.2222222222222222,
              "#7201a8"
             ],
             [
              0.3333333333333333,
              "#9c179e"
             ],
             [
              0.4444444444444444,
              "#bd3786"
             ],
             [
              0.5555555555555556,
              "#d8576b"
             ],
             [
              0.6666666666666666,
              "#ed7953"
             ],
             [
              0.7777777777777778,
              "#fb9f3a"
             ],
             [
              0.8888888888888888,
              "#fdca26"
             ],
             [
              1,
              "#f0f921"
             ]
            ],
            "type": "histogram2dcontour"
           }
          ],
          "mesh3d": [
           {
            "colorbar": {
             "outlinewidth": 0,
             "ticks": ""
            },
            "type": "mesh3d"
           }
          ],
          "parcoords": [
           {
            "line": {
             "colorbar": {
              "outlinewidth": 0,
              "ticks": ""
             }
            },
            "type": "parcoords"
           }
          ],
          "pie": [
           {
            "automargin": true,
            "type": "pie"
           }
          ],
          "scatter": [
           {
            "fillpattern": {
             "fillmode": "overlay",
             "size": 10,
             "solidity": 0.2
            },
            "type": "scatter"
           }
          ],
          "scatter3d": [
           {
            "line": {
             "colorbar": {
              "outlinewidth": 0,
              "ticks": ""
             }
            },
            "marker": {
             "colorbar": {
              "outlinewidth": 0,
              "ticks": ""
             }
            },
            "type": "scatter3d"
           }
          ],
          "scattercarpet": [
           {
            "marker": {
             "colorbar": {
              "outlinewidth": 0,
              "ticks": ""
             }
            },
            "type": "scattercarpet"
           }
          ],
          "scattergeo": [
           {
            "marker": {
             "colorbar": {
              "outlinewidth": 0,
              "ticks": ""
             }
            },
            "type": "scattergeo"
           }
          ],
          "scattergl": [
           {
            "marker": {
             "colorbar": {
              "outlinewidth": 0,
              "ticks": ""
             }
            },
            "type": "scattergl"
           }
          ],
          "scattermapbox": [
           {
            "marker": {
             "colorbar": {
              "outlinewidth": 0,
              "ticks": ""
             }
            },
            "type": "scattermapbox"
           }
          ],
          "scatterpolar": [
           {
            "marker": {
             "colorbar": {
              "outlinewidth": 0,
              "ticks": ""
             }
            },
            "type": "scatterpolar"
           }
          ],
          "scatterpolargl": [
           {
            "marker": {
             "colorbar": {
              "outlinewidth": 0,
              "ticks": ""
             }
            },
            "type": "scatterpolargl"
           }
          ],
          "scatterternary": [
           {
            "marker": {
             "colorbar": {
              "outlinewidth": 0,
              "ticks": ""
             }
            },
            "type": "scatterternary"
           }
          ],
          "surface": [
           {
            "colorbar": {
             "outlinewidth": 0,
             "ticks": ""
            },
            "colorscale": [
             [
              0,
              "#0d0887"
             ],
             [
              0.1111111111111111,
              "#46039f"
             ],
             [
              0.2222222222222222,
              "#7201a8"
             ],
             [
              0.3333333333333333,
              "#9c179e"
             ],
             [
              0.4444444444444444,
              "#bd3786"
             ],
             [
              0.5555555555555556,
              "#d8576b"
             ],
             [
              0.6666666666666666,
              "#ed7953"
             ],
             [
              0.7777777777777778,
              "#fb9f3a"
             ],
             [
              0.8888888888888888,
              "#fdca26"
             ],
             [
              1,
              "#f0f921"
             ]
            ],
            "type": "surface"
           }
          ],
          "table": [
           {
            "cells": {
             "fill": {
              "color": "#EBF0F8"
             },
             "line": {
              "color": "white"
             }
            },
            "header": {
             "fill": {
              "color": "#C8D4E3"
             },
             "line": {
              "color": "white"
             }
            },
            "type": "table"
           }
          ]
         },
         "layout": {
          "annotationdefaults": {
           "arrowcolor": "#2a3f5f",
           "arrowhead": 0,
           "arrowwidth": 1
          },
          "autotypenumbers": "strict",
          "coloraxis": {
           "colorbar": {
            "outlinewidth": 0,
            "ticks": ""
           }
          },
          "colorscale": {
           "diverging": [
            [
             0,
             "#8e0152"
            ],
            [
             0.1,
             "#c51b7d"
            ],
            [
             0.2,
             "#de77ae"
            ],
            [
             0.3,
             "#f1b6da"
            ],
            [
             0.4,
             "#fde0ef"
            ],
            [
             0.5,
             "#f7f7f7"
            ],
            [
             0.6,
             "#e6f5d0"
            ],
            [
             0.7,
             "#b8e186"
            ],
            [
             0.8,
             "#7fbc41"
            ],
            [
             0.9,
             "#4d9221"
            ],
            [
             1,
             "#276419"
            ]
           ],
           "sequential": [
            [
             0,
             "#0d0887"
            ],
            [
             0.1111111111111111,
             "#46039f"
            ],
            [
             0.2222222222222222,
             "#7201a8"
            ],
            [
             0.3333333333333333,
             "#9c179e"
            ],
            [
             0.4444444444444444,
             "#bd3786"
            ],
            [
             0.5555555555555556,
             "#d8576b"
            ],
            [
             0.6666666666666666,
             "#ed7953"
            ],
            [
             0.7777777777777778,
             "#fb9f3a"
            ],
            [
             0.8888888888888888,
             "#fdca26"
            ],
            [
             1,
             "#f0f921"
            ]
           ],
           "sequentialminus": [
            [
             0,
             "#0d0887"
            ],
            [
             0.1111111111111111,
             "#46039f"
            ],
            [
             0.2222222222222222,
             "#7201a8"
            ],
            [
             0.3333333333333333,
             "#9c179e"
            ],
            [
             0.4444444444444444,
             "#bd3786"
            ],
            [
             0.5555555555555556,
             "#d8576b"
            ],
            [
             0.6666666666666666,
             "#ed7953"
            ],
            [
             0.7777777777777778,
             "#fb9f3a"
            ],
            [
             0.8888888888888888,
             "#fdca26"
            ],
            [
             1,
             "#f0f921"
            ]
           ]
          },
          "colorway": [
           "#636efa",
           "#EF553B",
           "#00cc96",
           "#ab63fa",
           "#FFA15A",
           "#19d3f3",
           "#FF6692",
           "#B6E880",
           "#FF97FF",
           "#FECB52"
          ],
          "font": {
           "color": "#2a3f5f"
          },
          "geo": {
           "bgcolor": "white",
           "lakecolor": "white",
           "landcolor": "#E5ECF6",
           "showlakes": true,
           "showland": true,
           "subunitcolor": "white"
          },
          "hoverlabel": {
           "align": "left"
          },
          "hovermode": "closest",
          "mapbox": {
           "style": "light"
          },
          "paper_bgcolor": "white",
          "plot_bgcolor": "#E5ECF6",
          "polar": {
           "angularaxis": {
            "gridcolor": "white",
            "linecolor": "white",
            "ticks": ""
           },
           "bgcolor": "#E5ECF6",
           "radialaxis": {
            "gridcolor": "white",
            "linecolor": "white",
            "ticks": ""
           }
          },
          "scene": {
           "xaxis": {
            "backgroundcolor": "#E5ECF6",
            "gridcolor": "white",
            "gridwidth": 2,
            "linecolor": "white",
            "showbackground": true,
            "ticks": "",
            "zerolinecolor": "white"
           },
           "yaxis": {
            "backgroundcolor": "#E5ECF6",
            "gridcolor": "white",
            "gridwidth": 2,
            "linecolor": "white",
            "showbackground": true,
            "ticks": "",
            "zerolinecolor": "white"
           },
           "zaxis": {
            "backgroundcolor": "#E5ECF6",
            "gridcolor": "white",
            "gridwidth": 2,
            "linecolor": "white",
            "showbackground": true,
            "ticks": "",
            "zerolinecolor": "white"
           }
          },
          "shapedefaults": {
           "line": {
            "color": "#2a3f5f"
           }
          },
          "ternary": {
           "aaxis": {
            "gridcolor": "white",
            "linecolor": "white",
            "ticks": ""
           },
           "baxis": {
            "gridcolor": "white",
            "linecolor": "white",
            "ticks": ""
           },
           "bgcolor": "#E5ECF6",
           "caxis": {
            "gridcolor": "white",
            "linecolor": "white",
            "ticks": ""
           }
          },
          "title": {
           "x": 0.05
          },
          "xaxis": {
           "automargin": true,
           "gridcolor": "white",
           "linecolor": "white",
           "ticks": "",
           "title": {
            "standoff": 15
           },
           "zerolinecolor": "white",
           "zerolinewidth": 2
          },
          "yaxis": {
           "automargin": true,
           "gridcolor": "white",
           "linecolor": "white",
           "ticks": "",
           "title": {
            "standoff": 15
           },
           "zerolinecolor": "white",
           "zerolinewidth": 2
          }
         }
        },
        "title": {
         "text": "Through put download values in the dataset"
        },
        "xaxis": {
         "anchor": "y",
         "domain": [
          0,
          0.2888888888888889
         ]
        },
        "xaxis2": {
         "anchor": "y2",
         "domain": [
          0.35555555555555557,
          0.6444444444444445
         ]
        },
        "xaxis3": {
         "anchor": "y3",
         "domain": [
          0.7111111111111111,
          1
         ]
        },
        "yaxis": {
         "anchor": "x",
         "domain": [
          0,
          1
         ]
        },
        "yaxis2": {
         "anchor": "x2",
         "domain": [
          0,
          1
         ]
        },
        "yaxis3": {
         "anchor": "x3",
         "domain": [
          0,
          1
         ]
        }
       }
      }
     },
     "metadata": {},
     "output_type": "display_data"
    }
   ],
   "source": [
    "plotly_multi_hist([top_10_dl, bot_10_dl, freq_10_dl], 1, 3, \"Through put download values in the dataset\", ['Top 10', 'Bottom 10', 'Most 10'])"
   ]
  },
  {
   "cell_type": "code",
   "execution_count": 73,
   "metadata": {},
   "outputs": [
    {
     "data": {
      "image/png": "[encoded data removed]",
      "text/plain": [
       "<IPython.core.display.Image object>"
      ]
     },
     "execution_count": 73,
     "metadata": {},
     "output_type": "execute_result"
    }
   ],
   "source": [
    "# this is just for git hub, to display the plot on git hub\n",
    "Image(filename='../plots/thro_put_dl.png')"
   ]
  },
  {
   "cell_type": "code",
   "execution_count": 68,
   "metadata": {},
   "outputs": [
    {
     "data": {
      "application/vnd.plotly.v1+json": {
       "config": {
        "plotlyServerURL": "https://plot.ly"
       },
       "data": [
        {
         "type": "bar",
         "x": [
          "-> 92364",
          "-> 5900",
          "-> 137154",
          "-> 116882",
          "-> 99287",
          "-> 91298",
          "-> 45400",
          "-> 9260",
          "-> 91606",
          "-> 124757"
         ],
         "xaxis": "x",
         "y": [
          [
           33615079395,
           25395334,
           2177374,
           39,
           21,
           "Huawei Mate 10 Pro Porsche Design Huawei Mate 10",
           79762,
           58613
          ],
          [
           33783080014,
           3502744,
           1889636,
           44,
           3,
           "Apple iPhone Xs Max (A2101)",
           146215,
           57792
          ],
          [
           33629895620,
           26675,
           1798195,
           99,
           3,
           "Samsung Galaxy S8 Plus (Sm-G955F)",
           26733,
           57750
          ],
          [
           33661262104,
           2458686,
           259848,
           44,
           3,
           "Apple iPhone X (A1901)",
           101574,
           57006
          ],
          [
           33695206488,
           7864,
           332436,
           39,
           3,
           "Apple iPhone Xs Max (A2101)",
           39981,
           56763
          ],
          [
           33666615543,
           6988792,
           2683115,
           44,
           15,
           "Apple iPhone 8 (A1905)",
           246514,
           54032
          ],
          [
           33674173806,
           1454330,
           367610,
           45,
           21,
           "Samsung Galaxy S8 (Sm-G950F)",
           29309,
           53572
          ],
          [
           33658048193,
           1663934,
           1272904,
           41,
           10,
           "Apple iPhone Xr (A2105)",
           65279,
           52640
          ],
          [
           33684947100,
           1221067,
           1156436,
           47,
           3,
           "Apple iPhone 8 Plus (A1897)",
           43087,
           52084
          ],
          [
           33614240878,
           3766642,
           3001,
           52,
           8,
           "Apple iPhone X (A1901)",
           138224,
           51562
          ]
         ],
         "yaxis": "y"
        },
        {
         "type": "bar",
         "x": [
          "-> 40214",
          "-> 55975",
          "-> 40428",
          "-> 124758",
          "-> 98127",
          "-> 40421",
          "-> 98082",
          "-> 115312",
          "-> 55933",
          "-> 121498"
         ],
         "xaxis": "x2",
         "y": [
          [
           33658628013,
           568730,
           20949.5,
           45,
           5,
           "Huawei B528S-23A",
           20,
           0
          ],
          [
           33663827556,
           568730,
           20949.5,
           45,
           5,
           "Huawei B528S-23A",
           3,
           0
          ],
          [
           33699473696,
           568730,
           20949.5,
           45,
           5,
           "Huawei B528S-23A",
           21,
           0
          ],
          [
           33614240878,
           568730,
           20949.5,
           45,
           5,
           "Apple iPhone X (A1901)",
           0,
           0
          ],
          [
           33698388382,
           568730,
           20949.5,
           45,
           5,
           "Samsung Galaxy S6 Edge (Sm-G925X)",
           0,
           0
          ],
          [
           33627170739,
           568730,
           20949.5,
           45,
           5,
           "Huawei B525S-23A",
           0,
           0
          ],
          [
           33663706799,
           568730,
           20949.5,
           45,
           5,
           "Huawei B528S-23A",
           12,
           0
          ],
          [
           33625427394,
           568730,
           20949.5,
           45,
           5,
           "Samsung Galaxy S7 (Sm-G930X)",
           0,
           0
          ],
          [
           33762447035,
           568730,
           20949.5,
           45,
           5,
           "Huawei B528S-23A",
           20,
           0
          ],
          [
           33659136463,
           568730,
           20949.5,
           45,
           5,
           "Huawei B528S-23A",
           17,
           0
          ]
         ],
         "yaxis": "y2"
        },
        {
         "type": "bar",
         "x": [
          "-> 40.0",
          "-> 54.0",
          "-> 47.0",
          "-> 53.0",
          "-> 9.0",
          "-> 52.0",
          "-> 51.0",
          "-> 44.0",
          "-> 46.0",
          "-> 55.0"
         ],
         "xaxis": "x3",
         "y": [
          7794,
          6344,
          5840,
          4835,
          3812,
          3786,
          3646,
          3366,
          3216,
          2871
         ],
         "yaxis": "y3"
        }
       ],
       "layout": {
        "annotations": [
         {
          "font": {
           "size": 16
          },
          "showarrow": false,
          "text": "Top 10",
          "x": 0.14444444444444446,
          "xanchor": "center",
          "xref": "paper",
          "y": 1,
          "yanchor": "bottom",
          "yref": "paper"
         },
         {
          "font": {
           "size": 16
          },
          "showarrow": false,
          "text": "Bottom 10",
          "x": 0.5,
          "xanchor": "center",
          "xref": "paper",
          "y": 1,
          "yanchor": "bottom",
          "yref": "paper"
         },
         {
          "font": {
           "size": 16
          },
          "showarrow": false,
          "text": "Most 10",
          "x": 0.8555555555555556,
          "xanchor": "center",
          "xref": "paper",
          "y": 1,
          "yanchor": "bottom",
          "yref": "paper"
         }
        ],
        "showlegend": false,
        "template": {
         "data": {
          "bar": [
           {
            "error_x": {
             "color": "#2a3f5f"
            },
            "error_y": {
             "color": "#2a3f5f"
            },
            "marker": {
             "line": {
              "color": "#E5ECF6",
              "width": 0.5
             },
             "pattern": {
              "fillmode": "overlay",
              "size": 10,
              "solidity": 0.2
             }
            },
            "type": "bar"
           }
          ],
          "barpolar": [
           {
            "marker": {
             "line": {
              "color": "#E5ECF6",
              "width": 0.5
             },
             "pattern": {
              "fillmode": "overlay",
              "size": 10,
              "solidity": 0.2
             }
            },
            "type": "barpolar"
           }
          ],
          "carpet": [
           {
            "aaxis": {
             "endlinecolor": "#2a3f5f",
             "gridcolor": "white",
             "linecolor": "white",
             "minorgridcolor": "white",
             "startlinecolor": "#2a3f5f"
            },
            "baxis": {
             "endlinecolor": "#2a3f5f",
             "gridcolor": "white",
             "linecolor": "white",
             "minorgridcolor": "white",
             "startlinecolor": "#2a3f5f"
            },
            "type": "carpet"
           }
          ],
          "choropleth": [
           {
            "colorbar": {
             "outlinewidth": 0,
             "ticks": ""
            },
            "type": "choropleth"
           }
          ],
          "contour": [
           {
            "colorbar": {
             "outlinewidth": 0,
             "ticks": ""
            },
            "colorscale": [
             [
              0,
              "#0d0887"
             ],
             [
              0.1111111111111111,
              "#46039f"
             ],
             [
              0.2222222222222222,
              "#7201a8"
             ],
             [
              0.3333333333333333,
              "#9c179e"
             ],
             [
              0.4444444444444444,
              "#bd3786"
             ],
             [
              0.5555555555555556,
              "#d8576b"
             ],
             [
              0.6666666666666666,
              "#ed7953"
             ],
             [
              0.7777777777777778,
              "#fb9f3a"
             ],
             [
              0.8888888888888888,
              "#fdca26"
             ],
             [
              1,
              "#f0f921"
             ]
            ],
            "type": "contour"
           }
          ],
          "contourcarpet": [
           {
            "colorbar": {
             "outlinewidth": 0,
             "ticks": ""
            },
            "type": "contourcarpet"
           }
          ],
          "heatmap": [
           {
            "colorbar": {
             "outlinewidth": 0,
             "ticks": ""
            },
            "colorscale": [
             [
              0,
              "#0d0887"
             ],
             [
              0.1111111111111111,
              "#46039f"
             ],
             [
              0.2222222222222222,
              "#7201a8"
             ],
             [
              0.3333333333333333,
              "#9c179e"
             ],
             [
              0.4444444444444444,
              "#bd3786"
             ],
             [
              0.5555555555555556,
              "#d8576b"
             ],
             [
              0.6666666666666666,
              "#ed7953"
             ],
             [
              0.7777777777777778,
              "#fb9f3a"
             ],
             [
              0.8888888888888888,
              "#fdca26"
             ],
             [
              1,
              "#f0f921"
             ]
            ],
            "type": "heatmap"
           }
          ],
          "heatmapgl": [
           {
            "colorbar": {
             "outlinewidth": 0,
             "ticks": ""
            },
            "colorscale": [
             [
              0,
              "#0d0887"
             ],
             [
              0.1111111111111111,
              "#46039f"
             ],
             [
              0.2222222222222222,
              "#7201a8"
             ],
             [
              0.3333333333333333,
              "#9c179e"
             ],
             [
              0.4444444444444444,
              "#bd3786"
             ],
             [
              0.5555555555555556,
              "#d8576b"
             ],
             [
              0.6666666666666666,
              "#ed7953"
             ],
             [
              0.7777777777777778,
              "#fb9f3a"
             ],
             [
              0.8888888888888888,
              "#fdca26"
             ],
             [
              1,
              "#f0f921"
             ]
            ],
            "type": "heatmapgl"
           }
          ],
          "histogram": [
           {
            "marker": {
             "pattern": {
              "fillmode": "overlay",
              "size": 10,
              "solidity": 0.2
             }
            },
            "type": "histogram"
           }
          ],
          "histogram2d": [
           {
            "colorbar": {
             "outlinewidth": 0,
             "ticks": ""
            },
            "colorscale": [
             [
              0,
              "#0d0887"
             ],
             [
              0.1111111111111111,
              "#46039f"
             ],
             [
              0.2222222222222222,
              "#7201a8"
             ],
             [
              0.3333333333333333,
              "#9c179e"
             ],
             [
              0.4444444444444444,
              "#bd3786"
             ],
             [
              0.5555555555555556,
              "#d8576b"
             ],
             [
              0.6666666666666666,
              "#ed7953"
             ],
             [
              0.7777777777777778,
              "#fb9f3a"
             ],
             [
              0.8888888888888888,
              "#fdca26"
             ],
             [
              1,
              "#f0f921"
             ]
            ],
            "type": "histogram2d"
           }
          ],
          "histogram2dcontour": [
           {
            "colorbar": {
             "outlinewidth": 0,
             "ticks": ""
            },
            "colorscale": [
             [
              0,
              "#0d0887"
             ],
             [
              0.1111111111111111,
              "#46039f"
             ],
             [
              0.2222222222222222,
              "#7201a8"
             ],
             [
              0.3333333333333333,
              "#9c179e"
             ],
             [
              0.4444444444444444,
              "#bd3786"
             ],
             [
              0.5555555555555556,
              "#d8576b"
             ],
             [
              0.6666666666666666,
              "#ed7953"
             ],
             [
              0.7777777777777778,
              "#fb9f3a"
             ],
             [
              0.8888888888888888,
              "#fdca26"
             ],
             [
              1,
              "#f0f921"
             ]
            ],
            "type": "histogram2dcontour"
           }
          ],
          "mesh3d": [
           {
            "colorbar": {
             "outlinewidth": 0,
             "ticks": ""
            },
            "type": "mesh3d"
           }
          ],
          "parcoords": [
           {
            "line": {
             "colorbar": {
              "outlinewidth": 0,
              "ticks": ""
             }
            },
            "type": "parcoords"
           }
          ],
          "pie": [
           {
            "automargin": true,
            "type": "pie"
           }
          ],
          "scatter": [
           {
            "fillpattern": {
             "fillmode": "overlay",
             "size": 10,
             "solidity": 0.2
            },
            "type": "scatter"
           }
          ],
          "scatter3d": [
           {
            "line": {
             "colorbar": {
              "outlinewidth": 0,
              "ticks": ""
             }
            },
            "marker": {
             "colorbar": {
              "outlinewidth": 0,
              "ticks": ""
             }
            },
            "type": "scatter3d"
           }
          ],
          "scattercarpet": [
           {
            "marker": {
             "colorbar": {
              "outlinewidth": 0,
              "ticks": ""
             }
            },
            "type": "scattercarpet"
           }
          ],
          "scattergeo": [
           {
            "marker": {
             "colorbar": {
              "outlinewidth": 0,
              "ticks": ""
             }
            },
            "type": "scattergeo"
           }
          ],
          "scattergl": [
           {
            "marker": {
             "colorbar": {
              "outlinewidth": 0,
              "ticks": ""
             }
            },
            "type": "scattergl"
           }
          ],
          "scattermapbox": [
           {
            "marker": {
             "colorbar": {
              "outlinewidth": 0,
              "ticks": ""
             }
            },
            "type": "scattermapbox"
           }
          ],
          "scatterpolar": [
           {
            "marker": {
             "colorbar": {
              "outlinewidth": 0,
              "ticks": ""
             }
            },
            "type": "scatterpolar"
           }
          ],
          "scatterpolargl": [
           {
            "marker": {
             "colorbar": {
              "outlinewidth": 0,
              "ticks": ""
             }
            },
            "type": "scatterpolargl"
           }
          ],
          "scatterternary": [
           {
            "marker": {
             "colorbar": {
              "outlinewidth": 0,
              "ticks": ""
             }
            },
            "type": "scatterternary"
           }
          ],
          "surface": [
           {
            "colorbar": {
             "outlinewidth": 0,
             "ticks": ""
            },
            "colorscale": [
             [
              0,
              "#0d0887"
             ],
             [
              0.1111111111111111,
              "#46039f"
             ],
             [
              0.2222222222222222,
              "#7201a8"
             ],
             [
              0.3333333333333333,
              "#9c179e"
             ],
             [
              0.4444444444444444,
              "#bd3786"
             ],
             [
              0.5555555555555556,
              "#d8576b"
             ],
             [
              0.6666666666666666,
              "#ed7953"
             ],
             [
              0.7777777777777778,
              "#fb9f3a"
             ],
             [
              0.8888888888888888,
              "#fdca26"
             ],
             [
              1,
              "#f0f921"
             ]
            ],
            "type": "surface"
           }
          ],
          "table": [
           {
            "cells": {
             "fill": {
              "color": "#EBF0F8"
             },
             "line": {
              "color": "white"
             }
            },
            "header": {
             "fill": {
              "color": "#C8D4E3"
             },
             "line": {
              "color": "white"
             }
            },
            "type": "table"
           }
          ]
         },
         "layout": {
          "annotationdefaults": {
           "arrowcolor": "#2a3f5f",
           "arrowhead": 0,
           "arrowwidth": 1
          },
          "autotypenumbers": "strict",
          "coloraxis": {
           "colorbar": {
            "outlinewidth": 0,
            "ticks": ""
           }
          },
          "colorscale": {
           "diverging": [
            [
             0,
             "#8e0152"
            ],
            [
             0.1,
             "#c51b7d"
            ],
            [
             0.2,
             "#de77ae"
            ],
            [
             0.3,
             "#f1b6da"
            ],
            [
             0.4,
             "#fde0ef"
            ],
            [
             0.5,
             "#f7f7f7"
            ],
            [
             0.6,
             "#e6f5d0"
            ],
            [
             0.7,
             "#b8e186"
            ],
            [
             0.8,
             "#7fbc41"
            ],
            [
             0.9,
             "#4d9221"
            ],
            [
             1,
             "#276419"
            ]
           ],
           "sequential": [
            [
             0,
             "#0d0887"
            ],
            [
             0.1111111111111111,
             "#46039f"
            ],
            [
             0.2222222222222222,
             "#7201a8"
            ],
            [
             0.3333333333333333,
             "#9c179e"
            ],
            [
             0.4444444444444444,
             "#bd3786"
            ],
            [
             0.5555555555555556,
             "#d8576b"
            ],
            [
             0.6666666666666666,
             "#ed7953"
            ],
            [
             0.7777777777777778,
             "#fb9f3a"
            ],
            [
             0.8888888888888888,
             "#fdca26"
            ],
            [
             1,
             "#f0f921"
            ]
           ],
           "sequentialminus": [
            [
             0,
             "#0d0887"
            ],
            [
             0.1111111111111111,
             "#46039f"
            ],
            [
             0.2222222222222222,
             "#7201a8"
            ],
            [
             0.3333333333333333,
             "#9c179e"
            ],
            [
             0.4444444444444444,
             "#bd3786"
            ],
            [
             0.5555555555555556,
             "#d8576b"
            ],
            [
             0.6666666666666666,
             "#ed7953"
            ],
            [
             0.7777777777777778,
             "#fb9f3a"
            ],
            [
             0.8888888888888888,
             "#fdca26"
            ],
            [
             1,
             "#f0f921"
            ]
           ]
          },
          "colorway": [
           "#636efa",
           "#EF553B",
           "#00cc96",
           "#ab63fa",
           "#FFA15A",
           "#19d3f3",
           "#FF6692",
           "#B6E880",
           "#FF97FF",
           "#FECB52"
          ],
          "font": {
           "color": "#2a3f5f"
          },
          "geo": {
           "bgcolor": "white",
           "lakecolor": "white",
           "landcolor": "#E5ECF6",
           "showlakes": true,
           "showland": true,
           "subunitcolor": "white"
          },
          "hoverlabel": {
           "align": "left"
          },
          "hovermode": "closest",
          "mapbox": {
           "style": "light"
          },
          "paper_bgcolor": "white",
          "plot_bgcolor": "#E5ECF6",
          "polar": {
           "angularaxis": {
            "gridcolor": "white",
            "linecolor": "white",
            "ticks": ""
           },
           "bgcolor": "#E5ECF6",
           "radialaxis": {
            "gridcolor": "white",
            "linecolor": "white",
            "ticks": ""
           }
          },
          "scene": {
           "xaxis": {
            "backgroundcolor": "#E5ECF6",
            "gridcolor": "white",
            "gridwidth": 2,
            "linecolor": "white",
            "showbackground": true,
            "ticks": "",
            "zerolinecolor": "white"
           },
           "yaxis": {
            "backgroundcolor": "#E5ECF6",
            "gridcolor": "white",
            "gridwidth": 2,
            "linecolor": "white",
            "showbackground": true,
            "ticks": "",
            "zerolinecolor": "white"
           },
           "zaxis": {
            "backgroundcolor": "#E5ECF6",
            "gridcolor": "white",
            "gridwidth": 2,
            "linecolor": "white",
            "showbackground": true,
            "ticks": "",
            "zerolinecolor": "white"
           }
          },
          "shapedefaults": {
           "line": {
            "color": "#2a3f5f"
           }
          },
          "ternary": {
           "aaxis": {
            "gridcolor": "white",
            "linecolor": "white",
            "ticks": ""
           },
           "baxis": {
            "gridcolor": "white",
            "linecolor": "white",
            "ticks": ""
           },
           "bgcolor": "#E5ECF6",
           "caxis": {
            "gridcolor": "white",
            "linecolor": "white",
            "ticks": ""
           }
          },
          "title": {
           "x": 0.05
          },
          "xaxis": {
           "automargin": true,
           "gridcolor": "white",
           "linecolor": "white",
           "ticks": "",
           "title": {
            "standoff": 15
           },
           "zerolinecolor": "white",
           "zerolinewidth": 2
          },
          "yaxis": {
           "automargin": true,
           "gridcolor": "white",
           "linecolor": "white",
           "ticks": "",
           "title": {
            "standoff": 15
           },
           "zerolinecolor": "white",
           "zerolinewidth": 2
          }
         }
        },
        "title": {
         "text": "Through put upload values in the dataset"
        },
        "xaxis": {
         "anchor": "y",
         "domain": [
          0,
          0.2888888888888889
         ]
        },
        "xaxis2": {
         "anchor": "y2",
         "domain": [
          0.35555555555555557,
          0.6444444444444445
         ]
        },
        "xaxis3": {
         "anchor": "y3",
         "domain": [
          0.7111111111111111,
          1
         ]
        },
        "yaxis": {
         "anchor": "x",
         "domain": [
          0,
          1
         ]
        },
        "yaxis2": {
         "anchor": "x2",
         "domain": [
          0,
          1
         ]
        },
        "yaxis3": {
         "anchor": "x3",
         "domain": [
          0,
          1
         ]
        }
       }
      }
     },
     "metadata": {},
     "output_type": "display_data"
    }
   ],
   "source": [
    "plotly_multi_hist([top_10_ul, bot_10_ul, freq_10_ul], 1, 3, \"Through put upload values in the dataset\", ['Top 10', 'Bottom 10', 'Most 10'])"
   ]
  },
  {
   "cell_type": "code",
   "execution_count": 72,
   "metadata": {},
   "outputs": [
    {
     "data": {
      "image/png": "[encoded data removed]",
      "text/plain": [
       "<IPython.core.display.Image object>"
      ]
     },
     "execution_count": 72,
     "metadata": {},
     "output_type": "execute_result"
    }
   ],
   "source": [
    "# this is just for git hub, to display the plot on git hub\n",
    "Image(filename='../plots/thro_put_ul.png')"
   ]
  },
  {
   "cell_type": "markdown",
   "metadata": {},
   "source": [
    "### Compute & report on handset types"
   ]
  },
  {
   "cell_type": "code",
   "execution_count": 79,
   "metadata": {},
   "outputs": [
    {
     "data": {
      "text/html": [
       "<div>\n",
       "<style scoped>\n",
       "    .dataframe tbody tr th:only-of-type {\n",
       "        vertical-align: middle;\n",
       "    }\n",
       "\n",
       "    .dataframe tbody tr th {\n",
       "        vertical-align: top;\n",
       "    }\n",
       "\n",
       "    .dataframe thead th {\n",
       "        text-align: right;\n",
       "    }\n",
       "</style>\n",
       "<table border=\"1\" class=\"dataframe\">\n",
       "  <thead>\n",
       "    <tr style=\"text-align: right;\">\n",
       "      <th></th>\n",
       "      <th>MSISDN/Number</th>\n",
       "      <th>TCP DL Retrans. Vol (Bytes)</th>\n",
       "      <th>TCP UL Retrans. Vol (Bytes)</th>\n",
       "      <th>Avg RTT DL (ms)</th>\n",
       "      <th>Avg RTT UL (ms)</th>\n",
       "      <th>Avg Bearer TP DL (kbps)</th>\n",
       "      <th>Avg Bearer TP UL (kbps)</th>\n",
       "    </tr>\n",
       "    <tr>\n",
       "      <th>Handset Type</th>\n",
       "      <th></th>\n",
       "      <th></th>\n",
       "      <th></th>\n",
       "      <th></th>\n",
       "      <th></th>\n",
       "      <th></th>\n",
       "      <th></th>\n",
       "    </tr>\n",
       "  </thead>\n",
       "  <tbody>\n",
       "    <tr>\n",
       "      <th>A-Link Telecom I. Cubot A5</th>\n",
       "      <td>3.377002e+10</td>\n",
       "      <td>568730.0</td>\n",
       "      <td>20949.5</td>\n",
       "      <td>40.0</td>\n",
       "      <td>2.0</td>\n",
       "      <td>23184.0</td>\n",
       "      <td>326.0</td>\n",
       "    </tr>\n",
       "    <tr>\n",
       "      <th>A-Link Telecom I. Cubot Note Plus</th>\n",
       "      <td>3.366728e+10</td>\n",
       "      <td>602349.0</td>\n",
       "      <td>13864.0</td>\n",
       "      <td>1581.0</td>\n",
       "      <td>8.0</td>\n",
       "      <td>6527.0</td>\n",
       "      <td>172.0</td>\n",
       "    </tr>\n",
       "    <tr>\n",
       "      <th>A-Link Telecom I. Cubot Note S</th>\n",
       "      <td>3.364106e+10</td>\n",
       "      <td>41344479.0</td>\n",
       "      <td>67252.0</td>\n",
       "      <td>886.0</td>\n",
       "      <td>4.0</td>\n",
       "      <td>8515.0</td>\n",
       "      <td>422.0</td>\n",
       "    </tr>\n",
       "    <tr>\n",
       "      <th>A-Link Telecom I. Cubot Nova</th>\n",
       "      <td>3.362357e+10</td>\n",
       "      <td>135840.0</td>\n",
       "      <td>1330.0</td>\n",
       "      <td>40.0</td>\n",
       "      <td>4.0</td>\n",
       "      <td>55667.0</td>\n",
       "      <td>550.0</td>\n",
       "    </tr>\n",
       "    <tr>\n",
       "      <th>A-Link Telecom I. Cubot Power</th>\n",
       "      <td>3.367833e+10</td>\n",
       "      <td>7799.0</td>\n",
       "      <td>242.0</td>\n",
       "      <td>39.0</td>\n",
       "      <td>4.0</td>\n",
       "      <td>69126.0</td>\n",
       "      <td>342.0</td>\n",
       "    </tr>\n",
       "    <tr>\n",
       "      <th>...</th>\n",
       "      <td>...</td>\n",
       "      <td>...</td>\n",
       "      <td>...</td>\n",
       "      <td>...</td>\n",
       "      <td>...</td>\n",
       "      <td>...</td>\n",
       "      <td>...</td>\n",
       "    </tr>\n",
       "    <tr>\n",
       "      <th>Zte Starxtrem By Sfr</th>\n",
       "      <td>3.360905e+10</td>\n",
       "      <td>568730.0</td>\n",
       "      <td>51605.0</td>\n",
       "      <td>45.0</td>\n",
       "      <td>5.0</td>\n",
       "      <td>0.0</td>\n",
       "      <td>888.0</td>\n",
       "    </tr>\n",
       "    <tr>\n",
       "      <th>Zte Zte Blade C2 Smartphone Android By Sfr Startrail 4 Zte Blade Flex T809 Zte T809</th>\n",
       "      <td>3.364429e+10</td>\n",
       "      <td>285695.0</td>\n",
       "      <td>20949.5</td>\n",
       "      <td>124.0</td>\n",
       "      <td>3.0</td>\n",
       "      <td>44.5</td>\n",
       "      <td>13.5</td>\n",
       "    </tr>\n",
       "    <tr>\n",
       "      <th>Zyxel Communicat. Lte7460</th>\n",
       "      <td>3.366226e+10</td>\n",
       "      <td>23843031.0</td>\n",
       "      <td>17433515.0</td>\n",
       "      <td>87.0</td>\n",
       "      <td>46.0</td>\n",
       "      <td>39741.0</td>\n",
       "      <td>22215.0</td>\n",
       "    </tr>\n",
       "    <tr>\n",
       "      <th>Zyxel Communicat. Sbg3600</th>\n",
       "      <td>3.366811e+10</td>\n",
       "      <td>50200837.0</td>\n",
       "      <td>3286101.0</td>\n",
       "      <td>92.0</td>\n",
       "      <td>81.0</td>\n",
       "      <td>82818.0</td>\n",
       "      <td>14533.0</td>\n",
       "    </tr>\n",
       "    <tr>\n",
       "      <th>Zyxel Communicat. Zyxel Wah7706</th>\n",
       "      <td>3.365084e+10</td>\n",
       "      <td>116.0</td>\n",
       "      <td>20949.5</td>\n",
       "      <td>33.0</td>\n",
       "      <td>8.0</td>\n",
       "      <td>1263.0</td>\n",
       "      <td>910.0</td>\n",
       "    </tr>\n",
       "  </tbody>\n",
       "</table>\n",
       "<p>1395 rows × 7 columns</p>\n",
       "</div>"
      ],
      "text/plain": [
       "                                                    MSISDN/Number  \\\n",
       "Handset Type                                                        \n",
       "A-Link Telecom I. Cubot A5                           3.377002e+10   \n",
       "A-Link Telecom I. Cubot Note Plus                    3.366728e+10   \n",
       "A-Link Telecom I. Cubot Note S                       3.364106e+10   \n",
       "A-Link Telecom I. Cubot Nova                         3.362357e+10   \n",
       "A-Link Telecom I. Cubot Power                        3.367833e+10   \n",
       "...                                                           ...   \n",
       "Zte Starxtrem By Sfr                                 3.360905e+10   \n",
       "Zte Zte Blade C2 Smartphone Android By Sfr Star...   3.364429e+10   \n",
       "Zyxel Communicat. Lte7460                            3.366226e+10   \n",
       "Zyxel Communicat. Sbg3600                            3.366811e+10   \n",
       "Zyxel Communicat. Zyxel Wah7706                      3.365084e+10   \n",
       "\n",
       "                                                    TCP DL Retrans. Vol (Bytes)  \\\n",
       "Handset Type                                                                      \n",
       "A-Link Telecom I. Cubot A5                                             568730.0   \n",
       "A-Link Telecom I. Cubot Note Plus                                      602349.0   \n",
       "A-Link Telecom I. Cubot Note S                                       41344479.0   \n",
       "A-Link Telecom I. Cubot Nova                                           135840.0   \n",
       "A-Link Telecom I. Cubot Power                                            7799.0   \n",
       "...                                                                         ...   \n",
       "Zte Starxtrem By Sfr                                                   568730.0   \n",
       "Zte Zte Blade C2 Smartphone Android By Sfr Star...                     285695.0   \n",
       "Zyxel Communicat. Lte7460                                            23843031.0   \n",
       "Zyxel Communicat. Sbg3600                                            50200837.0   \n",
       "Zyxel Communicat. Zyxel Wah7706                                           116.0   \n",
       "\n",
       "                                                    TCP UL Retrans. Vol (Bytes)  \\\n",
       "Handset Type                                                                      \n",
       "A-Link Telecom I. Cubot A5                                              20949.5   \n",
       "A-Link Telecom I. Cubot Note Plus                                       13864.0   \n",
       "A-Link Telecom I. Cubot Note S                                          67252.0   \n",
       "A-Link Telecom I. Cubot Nova                                             1330.0   \n",
       "A-Link Telecom I. Cubot Power                                             242.0   \n",
       "...                                                                         ...   \n",
       "Zte Starxtrem By Sfr                                                    51605.0   \n",
       "Zte Zte Blade C2 Smartphone Android By Sfr Star...                      20949.5   \n",
       "Zyxel Communicat. Lte7460                                            17433515.0   \n",
       "Zyxel Communicat. Sbg3600                                             3286101.0   \n",
       "Zyxel Communicat. Zyxel Wah7706                                         20949.5   \n",
       "\n",
       "                                                    Avg RTT DL (ms)  \\\n",
       "Handset Type                                                          \n",
       "A-Link Telecom I. Cubot A5                                     40.0   \n",
       "A-Link Telecom I. Cubot Note Plus                            1581.0   \n",
       "A-Link Telecom I. Cubot Note S                                886.0   \n",
       "A-Link Telecom I. Cubot Nova                                   40.0   \n",
       "A-Link Telecom I. Cubot Power                                  39.0   \n",
       "...                                                             ...   \n",
       "Zte Starxtrem By Sfr                                           45.0   \n",
       "Zte Zte Blade C2 Smartphone Android By Sfr Star...            124.0   \n",
       "Zyxel Communicat. Lte7460                                      87.0   \n",
       "Zyxel Communicat. Sbg3600                                      92.0   \n",
       "Zyxel Communicat. Zyxel Wah7706                                33.0   \n",
       "\n",
       "                                                    Avg RTT UL (ms)  \\\n",
       "Handset Type                                                          \n",
       "A-Link Telecom I. Cubot A5                                      2.0   \n",
       "A-Link Telecom I. Cubot Note Plus                               8.0   \n",
       "A-Link Telecom I. Cubot Note S                                  4.0   \n",
       "A-Link Telecom I. Cubot Nova                                    4.0   \n",
       "A-Link Telecom I. Cubot Power                                   4.0   \n",
       "...                                                             ...   \n",
       "Zte Starxtrem By Sfr                                            5.0   \n",
       "Zte Zte Blade C2 Smartphone Android By Sfr Star...              3.0   \n",
       "Zyxel Communicat. Lte7460                                      46.0   \n",
       "Zyxel Communicat. Sbg3600                                      81.0   \n",
       "Zyxel Communicat. Zyxel Wah7706                                 8.0   \n",
       "\n",
       "                                                    Avg Bearer TP DL (kbps)  \\\n",
       "Handset Type                                                                  \n",
       "A-Link Telecom I. Cubot A5                                          23184.0   \n",
       "A-Link Telecom I. Cubot Note Plus                                    6527.0   \n",
       "A-Link Telecom I. Cubot Note S                                       8515.0   \n",
       "A-Link Telecom I. Cubot Nova                                        55667.0   \n",
       "A-Link Telecom I. Cubot Power                                       69126.0   \n",
       "...                                                                     ...   \n",
       "Zte Starxtrem By Sfr                                                    0.0   \n",
       "Zte Zte Blade C2 Smartphone Android By Sfr Star...                     44.5   \n",
       "Zyxel Communicat. Lte7460                                           39741.0   \n",
       "Zyxel Communicat. Sbg3600                                           82818.0   \n",
       "Zyxel Communicat. Zyxel Wah7706                                      1263.0   \n",
       "\n",
       "                                                    Avg Bearer TP UL (kbps)  \n",
       "Handset Type                                                                 \n",
       "A-Link Telecom I. Cubot A5                                            326.0  \n",
       "A-Link Telecom I. Cubot Note Plus                                     172.0  \n",
       "A-Link Telecom I. Cubot Note S                                        422.0  \n",
       "A-Link Telecom I. Cubot Nova                                          550.0  \n",
       "A-Link Telecom I. Cubot Power                                         342.0  \n",
       "...                                                                     ...  \n",
       "Zte Starxtrem By Sfr                                                  888.0  \n",
       "Zte Zte Blade C2 Smartphone Android By Sfr Star...                     13.5  \n",
       "Zyxel Communicat. Lte7460                                           22215.0  \n",
       "Zyxel Communicat. Sbg3600                                           14533.0  \n",
       "Zyxel Communicat. Zyxel Wah7706                                       910.0  \n",
       "\n",
       "[1395 rows x 7 columns]"
      ]
     },
     "execution_count": 79,
     "metadata": {},
     "output_type": "execute_result"
    }
   ],
   "source": [
    "handset_type_df = user_experience_df.groupby('Handset Type').mean()\n",
    "handset_type_df"
   ]
  },
  {
   "cell_type": "markdown",
   "metadata": {},
   "source": [
    "* Distribution of the average throughput  per handset type"
   ]
  },
  {
   "cell_type": "code",
   "execution_count": 89,
   "metadata": {},
   "outputs": [
    {
     "data": {
      "text/html": [
       "<div>\n",
       "<style scoped>\n",
       "    .dataframe tbody tr th:only-of-type {\n",
       "        vertical-align: middle;\n",
       "    }\n",
       "\n",
       "    .dataframe tbody tr th {\n",
       "        vertical-align: top;\n",
       "    }\n",
       "\n",
       "    .dataframe thead th {\n",
       "        text-align: right;\n",
       "    }\n",
       "</style>\n",
       "<table border=\"1\" class=\"dataframe\">\n",
       "  <thead>\n",
       "    <tr style=\"text-align: right;\">\n",
       "      <th></th>\n",
       "      <th>MSISDN/Number</th>\n",
       "      <th>TCP DL Retrans. Vol (Bytes)</th>\n",
       "      <th>TCP UL Retrans. Vol (Bytes)</th>\n",
       "      <th>Avg RTT DL (ms)</th>\n",
       "      <th>Avg RTT UL (ms)</th>\n",
       "      <th>Avg Bearer TP DL (kbps)</th>\n",
       "      <th>Avg Bearer TP UL (kbps)</th>\n",
       "    </tr>\n",
       "    <tr>\n",
       "      <th>Handset Type</th>\n",
       "      <th></th>\n",
       "      <th></th>\n",
       "      <th></th>\n",
       "      <th></th>\n",
       "      <th></th>\n",
       "      <th></th>\n",
       "      <th></th>\n",
       "    </tr>\n",
       "  </thead>\n",
       "  <tbody>\n",
       "    <tr>\n",
       "      <th>New-Bund Technol. Mix 2</th>\n",
       "      <td>3.367653e+10</td>\n",
       "      <td>1.120718e+07</td>\n",
       "      <td>9310.000000</td>\n",
       "      <td>119.000000</td>\n",
       "      <td>28.000000</td>\n",
       "      <td>104669.000000</td>\n",
       "      <td>542.000000</td>\n",
       "    </tr>\n",
       "    <tr>\n",
       "      <th>Lg G6+</th>\n",
       "      <td>3.366849e+10</td>\n",
       "      <td>2.706326e+07</td>\n",
       "      <td>16211.000000</td>\n",
       "      <td>44.000000</td>\n",
       "      <td>9.000000</td>\n",
       "      <td>97747.000000</td>\n",
       "      <td>2388.000000</td>\n",
       "    </tr>\n",
       "    <tr>\n",
       "      <th>Huawei B715S-23C</th>\n",
       "      <td>3.370512e+10</td>\n",
       "      <td>3.360442e+07</td>\n",
       "      <td>809164.730769</td>\n",
       "      <td>65.230769</td>\n",
       "      <td>52.923077</td>\n",
       "      <td>92075.692308</td>\n",
       "      <td>16918.538462</td>\n",
       "    </tr>\n",
       "    <tr>\n",
       "      <th>Huawei Y9 2019</th>\n",
       "      <td>3.366994e+10</td>\n",
       "      <td>5.687300e+05</td>\n",
       "      <td>17239.000000</td>\n",
       "      <td>52.000000</td>\n",
       "      <td>24.000000</td>\n",
       "      <td>90557.000000</td>\n",
       "      <td>1182.000000</td>\n",
       "    </tr>\n",
       "    <tr>\n",
       "      <th>Spa Condor Elect. Allure M2</th>\n",
       "      <td>3.364949e+10</td>\n",
       "      <td>4.428600e+04</td>\n",
       "      <td>222.000000</td>\n",
       "      <td>38.500000</td>\n",
       "      <td>6.500000</td>\n",
       "      <td>83294.500000</td>\n",
       "      <td>1017.000000</td>\n",
       "    </tr>\n",
       "  </tbody>\n",
       "</table>\n",
       "</div>"
      ],
      "text/plain": [
       "                             MSISDN/Number  TCP DL Retrans. Vol (Bytes)  \\\n",
       "Handset Type                                                              \n",
       "New-Bund Technol. Mix 2       3.367653e+10                 1.120718e+07   \n",
       "Lg G6+                        3.366849e+10                 2.706326e+07   \n",
       "Huawei B715S-23C              3.370512e+10                 3.360442e+07   \n",
       "Huawei Y9 2019                3.366994e+10                 5.687300e+05   \n",
       "Spa Condor Elect. Allure M2   3.364949e+10                 4.428600e+04   \n",
       "\n",
       "                             TCP UL Retrans. Vol (Bytes)  Avg RTT DL (ms)  \\\n",
       "Handset Type                                                                \n",
       "New-Bund Technol. Mix 2                      9310.000000       119.000000   \n",
       "Lg G6+                                      16211.000000        44.000000   \n",
       "Huawei B715S-23C                           809164.730769        65.230769   \n",
       "Huawei Y9 2019                              17239.000000        52.000000   \n",
       "Spa Condor Elect. Allure M2                   222.000000        38.500000   \n",
       "\n",
       "                             Avg RTT UL (ms)  Avg Bearer TP DL (kbps)  \\\n",
       "Handset Type                                                            \n",
       "New-Bund Technol. Mix 2            28.000000            104669.000000   \n",
       "Lg G6+                              9.000000             97747.000000   \n",
       "Huawei B715S-23C                   52.923077             92075.692308   \n",
       "Huawei Y9 2019                     24.000000             90557.000000   \n",
       "Spa Condor Elect. Allure M2         6.500000             83294.500000   \n",
       "\n",
       "                             Avg Bearer TP UL (kbps)  \n",
       "Handset Type                                          \n",
       "New-Bund Technol. Mix 2                   542.000000  \n",
       "Lg G6+                                   2388.000000  \n",
       "Huawei B715S-23C                        16918.538462  \n",
       "Huawei Y9 2019                           1182.000000  \n",
       "Spa Condor Elect. Allure M2              1017.000000  "
      ]
     },
     "execution_count": 89,
     "metadata": {},
     "output_type": "execute_result"
    }
   ],
   "source": [
    "# sorting per throughput download\n",
    "tp_dl = handset_type_df.sort_values(\n",
    "    'Avg Bearer TP DL (kbps)', ascending=False)\n",
    "tp_dl.head()"
   ]
  },
  {
   "cell_type": "code",
   "execution_count": 85,
   "metadata": {},
   "outputs": [
    {
     "data": {
      "text/html": [
       "<div>\n",
       "<style scoped>\n",
       "    .dataframe tbody tr th:only-of-type {\n",
       "        vertical-align: middle;\n",
       "    }\n",
       "\n",
       "    .dataframe tbody tr th {\n",
       "        vertical-align: top;\n",
       "    }\n",
       "\n",
       "    .dataframe thead th {\n",
       "        text-align: right;\n",
       "    }\n",
       "</style>\n",
       "<table border=\"1\" class=\"dataframe\">\n",
       "  <thead>\n",
       "    <tr style=\"text-align: right;\">\n",
       "      <th></th>\n",
       "      <th>MSISDN/Number</th>\n",
       "      <th>TCP DL Retrans. Vol (Bytes)</th>\n",
       "      <th>TCP UL Retrans. Vol (Bytes)</th>\n",
       "      <th>Avg RTT DL (ms)</th>\n",
       "      <th>Avg RTT UL (ms)</th>\n",
       "      <th>Avg Bearer TP DL (kbps)</th>\n",
       "      <th>Avg Bearer TP UL (kbps)</th>\n",
       "    </tr>\n",
       "    <tr>\n",
       "      <th>Handset Type</th>\n",
       "      <th></th>\n",
       "      <th></th>\n",
       "      <th></th>\n",
       "      <th></th>\n",
       "      <th></th>\n",
       "      <th></th>\n",
       "      <th></th>\n",
       "    </tr>\n",
       "  </thead>\n",
       "  <tbody>\n",
       "    <tr>\n",
       "      <th>Sierra Wireless Mc7710</th>\n",
       "      <td>3.372899e+10</td>\n",
       "      <td>210577.0</td>\n",
       "      <td>5.334472e+05</td>\n",
       "      <td>31.333333</td>\n",
       "      <td>224.0</td>\n",
       "      <td>643.666667</td>\n",
       "      <td>27889.666667</td>\n",
       "    </tr>\n",
       "    <tr>\n",
       "      <th>Lg Lg-H818P</th>\n",
       "      <td>3.376044e+10</td>\n",
       "      <td>1865530.0</td>\n",
       "      <td>3.121240e+05</td>\n",
       "      <td>49.000000</td>\n",
       "      <td>158.0</td>\n",
       "      <td>40679.000000</td>\n",
       "      <td>23577.000000</td>\n",
       "    </tr>\n",
       "    <tr>\n",
       "      <th>Xiaomi Communica. M1803E1A</th>\n",
       "      <td>3.366277e+10</td>\n",
       "      <td>102166.0</td>\n",
       "      <td>7.541000e+03</td>\n",
       "      <td>25.000000</td>\n",
       "      <td>20.0</td>\n",
       "      <td>49172.000000</td>\n",
       "      <td>23493.000000</td>\n",
       "    </tr>\n",
       "    <tr>\n",
       "      <th>Zyxel Communicat. Lte7460</th>\n",
       "      <td>3.366226e+10</td>\n",
       "      <td>23843031.0</td>\n",
       "      <td>1.743352e+07</td>\n",
       "      <td>87.000000</td>\n",
       "      <td>46.0</td>\n",
       "      <td>39741.000000</td>\n",
       "      <td>22215.000000</td>\n",
       "    </tr>\n",
       "    <tr>\n",
       "      <th>Oppo Cph1701</th>\n",
       "      <td>3.365059e+10</td>\n",
       "      <td>1010596.0</td>\n",
       "      <td>1.426300e+04</td>\n",
       "      <td>53.000000</td>\n",
       "      <td>9.0</td>\n",
       "      <td>50566.000000</td>\n",
       "      <td>19398.000000</td>\n",
       "    </tr>\n",
       "  </tbody>\n",
       "</table>\n",
       "</div>"
      ],
      "text/plain": [
       "                            MSISDN/Number  TCP DL Retrans. Vol (Bytes)  \\\n",
       "Handset Type                                                             \n",
       "Sierra Wireless Mc7710       3.372899e+10                     210577.0   \n",
       "Lg Lg-H818P                  3.376044e+10                    1865530.0   \n",
       "Xiaomi Communica. M1803E1A   3.366277e+10                     102166.0   \n",
       "Zyxel Communicat. Lte7460    3.366226e+10                   23843031.0   \n",
       "Oppo Cph1701                 3.365059e+10                    1010596.0   \n",
       "\n",
       "                            TCP UL Retrans. Vol (Bytes)  Avg RTT DL (ms)  \\\n",
       "Handset Type                                                               \n",
       "Sierra Wireless Mc7710                     5.334472e+05        31.333333   \n",
       "Lg Lg-H818P                                3.121240e+05        49.000000   \n",
       "Xiaomi Communica. M1803E1A                 7.541000e+03        25.000000   \n",
       "Zyxel Communicat. Lte7460                  1.743352e+07        87.000000   \n",
       "Oppo Cph1701                               1.426300e+04        53.000000   \n",
       "\n",
       "                            Avg RTT UL (ms)  Avg Bearer TP DL (kbps)  \\\n",
       "Handset Type                                                           \n",
       "Sierra Wireless Mc7710                224.0               643.666667   \n",
       "Lg Lg-H818P                           158.0             40679.000000   \n",
       "Xiaomi Communica. M1803E1A             20.0             49172.000000   \n",
       "Zyxel Communicat. Lte7460              46.0             39741.000000   \n",
       "Oppo Cph1701                            9.0             50566.000000   \n",
       "\n",
       "                            Avg Bearer TP UL (kbps)  \n",
       "Handset Type                                         \n",
       "Sierra Wireless Mc7710                 27889.666667  \n",
       "Lg Lg-H818P                            23577.000000  \n",
       "Xiaomi Communica. M1803E1A             23493.000000  \n",
       "Zyxel Communicat. Lte7460              22215.000000  \n",
       "Oppo Cph1701                           19398.000000  "
      ]
     },
     "execution_count": 85,
     "metadata": {},
     "output_type": "execute_result"
    }
   ],
   "source": [
    "# sorting per throughput upload\n",
    "tp_ul = handset_type_df.sort_values(\n",
    "    'Avg Bearer TP UL (kbps)', ascending=False)\n",
    "tp_ul.head()"
   ]
  },
  {
   "cell_type": "markdown",
   "metadata": {},
   "source": [
    "* average TCP retransmission view per handset type"
   ]
  },
  {
   "cell_type": "code",
   "execution_count": 90,
   "metadata": {},
   "outputs": [
    {
     "data": {
      "text/html": [
       "<div>\n",
       "<style scoped>\n",
       "    .dataframe tbody tr th:only-of-type {\n",
       "        vertical-align: middle;\n",
       "    }\n",
       "\n",
       "    .dataframe tbody tr th {\n",
       "        vertical-align: top;\n",
       "    }\n",
       "\n",
       "    .dataframe thead th {\n",
       "        text-align: right;\n",
       "    }\n",
       "</style>\n",
       "<table border=\"1\" class=\"dataframe\">\n",
       "  <thead>\n",
       "    <tr style=\"text-align: right;\">\n",
       "      <th></th>\n",
       "      <th>MSISDN/Number</th>\n",
       "      <th>TCP DL Retrans. Vol (Bytes)</th>\n",
       "      <th>TCP UL Retrans. Vol (Bytes)</th>\n",
       "      <th>Avg RTT DL (ms)</th>\n",
       "      <th>Avg RTT UL (ms)</th>\n",
       "      <th>Avg Bearer TP DL (kbps)</th>\n",
       "      <th>Avg Bearer TP UL (kbps)</th>\n",
       "    </tr>\n",
       "    <tr>\n",
       "      <th>Handset Type</th>\n",
       "      <th></th>\n",
       "      <th></th>\n",
       "      <th></th>\n",
       "      <th></th>\n",
       "      <th></th>\n",
       "      <th></th>\n",
       "      <th></th>\n",
       "    </tr>\n",
       "  </thead>\n",
       "  <tbody>\n",
       "    <tr>\n",
       "      <th>Lg Lg-H635</th>\n",
       "      <td>3.370893e+10</td>\n",
       "      <td>9.050423e+08</td>\n",
       "      <td>20949.5</td>\n",
       "      <td>53.333333</td>\n",
       "      <td>27.0</td>\n",
       "      <td>24458.666667</td>\n",
       "      <td>880.333333</td>\n",
       "    </tr>\n",
       "    <tr>\n",
       "      <th>Huawei Bln-Al10</th>\n",
       "      <td>3.366665e+10</td>\n",
       "      <td>3.290646e+08</td>\n",
       "      <td>110023.0</td>\n",
       "      <td>160.000000</td>\n",
       "      <td>132.0</td>\n",
       "      <td>4626.000000</td>\n",
       "      <td>1135.000000</td>\n",
       "    </tr>\n",
       "    <tr>\n",
       "      <th>Asustek Asus Zenfone Selfie Zd551Kl</th>\n",
       "      <td>3.371968e+10</td>\n",
       "      <td>3.189534e+08</td>\n",
       "      <td>2704945.0</td>\n",
       "      <td>89.000000</td>\n",
       "      <td>32.5</td>\n",
       "      <td>21097.500000</td>\n",
       "      <td>6487.500000</td>\n",
       "    </tr>\n",
       "    <tr>\n",
       "      <th>Samsung Galaxy Tab S3 (Sm-T825)</th>\n",
       "      <td>3.367510e+10</td>\n",
       "      <td>2.026297e+08</td>\n",
       "      <td>18819.9</td>\n",
       "      <td>85.800000</td>\n",
       "      <td>11.4</td>\n",
       "      <td>26911.200000</td>\n",
       "      <td>864.800000</td>\n",
       "    </tr>\n",
       "    <tr>\n",
       "      <th>Huawei E5776S-32</th>\n",
       "      <td>3.367053e+10</td>\n",
       "      <td>1.639437e+08</td>\n",
       "      <td>689658.9</td>\n",
       "      <td>113.600000</td>\n",
       "      <td>22.2</td>\n",
       "      <td>22915.200000</td>\n",
       "      <td>2342.800000</td>\n",
       "    </tr>\n",
       "  </tbody>\n",
       "</table>\n",
       "</div>"
      ],
      "text/plain": [
       "                                     MSISDN/Number  \\\n",
       "Handset Type                                         \n",
       "Lg Lg-H635                            3.370893e+10   \n",
       "Huawei Bln-Al10                       3.366665e+10   \n",
       "Asustek Asus Zenfone Selfie Zd551Kl   3.371968e+10   \n",
       "Samsung Galaxy Tab S3 (Sm-T825)       3.367510e+10   \n",
       "Huawei E5776S-32                      3.367053e+10   \n",
       "\n",
       "                                     TCP DL Retrans. Vol (Bytes)  \\\n",
       "Handset Type                                                       \n",
       "Lg Lg-H635                                          9.050423e+08   \n",
       "Huawei Bln-Al10                                     3.290646e+08   \n",
       "Asustek Asus Zenfone Selfie Zd551Kl                 3.189534e+08   \n",
       "Samsung Galaxy Tab S3 (Sm-T825)                     2.026297e+08   \n",
       "Huawei E5776S-32                                    1.639437e+08   \n",
       "\n",
       "                                     TCP UL Retrans. Vol (Bytes)  \\\n",
       "Handset Type                                                       \n",
       "Lg Lg-H635                                               20949.5   \n",
       "Huawei Bln-Al10                                         110023.0   \n",
       "Asustek Asus Zenfone Selfie Zd551Kl                    2704945.0   \n",
       "Samsung Galaxy Tab S3 (Sm-T825)                          18819.9   \n",
       "Huawei E5776S-32                                        689658.9   \n",
       "\n",
       "                                     Avg RTT DL (ms)  Avg RTT UL (ms)  \\\n",
       "Handset Type                                                            \n",
       "Lg Lg-H635                                 53.333333             27.0   \n",
       "Huawei Bln-Al10                           160.000000            132.0   \n",
       "Asustek Asus Zenfone Selfie Zd551Kl        89.000000             32.5   \n",
       "Samsung Galaxy Tab S3 (Sm-T825)            85.800000             11.4   \n",
       "Huawei E5776S-32                          113.600000             22.2   \n",
       "\n",
       "                                     Avg Bearer TP DL (kbps)  \\\n",
       "Handset Type                                                   \n",
       "Lg Lg-H635                                      24458.666667   \n",
       "Huawei Bln-Al10                                  4626.000000   \n",
       "Asustek Asus Zenfone Selfie Zd551Kl             21097.500000   \n",
       "Samsung Galaxy Tab S3 (Sm-T825)                 26911.200000   \n",
       "Huawei E5776S-32                                22915.200000   \n",
       "\n",
       "                                     Avg Bearer TP UL (kbps)  \n",
       "Handset Type                                                  \n",
       "Lg Lg-H635                                        880.333333  \n",
       "Huawei Bln-Al10                                  1135.000000  \n",
       "Asustek Asus Zenfone Selfie Zd551Kl              6487.500000  \n",
       "Samsung Galaxy Tab S3 (Sm-T825)                   864.800000  \n",
       "Huawei E5776S-32                                 2342.800000  "
      ]
     },
     "execution_count": 90,
     "metadata": {},
     "output_type": "execute_result"
    }
   ],
   "source": [
    "# sorting per tcp retransmission download \n",
    "tcp = handset_type_df.sort_values(\n",
    "    'TCP DL Retrans. Vol (Bytes)', ascending=False)\n",
    "tcp.head()"
   ]
  },
  {
   "cell_type": "code",
   "execution_count": 92,
   "metadata": {},
   "outputs": [
    {
     "data": {
      "text/html": [
       "<div>\n",
       "<style scoped>\n",
       "    .dataframe tbody tr th:only-of-type {\n",
       "        vertical-align: middle;\n",
       "    }\n",
       "\n",
       "    .dataframe tbody tr th {\n",
       "        vertical-align: top;\n",
       "    }\n",
       "\n",
       "    .dataframe thead th {\n",
       "        text-align: right;\n",
       "    }\n",
       "</style>\n",
       "<table border=\"1\" class=\"dataframe\">\n",
       "  <thead>\n",
       "    <tr style=\"text-align: right;\">\n",
       "      <th></th>\n",
       "      <th>MSISDN/Number</th>\n",
       "      <th>TCP DL Retrans. Vol (Bytes)</th>\n",
       "      <th>TCP UL Retrans. Vol (Bytes)</th>\n",
       "      <th>Avg RTT DL (ms)</th>\n",
       "      <th>Avg RTT UL (ms)</th>\n",
       "      <th>Avg Bearer TP DL (kbps)</th>\n",
       "      <th>Avg Bearer TP UL (kbps)</th>\n",
       "    </tr>\n",
       "    <tr>\n",
       "      <th>Handset Type</th>\n",
       "      <th></th>\n",
       "      <th></th>\n",
       "      <th></th>\n",
       "      <th></th>\n",
       "      <th></th>\n",
       "      <th></th>\n",
       "      <th></th>\n",
       "    </tr>\n",
       "  </thead>\n",
       "  <tbody>\n",
       "    <tr>\n",
       "      <th>Zyxel Communicat. Lte7460</th>\n",
       "      <td>3.366226e+10</td>\n",
       "      <td>23843031.0</td>\n",
       "      <td>17433515.0</td>\n",
       "      <td>87.0</td>\n",
       "      <td>46.0</td>\n",
       "      <td>39741.0</td>\n",
       "      <td>22215.0</td>\n",
       "    </tr>\n",
       "    <tr>\n",
       "      <th>Huawei Y7 Prime 2018</th>\n",
       "      <td>3.371028e+10</td>\n",
       "      <td>52527269.5</td>\n",
       "      <td>12776958.5</td>\n",
       "      <td>44.0</td>\n",
       "      <td>21.0</td>\n",
       "      <td>18392.0</td>\n",
       "      <td>956.5</td>\n",
       "    </tr>\n",
       "    <tr>\n",
       "      <th>Zyxel Communicat. Sbg3600</th>\n",
       "      <td>3.366811e+10</td>\n",
       "      <td>50200837.0</td>\n",
       "      <td>3286101.0</td>\n",
       "      <td>92.0</td>\n",
       "      <td>81.0</td>\n",
       "      <td>82818.0</td>\n",
       "      <td>14533.0</td>\n",
       "    </tr>\n",
       "    <tr>\n",
       "      <th>Asustek Wireless-Ac1200 Lte Router</th>\n",
       "      <td>3.365464e+10</td>\n",
       "      <td>533189.4</td>\n",
       "      <td>3094332.9</td>\n",
       "      <td>67.8</td>\n",
       "      <td>15.0</td>\n",
       "      <td>37201.8</td>\n",
       "      <td>13008.2</td>\n",
       "    </tr>\n",
       "    <tr>\n",
       "      <th>Asustek Asus Zenfone Selfie Zd551Kl</th>\n",
       "      <td>3.371968e+10</td>\n",
       "      <td>318953361.0</td>\n",
       "      <td>2704945.0</td>\n",
       "      <td>89.0</td>\n",
       "      <td>32.5</td>\n",
       "      <td>21097.5</td>\n",
       "      <td>6487.5</td>\n",
       "    </tr>\n",
       "  </tbody>\n",
       "</table>\n",
       "</div>"
      ],
      "text/plain": [
       "                                     MSISDN/Number  \\\n",
       "Handset Type                                         \n",
       "Zyxel Communicat. Lte7460             3.366226e+10   \n",
       "Huawei Y7 Prime 2018                  3.371028e+10   \n",
       "Zyxel Communicat. Sbg3600             3.366811e+10   \n",
       "Asustek Wireless-Ac1200 Lte Router    3.365464e+10   \n",
       "Asustek Asus Zenfone Selfie Zd551Kl   3.371968e+10   \n",
       "\n",
       "                                     TCP DL Retrans. Vol (Bytes)  \\\n",
       "Handset Type                                                       \n",
       "Zyxel Communicat. Lte7460                             23843031.0   \n",
       "Huawei Y7 Prime 2018                                  52527269.5   \n",
       "Zyxel Communicat. Sbg3600                             50200837.0   \n",
       "Asustek Wireless-Ac1200 Lte Router                      533189.4   \n",
       "Asustek Asus Zenfone Selfie Zd551Kl                  318953361.0   \n",
       "\n",
       "                                     TCP UL Retrans. Vol (Bytes)  \\\n",
       "Handset Type                                                       \n",
       "Zyxel Communicat. Lte7460                             17433515.0   \n",
       "Huawei Y7 Prime 2018                                  12776958.5   \n",
       "Zyxel Communicat. Sbg3600                              3286101.0   \n",
       "Asustek Wireless-Ac1200 Lte Router                     3094332.9   \n",
       "Asustek Asus Zenfone Selfie Zd551Kl                    2704945.0   \n",
       "\n",
       "                                     Avg RTT DL (ms)  Avg RTT UL (ms)  \\\n",
       "Handset Type                                                            \n",
       "Zyxel Communicat. Lte7460                       87.0             46.0   \n",
       "Huawei Y7 Prime 2018                            44.0             21.0   \n",
       "Zyxel Communicat. Sbg3600                       92.0             81.0   \n",
       "Asustek Wireless-Ac1200 Lte Router              67.8             15.0   \n",
       "Asustek Asus Zenfone Selfie Zd551Kl             89.0             32.5   \n",
       "\n",
       "                                     Avg Bearer TP DL (kbps)  \\\n",
       "Handset Type                                                   \n",
       "Zyxel Communicat. Lte7460                            39741.0   \n",
       "Huawei Y7 Prime 2018                                 18392.0   \n",
       "Zyxel Communicat. Sbg3600                            82818.0   \n",
       "Asustek Wireless-Ac1200 Lte Router                   37201.8   \n",
       "Asustek Asus Zenfone Selfie Zd551Kl                  21097.5   \n",
       "\n",
       "                                     Avg Bearer TP UL (kbps)  \n",
       "Handset Type                                                  \n",
       "Zyxel Communicat. Lte7460                            22215.0  \n",
       "Huawei Y7 Prime 2018                                   956.5  \n",
       "Zyxel Communicat. Sbg3600                            14533.0  \n",
       "Asustek Wireless-Ac1200 Lte Router                   13008.2  \n",
       "Asustek Asus Zenfone Selfie Zd551Kl                   6487.5  "
      ]
     },
     "execution_count": 92,
     "metadata": {},
     "output_type": "execute_result"
    }
   ],
   "source": [
    "# sorting per tcp retransmission upload \n",
    "tcp = handset_type_df.sort_values(\n",
    "    'TCP UL Retrans. Vol (Bytes)', ascending=False)\n",
    "tcp.head()"
   ]
  },
  {
   "cell_type": "markdown",
   "metadata": {},
   "source": [
    "###  Using the experience metrics above, perform a k-means clustering (where k = 3)"
   ]
  }
 ],
 "metadata": {
  "kernelspec": {
   "display_name": "Python 3.10.5 64-bit",
   "language": "python",
   "name": "python3"
  },
  "language_info": {
   "codemirror_mode": {
    "name": "ipython",
    "version": 3
   },
   "file_extension": ".py",
   "mimetype": "text/x-python",
   "name": "python",
   "nbconvert_exporter": "python",
   "pygments_lexer": "ipython3",
   "version": "3.10.5"
  },
  "orig_nbformat": 4,
  "vscode": {
   "interpreter": {
    "hash": "a265634967a27dd555e8346f2355ee703e655fd7f0a0d20c168527cd0a3d5707"
   }
  }
 },
 "nbformat": 4,
 "nbformat_minor": 2
}
