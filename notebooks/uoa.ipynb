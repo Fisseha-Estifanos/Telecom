{
 "cells": [
  {
   "cell_type": "code",
   "execution_count": 9,
   "metadata": {},
   "outputs": [],
   "source": [
    "# imports\n",
    "import pandas as pd\n",
    "import seaborn as sns\n",
    "import matplotlib.pyplot as plt\n",
    "import numpy as np\n",
    "import sys\n",
    "import os\n",
    "import warnings\n",
    "warnings.filterwarnings(\"ignore\")"
   ]
  },
  {
   "cell_type": "code",
   "execution_count": 3,
   "metadata": {},
   "outputs": [],
   "source": [
    "# setting up several paths \n",
    "sys.path.append(\".\")\n",
    "sys.path.append(\"..\")\n",
    "sys.path.insert(1, '../scripts')\n",
    "from dataCleaner import *"
   ]
  },
  {
   "cell_type": "code",
   "execution_count": 4,
   "metadata": {},
   "outputs": [
    {
     "data": {
      "text/html": [
       "<div>\n",
       "<style scoped>\n",
       "    .dataframe tbody tr th:only-of-type {\n",
       "        vertical-align: middle;\n",
       "    }\n",
       "\n",
       "    .dataframe tbody tr th {\n",
       "        vertical-align: top;\n",
       "    }\n",
       "\n",
       "    .dataframe thead th {\n",
       "        text-align: right;\n",
       "    }\n",
       "</style>\n",
       "<table border=\"1\" class=\"dataframe\">\n",
       "  <thead>\n",
       "    <tr style=\"text-align: right;\">\n",
       "      <th></th>\n",
       "      <th>Unnamed: 0</th>\n",
       "      <th>Bearer Id</th>\n",
       "      <th>Start</th>\n",
       "      <th>Start ms</th>\n",
       "      <th>End</th>\n",
       "      <th>End ms</th>\n",
       "      <th>Dur. (ms)</th>\n",
       "      <th>IMSI</th>\n",
       "      <th>MSISDN/Number</th>\n",
       "      <th>IMEI</th>\n",
       "      <th>...</th>\n",
       "      <th>Youtube DL (Bytes)</th>\n",
       "      <th>Youtube UL (Bytes)</th>\n",
       "      <th>Netflix DL (Bytes)</th>\n",
       "      <th>Netflix UL (Bytes)</th>\n",
       "      <th>Gaming DL (Bytes)</th>\n",
       "      <th>Gaming UL (Bytes)</th>\n",
       "      <th>Other DL (Bytes)</th>\n",
       "      <th>Other UL (Bytes)</th>\n",
       "      <th>Total UL (Bytes)</th>\n",
       "      <th>Total DL (Bytes)</th>\n",
       "    </tr>\n",
       "  </thead>\n",
       "  <tbody>\n",
       "    <tr>\n",
       "      <th>0</th>\n",
       "      <td>0</td>\n",
       "      <td>1.311450e+19</td>\n",
       "      <td>2019-04-04 12:01:00</td>\n",
       "      <td>770.0</td>\n",
       "      <td>2019-04-25 14:35:00</td>\n",
       "      <td>662.0</td>\n",
       "      <td>1823652.0</td>\n",
       "      <td>2.082010e+14</td>\n",
       "      <td>3.366496e+10</td>\n",
       "      <td>3.552120e+13</td>\n",
       "      <td>...</td>\n",
       "      <td>15854611.0</td>\n",
       "      <td>2501332.0</td>\n",
       "      <td>8198936.0</td>\n",
       "      <td>9656251.0</td>\n",
       "      <td>278082303.0</td>\n",
       "      <td>14344150.0</td>\n",
       "      <td>171744450.0</td>\n",
       "      <td>8814393.0</td>\n",
       "      <td>36749741.0</td>\n",
       "      <td>308879636.0</td>\n",
       "    </tr>\n",
       "    <tr>\n",
       "      <th>1</th>\n",
       "      <td>1</td>\n",
       "      <td>1.311450e+19</td>\n",
       "      <td>2019-04-09 13:04:00</td>\n",
       "      <td>235.0</td>\n",
       "      <td>2019-04-25 08:15:00</td>\n",
       "      <td>606.0</td>\n",
       "      <td>1365104.0</td>\n",
       "      <td>2.082020e+14</td>\n",
       "      <td>3.368185e+10</td>\n",
       "      <td>3.579400e+13</td>\n",
       "      <td>...</td>\n",
       "      <td>20247395.0</td>\n",
       "      <td>19111729.0</td>\n",
       "      <td>18338413.0</td>\n",
       "      <td>17227132.0</td>\n",
       "      <td>608750074.0</td>\n",
       "      <td>1170709.0</td>\n",
       "      <td>526904238.0</td>\n",
       "      <td>15055145.0</td>\n",
       "      <td>53800391.0</td>\n",
       "      <td>653384965.0</td>\n",
       "    </tr>\n",
       "    <tr>\n",
       "      <th>2</th>\n",
       "      <td>2</td>\n",
       "      <td>1.311450e+19</td>\n",
       "      <td>2019-04-09 17:42:00</td>\n",
       "      <td>1.0</td>\n",
       "      <td>2019-04-25 11:58:00</td>\n",
       "      <td>652.0</td>\n",
       "      <td>1361762.0</td>\n",
       "      <td>2.082000e+14</td>\n",
       "      <td>3.376063e+10</td>\n",
       "      <td>3.528150e+13</td>\n",
       "      <td>...</td>\n",
       "      <td>19725661.0</td>\n",
       "      <td>14699576.0</td>\n",
       "      <td>17587794.0</td>\n",
       "      <td>6163408.0</td>\n",
       "      <td>229584621.0</td>\n",
       "      <td>395630.0</td>\n",
       "      <td>410692588.0</td>\n",
       "      <td>4215763.0</td>\n",
       "      <td>27883638.0</td>\n",
       "      <td>279807335.0</td>\n",
       "    </tr>\n",
       "    <tr>\n",
       "      <th>3</th>\n",
       "      <td>3</td>\n",
       "      <td>1.311450e+19</td>\n",
       "      <td>2019-04-10 00:31:00</td>\n",
       "      <td>486.0</td>\n",
       "      <td>2019-04-25 07:36:00</td>\n",
       "      <td>171.0</td>\n",
       "      <td>1321509.0</td>\n",
       "      <td>2.082010e+14</td>\n",
       "      <td>3.375034e+10</td>\n",
       "      <td>3.535660e+13</td>\n",
       "      <td>...</td>\n",
       "      <td>21388122.0</td>\n",
       "      <td>15146643.0</td>\n",
       "      <td>13994646.0</td>\n",
       "      <td>1097942.0</td>\n",
       "      <td>799538153.0</td>\n",
       "      <td>10849722.0</td>\n",
       "      <td>749039933.0</td>\n",
       "      <td>12797283.0</td>\n",
       "      <td>43324218.0</td>\n",
       "      <td>846028530.0</td>\n",
       "    </tr>\n",
       "    <tr>\n",
       "      <th>4</th>\n",
       "      <td>4</td>\n",
       "      <td>1.311450e+19</td>\n",
       "      <td>2019-04-12 20:10:00</td>\n",
       "      <td>565.0</td>\n",
       "      <td>2019-04-25 10:40:00</td>\n",
       "      <td>954.0</td>\n",
       "      <td>1089009.0</td>\n",
       "      <td>2.082010e+14</td>\n",
       "      <td>3.369980e+10</td>\n",
       "      <td>3.540700e+13</td>\n",
       "      <td>...</td>\n",
       "      <td>15259380.0</td>\n",
       "      <td>18962873.0</td>\n",
       "      <td>17124581.0</td>\n",
       "      <td>415218.0</td>\n",
       "      <td>527707248.0</td>\n",
       "      <td>3529801.0</td>\n",
       "      <td>550709500.0</td>\n",
       "      <td>13910322.0</td>\n",
       "      <td>38542814.0</td>\n",
       "      <td>569138589.0</td>\n",
       "    </tr>\n",
       "    <tr>\n",
       "      <th>...</th>\n",
       "      <td>...</td>\n",
       "      <td>...</td>\n",
       "      <td>...</td>\n",
       "      <td>...</td>\n",
       "      <td>...</td>\n",
       "      <td>...</td>\n",
       "      <td>...</td>\n",
       "      <td>...</td>\n",
       "      <td>...</td>\n",
       "      <td>...</td>\n",
       "      <td>...</td>\n",
       "      <td>...</td>\n",
       "      <td>...</td>\n",
       "      <td>...</td>\n",
       "      <td>...</td>\n",
       "      <td>...</td>\n",
       "      <td>...</td>\n",
       "      <td>...</td>\n",
       "      <td>...</td>\n",
       "      <td>...</td>\n",
       "      <td>...</td>\n",
       "    </tr>\n",
       "    <tr>\n",
       "      <th>149995</th>\n",
       "      <td>149995</td>\n",
       "      <td>1.304240e+19</td>\n",
       "      <td>2019-04-29 07:28:00</td>\n",
       "      <td>615.0</td>\n",
       "      <td>2019-04-30 00:01:00</td>\n",
       "      <td>407.0</td>\n",
       "      <td>59587.0</td>\n",
       "      <td>2.082010e+14</td>\n",
       "      <td>3.366865e+10</td>\n",
       "      <td>3.533250e+13</td>\n",
       "      <td>...</td>\n",
       "      <td>6550499.0</td>\n",
       "      <td>18003146.0</td>\n",
       "      <td>22468983.0</td>\n",
       "      <td>7149728.0</td>\n",
       "      <td>784435351.0</td>\n",
       "      <td>12724751.0</td>\n",
       "      <td>321383162.0</td>\n",
       "      <td>14890486.0</td>\n",
       "      <td>53745392.0</td>\n",
       "      <td>819016468.0</td>\n",
       "    </tr>\n",
       "    <tr>\n",
       "      <th>149996</th>\n",
       "      <td>149996</td>\n",
       "      <td>7.277830e+18</td>\n",
       "      <td>2019-04-29 07:28:00</td>\n",
       "      <td>451.0</td>\n",
       "      <td>2019-04-30 06:02:00</td>\n",
       "      <td>214.0</td>\n",
       "      <td>81230.0</td>\n",
       "      <td>2.082020e+14</td>\n",
       "      <td>3.365069e+10</td>\n",
       "      <td>3.548310e+13</td>\n",
       "      <td>...</td>\n",
       "      <td>16191667.0</td>\n",
       "      <td>11763428.0</td>\n",
       "      <td>17883703.0</td>\n",
       "      <td>19678161.0</td>\n",
       "      <td>526609673.0</td>\n",
       "      <td>9197207.0</td>\n",
       "      <td>3264510.0</td>\n",
       "      <td>13487416.0</td>\n",
       "      <td>57628851.0</td>\n",
       "      <td>574175259.0</td>\n",
       "    </tr>\n",
       "    <tr>\n",
       "      <th>149997</th>\n",
       "      <td>149997</td>\n",
       "      <td>7.349880e+18</td>\n",
       "      <td>2019-04-29 07:28:00</td>\n",
       "      <td>483.0</td>\n",
       "      <td>2019-04-30 10:41:00</td>\n",
       "      <td>187.0</td>\n",
       "      <td>97970.0</td>\n",
       "      <td>2.082020e+14</td>\n",
       "      <td>3.366345e+10</td>\n",
       "      <td>3.566050e+13</td>\n",
       "      <td>...</td>\n",
       "      <td>13877234.0</td>\n",
       "      <td>8288284.0</td>\n",
       "      <td>19350146.0</td>\n",
       "      <td>21293148.0</td>\n",
       "      <td>626893062.0</td>\n",
       "      <td>4735033.0</td>\n",
       "      <td>712180387.0</td>\n",
       "      <td>2457758.0</td>\n",
       "      <td>39135081.0</td>\n",
       "      <td>666648844.0</td>\n",
       "    </tr>\n",
       "    <tr>\n",
       "      <th>149998</th>\n",
       "      <td>149998</td>\n",
       "      <td>1.311450e+19</td>\n",
       "      <td>2019-04-29 07:28:00</td>\n",
       "      <td>283.0</td>\n",
       "      <td>2019-04-30 10:46:00</td>\n",
       "      <td>810.0</td>\n",
       "      <td>98249.0</td>\n",
       "      <td>2.082020e+14</td>\n",
       "      <td>3.362189e+10</td>\n",
       "      <td>3.572120e+13</td>\n",
       "      <td>...</td>\n",
       "      <td>22660510.0</td>\n",
       "      <td>1855903.0</td>\n",
       "      <td>9963942.0</td>\n",
       "      <td>5065760.0</td>\n",
       "      <td>553539484.0</td>\n",
       "      <td>13394316.0</td>\n",
       "      <td>121100856.0</td>\n",
       "      <td>11314729.0</td>\n",
       "      <td>34912224.0</td>\n",
       "      <td>592786405.0</td>\n",
       "    </tr>\n",
       "    <tr>\n",
       "      <th>149999</th>\n",
       "      <td>149999</td>\n",
       "      <td>1.311450e+19</td>\n",
       "      <td>2019-04-29 07:28:00</td>\n",
       "      <td>696.0</td>\n",
       "      <td>2019-04-30 10:40:00</td>\n",
       "      <td>327.0</td>\n",
       "      <td>97910.0</td>\n",
       "      <td>2.082020e+14</td>\n",
       "      <td>3.361962e+10</td>\n",
       "      <td>8.618620e+13</td>\n",
       "      <td>...</td>\n",
       "      <td>8817106.0</td>\n",
       "      <td>8305402.0</td>\n",
       "      <td>3322253.0</td>\n",
       "      <td>13172589.0</td>\n",
       "      <td>352536971.0</td>\n",
       "      <td>2529475.0</td>\n",
       "      <td>814713113.0</td>\n",
       "      <td>1406930.0</td>\n",
       "      <td>29626096.0</td>\n",
       "      <td>371895920.0</td>\n",
       "    </tr>\n",
       "  </tbody>\n",
       "</table>\n",
       "<p>150000 rows × 56 columns</p>\n",
       "</div>"
      ],
      "text/plain": [
       "        Unnamed: 0     Bearer Id                Start  Start ms  \\\n",
       "0                0  1.311450e+19  2019-04-04 12:01:00     770.0   \n",
       "1                1  1.311450e+19  2019-04-09 13:04:00     235.0   \n",
       "2                2  1.311450e+19  2019-04-09 17:42:00       1.0   \n",
       "3                3  1.311450e+19  2019-04-10 00:31:00     486.0   \n",
       "4                4  1.311450e+19  2019-04-12 20:10:00     565.0   \n",
       "...            ...           ...                  ...       ...   \n",
       "149995      149995  1.304240e+19  2019-04-29 07:28:00     615.0   \n",
       "149996      149996  7.277830e+18  2019-04-29 07:28:00     451.0   \n",
       "149997      149997  7.349880e+18  2019-04-29 07:28:00     483.0   \n",
       "149998      149998  1.311450e+19  2019-04-29 07:28:00     283.0   \n",
       "149999      149999  1.311450e+19  2019-04-29 07:28:00     696.0   \n",
       "\n",
       "                        End  End ms  Dur. (ms)          IMSI  MSISDN/Number  \\\n",
       "0       2019-04-25 14:35:00   662.0  1823652.0  2.082010e+14   3.366496e+10   \n",
       "1       2019-04-25 08:15:00   606.0  1365104.0  2.082020e+14   3.368185e+10   \n",
       "2       2019-04-25 11:58:00   652.0  1361762.0  2.082000e+14   3.376063e+10   \n",
       "3       2019-04-25 07:36:00   171.0  1321509.0  2.082010e+14   3.375034e+10   \n",
       "4       2019-04-25 10:40:00   954.0  1089009.0  2.082010e+14   3.369980e+10   \n",
       "...                     ...     ...        ...           ...            ...   \n",
       "149995  2019-04-30 00:01:00   407.0    59587.0  2.082010e+14   3.366865e+10   \n",
       "149996  2019-04-30 06:02:00   214.0    81230.0  2.082020e+14   3.365069e+10   \n",
       "149997  2019-04-30 10:41:00   187.0    97970.0  2.082020e+14   3.366345e+10   \n",
       "149998  2019-04-30 10:46:00   810.0    98249.0  2.082020e+14   3.362189e+10   \n",
       "149999  2019-04-30 10:40:00   327.0    97910.0  2.082020e+14   3.361962e+10   \n",
       "\n",
       "                IMEI  ... Youtube DL (Bytes)  Youtube UL (Bytes)  \\\n",
       "0       3.552120e+13  ...         15854611.0           2501332.0   \n",
       "1       3.579400e+13  ...         20247395.0          19111729.0   \n",
       "2       3.528150e+13  ...         19725661.0          14699576.0   \n",
       "3       3.535660e+13  ...         21388122.0          15146643.0   \n",
       "4       3.540700e+13  ...         15259380.0          18962873.0   \n",
       "...              ...  ...                ...                 ...   \n",
       "149995  3.533250e+13  ...          6550499.0          18003146.0   \n",
       "149996  3.548310e+13  ...         16191667.0          11763428.0   \n",
       "149997  3.566050e+13  ...         13877234.0           8288284.0   \n",
       "149998  3.572120e+13  ...         22660510.0           1855903.0   \n",
       "149999  8.618620e+13  ...          8817106.0           8305402.0   \n",
       "\n",
       "        Netflix DL (Bytes)  Netflix UL (Bytes)  Gaming DL (Bytes)  \\\n",
       "0                8198936.0           9656251.0        278082303.0   \n",
       "1               18338413.0          17227132.0        608750074.0   \n",
       "2               17587794.0           6163408.0        229584621.0   \n",
       "3               13994646.0           1097942.0        799538153.0   \n",
       "4               17124581.0            415218.0        527707248.0   \n",
       "...                    ...                 ...                ...   \n",
       "149995          22468983.0           7149728.0        784435351.0   \n",
       "149996          17883703.0          19678161.0        526609673.0   \n",
       "149997          19350146.0          21293148.0        626893062.0   \n",
       "149998           9963942.0           5065760.0        553539484.0   \n",
       "149999           3322253.0          13172589.0        352536971.0   \n",
       "\n",
       "        Gaming UL (Bytes)  Other DL (Bytes)  Other UL (Bytes)  \\\n",
       "0              14344150.0       171744450.0         8814393.0   \n",
       "1               1170709.0       526904238.0        15055145.0   \n",
       "2                395630.0       410692588.0         4215763.0   \n",
       "3              10849722.0       749039933.0        12797283.0   \n",
       "4               3529801.0       550709500.0        13910322.0   \n",
       "...                   ...               ...               ...   \n",
       "149995         12724751.0       321383162.0        14890486.0   \n",
       "149996          9197207.0         3264510.0        13487416.0   \n",
       "149997          4735033.0       712180387.0         2457758.0   \n",
       "149998         13394316.0       121100856.0        11314729.0   \n",
       "149999          2529475.0       814713113.0         1406930.0   \n",
       "\n",
       "        Total UL (Bytes)  Total DL (Bytes)  \n",
       "0             36749741.0       308879636.0  \n",
       "1             53800391.0       653384965.0  \n",
       "2             27883638.0       279807335.0  \n",
       "3             43324218.0       846028530.0  \n",
       "4             38542814.0       569138589.0  \n",
       "...                  ...               ...  \n",
       "149995        53745392.0       819016468.0  \n",
       "149996        57628851.0       574175259.0  \n",
       "149997        39135081.0       666648844.0  \n",
       "149998        34912224.0       592786405.0  \n",
       "149999        29626096.0       371895920.0  \n",
       "\n",
       "[150000 rows x 56 columns]"
      ]
     },
     "execution_count": 4,
     "metadata": {},
     "output_type": "execute_result"
    }
   ],
   "source": [
    "# read data\n",
    "df = pd.read_csv('../data/Week1_challenge_data_source_filled.csv.bz2')\n",
    "df"
   ]
  },
  {
   "cell_type": "code",
   "execution_count": 5,
   "metadata": {},
   "outputs": [
    {
     "name": "stdout",
     "output_type": "stream",
     "text": [
      "Data cleaner in action.\n"
     ]
    }
   ],
   "source": [
    "# create a data cleaner script instance\n",
    "cleaner = dataCleaner(df)"
   ]
  },
  {
   "cell_type": "code",
   "execution_count": 6,
   "metadata": {},
   "outputs": [
    {
     "name": "stdout",
     "output_type": "stream",
     "text": [
      "<class 'pandas.core.frame.DataFrame'>\n",
      "RangeIndex: 150000 entries, 0 to 149999\n",
      "Data columns (total 55 columns):\n",
      " #   Column                                    Non-Null Count   Dtype  \n",
      "---  ------                                    --------------   -----  \n",
      " 0   Bearer Id                                 150000 non-null  float64\n",
      " 1   Start                                     150000 non-null  object \n",
      " 2   Start ms                                  150000 non-null  float64\n",
      " 3   End                                       150000 non-null  object \n",
      " 4   End ms                                    150000 non-null  float64\n",
      " 5   Dur. (ms)                                 150000 non-null  float64\n",
      " 6   IMSI                                      150000 non-null  float64\n",
      " 7   MSISDN/Number                             150000 non-null  float64\n",
      " 8   IMEI                                      150000 non-null  float64\n",
      " 9   Last Location Name                        150000 non-null  object \n",
      " 10  Avg RTT DL (ms)                           150000 non-null  float64\n",
      " 11  Avg RTT UL (ms)                           150000 non-null  float64\n",
      " 12  Avg Bearer TP DL (kbps)                   150000 non-null  float64\n",
      " 13  Avg Bearer TP UL (kbps)                   150000 non-null  float64\n",
      " 14  TCP DL Retrans. Vol (Bytes)               150000 non-null  float64\n",
      " 15  TCP UL Retrans. Vol (Bytes)               150000 non-null  float64\n",
      " 16  DL TP < 50 Kbps (%)                       150000 non-null  float64\n",
      " 17  50 Kbps < DL TP < 250 Kbps (%)            150000 non-null  float64\n",
      " 18  250 Kbps < DL TP < 1 Mbps (%)             150000 non-null  float64\n",
      " 19  DL TP > 1 Mbps (%)                        150000 non-null  float64\n",
      " 20  UL TP < 10 Kbps (%)                       150000 non-null  float64\n",
      " 21  10 Kbps < UL TP < 50 Kbps (%)             150000 non-null  float64\n",
      " 22  50 Kbps < UL TP < 300 Kbps (%)            150000 non-null  float64\n",
      " 23  UL TP > 300 Kbps (%)                      150000 non-null  float64\n",
      " 24  HTTP DL (Bytes)                           150000 non-null  float64\n",
      " 25  HTTP UL (Bytes)                           150000 non-null  float64\n",
      " 26  Activity Duration DL (ms)                 150000 non-null  float64\n",
      " 27  Activity Duration UL (ms)                 150000 non-null  float64\n",
      " 28  Dur. (ms).1                               150000 non-null  float64\n",
      " 29  Handset Manufacturer                      150000 non-null  object \n",
      " 30  Handset Type                              150000 non-null  object \n",
      " 31  Nb of sec with 125000B < Vol DL           150000 non-null  float64\n",
      " 32  Nb of sec with 1250B < Vol UL < 6250B     150000 non-null  float64\n",
      " 33  Nb of sec with 31250B < Vol DL < 125000B  150000 non-null  float64\n",
      " 34  Nb of sec with 37500B < Vol UL            150000 non-null  float64\n",
      " 35  Nb of sec with 6250B < Vol DL < 31250B    150000 non-null  float64\n",
      " 36  Nb of sec with 6250B < Vol UL < 37500B    150000 non-null  float64\n",
      " 37  Nb of sec with Vol DL < 6250B             150000 non-null  float64\n",
      " 38  Nb of sec with Vol UL < 1250B             150000 non-null  float64\n",
      " 39  Social Media DL (Bytes)                   150000 non-null  float64\n",
      " 40  Social Media UL (Bytes)                   150000 non-null  float64\n",
      " 41  Google DL (Bytes)                         150000 non-null  float64\n",
      " 42  Google UL (Bytes)                         150000 non-null  float64\n",
      " 43  Email DL (Bytes)                          150000 non-null  float64\n",
      " 44  Email UL (Bytes)                          150000 non-null  float64\n",
      " 45  Youtube DL (Bytes)                        150000 non-null  float64\n",
      " 46  Youtube UL (Bytes)                        150000 non-null  float64\n",
      " 47  Netflix DL (Bytes)                        150000 non-null  float64\n",
      " 48  Netflix UL (Bytes)                        150000 non-null  float64\n",
      " 49  Gaming DL (Bytes)                         150000 non-null  float64\n",
      " 50  Gaming UL (Bytes)                         150000 non-null  float64\n",
      " 51  Other DL (Bytes)                          150000 non-null  float64\n",
      " 52  Other UL (Bytes)                          150000 non-null  float64\n",
      " 53  Total UL (Bytes)                          150000 non-null  float64\n",
      " 54  Total DL (Bytes)                          150000 non-null  float64\n",
      "dtypes: float64(50), object(5)\n",
      "memory usage: 62.9+ MB\n"
     ]
    }
   ],
   "source": [
    "# remove the unwanted column\n",
    "unwanted_cols = ['Unnamed: 0']\n",
    "df = cleaner.remove_unwanted_cols(unwanted_cols)\n",
    "df.info()"
   ]
  },
  {
   "cell_type": "markdown",
   "metadata": {},
   "source": [
    "* unnamed column removed"
   ]
  },
  {
   "cell_type": "markdown",
   "metadata": {},
   "source": [
    "# EDA"
   ]
  },
  {
   "cell_type": "markdown",
   "metadata": {},
   "source": [
    "## user overview analysis"
   ]
  },
  {
   "cell_type": "markdown",
   "metadata": {},
   "source": [
    "Identifying the top 10 handsets used by the customers"
   ]
  },
  {
   "cell_type": "code",
   "execution_count": 11,
   "metadata": {},
   "outputs": [
    {
     "data": {
      "text/plain": [
       "Huawei B528S-23A                29310\n",
       "Apple iPhone 6S (A1688)          9419\n",
       "Apple iPhone 6 (A1586)           9023\n",
       "Apple iPhone 7 (A1778)           6326\n",
       "Apple iPhone Se (A1723)          5187\n",
       "Apple iPhone 8 (A1905)           4993\n",
       "Apple iPhone Xr (A2105)          4568\n",
       "Samsung Galaxy S8 (Sm-G950F)     4520\n",
       "Apple iPhone X (A1901)           3813\n",
       "Samsung Galaxy A5 Sm-A520F       3724\n",
       "Name: Handset Type, dtype: int64"
      ]
     },
     "execution_count": 11,
     "metadata": {},
     "output_type": "execute_result"
    }
   ],
   "source": [
    "# get the top 10 handsets used by customers\n",
    "top10handsets = df['Handset Type'].value_counts().nlargest(n=10)\n",
    "top10handsets"
   ]
  },
  {
   "cell_type": "code",
   "execution_count": 28,
   "metadata": {},
   "outputs": [
    {
     "data": {
      "text/plain": [
       "Text(0.5, 1.0, 'top 10 handset types')"
      ]
     },
     "execution_count": 28,
     "metadata": {},
     "output_type": "execute_result"
    },
    {
     "data": {
      "image/png": "[encoded data removed]",
      "text/plain": [
       "<Figure size 720x720 with 1 Axes>"
      ]
     },
     "metadata": {},
     "output_type": "display_data"
    }
   ],
   "source": [
    "# Generate data on subjectivity\n",
    "fig = plt.figure(figsize = (10,10))\n",
    "top10handsets.plot.pie(grid=True)\n",
    "plt.title('top 10 handset types')\n",
    "#plt.xlabel('subjectivity')\n",
    "#plt.ylabel('count')\n",
    "#plt.grid(axis='y', alpha=0.75)"
   ]
  },
  {
   "cell_type": "markdown",
   "metadata": {},
   "source": [
    "Identifying the top 3 handset manufacturers"
   ]
  },
  {
   "cell_type": "code",
   "execution_count": 31,
   "metadata": {},
   "outputs": [
    {
     "data": {
      "text/plain": [
       "Apple      69123\n",
       "Samsung    40839\n",
       "Huawei     34423\n",
       "Name: Handset Manufacturer, dtype: int64"
      ]
     },
     "execution_count": 31,
     "metadata": {},
     "output_type": "execute_result"
    }
   ],
   "source": [
    "# get the top 3 handset manufacturers\n",
    "top3manufacturers = df['Handset Manufacturer'].value_counts().nlargest(n=3)\n",
    "top3manufacturers"
   ]
  },
  {
   "cell_type": "code",
   "execution_count": 30,
   "metadata": {},
   "outputs": [
    {
     "data": {
      "text/plain": [
       "Text(0.5, 1.0, 'top 3 handset manufacturers')"
      ]
     },
     "execution_count": 30,
     "metadata": {},
     "output_type": "execute_result"
    },
    {
     "data": {
      "image/png": "[encoded data removed]",
      "text/plain": [
       "<Figure size 720x720 with 1 Axes>"
      ]
     },
     "metadata": {},
     "output_type": "display_data"
    }
   ],
   "source": [
    "# Generate plot on top 3 handset manufacturers\n",
    "fig = plt.figure(figsize = (10,10))\n",
    "top3manufacturers.plot.pie(grid=True)\n",
    "plt.title('top 3 handset manufacturers')\n",
    "#plt.xlabel('subjectivity')\n",
    "#plt.ylabel('count')\n",
    "#plt.grid(axis='y', alpha=0.75)"
   ]
  },
  {
   "cell_type": "markdown",
   "metadata": {},
   "source": [
    "Identify the top 5 handsets per top 3 handset manufacture"
   ]
  },
  {
   "cell_type": "code",
   "execution_count": 34,
   "metadata": {},
   "outputs": [
    {
     "name": "stdout",
     "output_type": "stream",
     "text": [
      "Top 5 apple headset types\n",
      " Handset Type           \n",
      "Huawei B528S-23A           9558\n",
      "Apple iPhone 6S (A1688)    9419\n",
      "Apple iPhone 6 (A1586)     9023\n",
      "Apple iPhone 7 (A1778)     6326\n",
      "Apple iPhone Se (A1723)    5187\n",
      "dtype: int64\n",
      "\n",
      "Top 5 samsung headset types\n",
      " Handset Type                \n",
      "Samsung Galaxy S8 (Sm-G950F)    4520\n",
      "Samsung Galaxy A5 Sm-A520F      3724\n",
      "Samsung Galaxy J5 (Sm-J530)     3696\n",
      "Samsung Galaxy J3 (Sm-J330)     3484\n",
      "Samsung Galaxy S7 (Sm-G930X)    3199\n",
      "dtype: int64\n",
      "\n",
      "Top 5 huawei headset types\n",
      " Handset Type                  \n",
      "Huawei B528S-23A                  19752\n",
      "Huawei E5180                       2079\n",
      "Huawei P20 Lite Huawei Nova 3E     2021\n",
      "Huawei P20                         1480\n",
      "Huawei Y6 2018                      997\n",
      "dtype: int64\n"
     ]
    }
   ],
   "source": [
    "apple_manufacturer = df.loc[df['Handset Manufacturer'] == 'Apple', ['Handset Type']].value_counts().nlargest(5)\n",
    "samsung_manufacturer = df.loc[df['Handset Manufacturer'] == 'Samsung', ['Handset Type']].value_counts().nlargest(5)\n",
    "huawei_manufacturer = df.loc[df['Handset Manufacturer'] == 'Huawei', ['Handset Type']].value_counts().nlargest(5)\n",
    "\n",
    "print(\"Top 5 apple headset types\\n\", apple_manufacturer)\n",
    "print(\"\\nTop 5 samsung headset types\\n\", samsung_manufacturer)\n",
    "print(\"\\nTop 5 huawei headset types\\n\", huawei_manufacturer)"
   ]
  },
  {
   "cell_type": "markdown",
   "metadata": {},
   "source": [
    "Short interpretation and recommendation to marketing teams\n",
    "\n",
    "Interpretations\n",
    "\n",
    "* As we can clearly see from the data, from the top 10 headsets used by customers, 7 of them are Apples products. And even though top of this list is Huawei specific headset product 'Huawei B528S-23A', when we see the combined number of headset products used by customers, Apple is leading. And Samsung is following with Huawei being the third.\n",
    "\n",
    "* And even though number nine on the list is a samsung product. Considering the total number of headsets made, samsung is the second headset producers.\n",
    "\n",
    "\n",
    "Recommendations\n",
    "\n",
    "* [For Apple] Its better to incorporate the specific huawei products' ability to the Apple headset products in order to increase Apple headsets products power and usage by our customers.\n",
    "\n",
    "* We need to consider marketing our telecom to Huawei and Samsung product customers, because most of our customers are already Apple product users."
   ]
  },
  {
   "cell_type": "markdown",
   "metadata": {},
   "source": [
    "### Aggregate per user the following information in the column"
   ]
  },
  {
   "cell_type": "markdown",
   "metadata": {},
   "source": [
    "Defining the user"
   ]
  },
  {
   "cell_type": "code",
   "execution_count": 40,
   "metadata": {},
   "outputs": [
    {
     "name": "stdout",
     "output_type": "stream",
     "text": [
      "2.082020e+14    84602\n",
      "2.082010e+14    52348\n",
      "2.082000e+14     9572\n",
      "2.082100e+14     3474\n",
      "2.140740e+14        1\n",
      "2.082520e+14        1\n",
      "2.040810e+14        1\n",
      "2.040470e+14        1\n",
      "Name: IMSI, dtype: int64\n",
      "3.366371e+10    1066\n",
      "3.362632e+10      18\n",
      "3.361489e+10      17\n",
      "3.362578e+10      17\n",
      "3.365973e+10      16\n",
      "                ... \n",
      "3.360118e+10       1\n",
      "3.368998e+10       1\n",
      "3.376372e+10       1\n",
      "3.360748e+10       1\n",
      "3.361962e+10       1\n",
      "Name: MSISDN/Number, Length: 106856, dtype: int64\n",
      "7.349880e+18    39915\n",
      "1.304240e+19    37251\n",
      "1.311450e+19    35114\n",
      "7.277830e+18    29667\n",
      "6.917540e+18     5886\n",
      "1.268210e+19     1003\n",
      "1.013887e+19      990\n",
      "7.421940e+18       97\n",
      "1.318650e+19       76\n",
      "7.566060e+18        1\n",
      "Name: Bearer Id, dtype: int64\n"
     ]
    }
   ],
   "source": [
    "print(df['IMSI'].value_counts())          # International Mobile Subscriber Identity: 8\n",
    "print(df['MSISDN/Number'].value_counts()) # MS International PSTN/ISDN Number of mobile - customer number - 106,856\n",
    "print(df['Bearer Id'].value_counts())     # xDr session identifier - 10"
   ]
  },
  {
   "cell_type": "markdown",
   "metadata": {},
   "source": [
    "Number of xDR sessions"
   ]
  },
  {
   "cell_type": "code",
   "execution_count": 41,
   "metadata": {},
   "outputs": [
    {
     "data": {
      "text/plain": [
       "MSISDN/Number\n",
       "3.360100e+10    1.311450e+19\n",
       "3.360100e+10    7.349880e+18\n",
       "3.360100e+10    7.349880e+18\n",
       "3.360101e+10    1.304240e+19\n",
       "3.360101e+10    1.462771e+19\n",
       "                    ...     \n",
       "3.379000e+10    1.304240e+19\n",
       "3.379000e+10    1.311450e+19\n",
       "3.197020e+12    7.277830e+18\n",
       "3.370000e+14    7.349880e+18\n",
       "8.823970e+14    7.277830e+18\n",
       "Name: Bearer Id, Length: 106856, dtype: float64"
      ]
     },
     "execution_count": 41,
     "metadata": {},
     "output_type": "execute_result"
    }
   ],
   "source": [
    "# xDr sessions per user or MSISDN/Number\n",
    "xDR_session_per_user = df.groupby('MSISDN/Number')['Bearer Id'].sum()\n",
    "xDR_session_per_user # data type Series"
   ]
  },
  {
   "cell_type": "markdown",
   "metadata": {},
   "source": [
    "Session duration"
   ]
  },
  {
   "cell_type": "markdown",
   "metadata": {},
   "source": [
    "Total download (DL) and upload (UL) data"
   ]
  },
  {
   "cell_type": "markdown",
   "metadata": {},
   "source": [
    "Total data volume (in Bytes) during this session for each application"
   ]
  },
  {
   "cell_type": "code",
   "execution_count": 1,
   "metadata": {},
   "outputs": [],
   "source": [
    "# df['IMEI'].hist()"
   ]
  },
  {
   "cell_type": "code",
   "execution_count": 2,
   "metadata": {},
   "outputs": [],
   "source": [
    "# sns.displot(data = df, x =df['IMEI'])"
   ]
  }
 ],
 "metadata": {
  "kernelspec": {
   "display_name": "Python 3.10.5 64-bit",
   "language": "python",
   "name": "python3"
  },
  "language_info": {
   "codemirror_mode": {
    "name": "ipython",
    "version": 3
   },
   "file_extension": ".py",
   "mimetype": "text/x-python",
   "name": "python",
   "nbconvert_exporter": "python",
   "pygments_lexer": "ipython3",
   "version": "3.10.5"
  },
  "orig_nbformat": 4,
  "vscode": {
   "interpreter": {
    "hash": "a265634967a27dd555e8346f2355ee703e655fd7f0a0d20c168527cd0a3d5707"
   }
  }
 },
 "nbformat": 4,
 "nbformat_minor": 2
}
