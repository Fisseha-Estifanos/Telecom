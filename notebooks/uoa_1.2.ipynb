{
 "cells": [
  {
   "cell_type": "code",
   "execution_count": 1,
   "metadata": {},
   "outputs": [],
   "source": [
    "# imports\n",
    "import pandas as pd\n",
    "import pandas_profiling\n",
    "import seaborn as sns\n",
    "import matplotlib.pyplot as plt\n",
    "import numpy as np\n",
    "import sys\n",
    "import os\n",
    "import warnings\n",
    "warnings.filterwarnings(\"ignore\")"
   ]
  },
  {
   "cell_type": "code",
   "execution_count": 2,
   "metadata": {},
   "outputs": [],
   "source": [
    "# setting up several paths \n",
    "sys.path.append(\".\")\n",
    "sys.path.append(\"..\")\n",
    "sys.path.insert(1, '../scripts')\n",
    "from dataCleaner import *"
   ]
  },
  {
   "cell_type": "code",
   "execution_count": 3,
   "metadata": {},
   "outputs": [
    {
     "data": {
      "text/html": [
       "<div>\n",
       "<style scoped>\n",
       "    .dataframe tbody tr th:only-of-type {\n",
       "        vertical-align: middle;\n",
       "    }\n",
       "\n",
       "    .dataframe tbody tr th {\n",
       "        vertical-align: top;\n",
       "    }\n",
       "\n",
       "    .dataframe thead th {\n",
       "        text-align: right;\n",
       "    }\n",
       "</style>\n",
       "<table border=\"1\" class=\"dataframe\">\n",
       "  <thead>\n",
       "    <tr style=\"text-align: right;\">\n",
       "      <th></th>\n",
       "      <th>Bearer Id</th>\n",
       "      <th>Start</th>\n",
       "      <th>Start ms</th>\n",
       "      <th>End</th>\n",
       "      <th>End ms</th>\n",
       "      <th>Dur. (ms)</th>\n",
       "      <th>IMSI</th>\n",
       "      <th>MSISDN/Number</th>\n",
       "      <th>IMEI</th>\n",
       "      <th>Last Location Name</th>\n",
       "      <th>...</th>\n",
       "      <th>Other DL (Bytes)</th>\n",
       "      <th>Other UL (Bytes)</th>\n",
       "      <th>Total UL (Bytes)</th>\n",
       "      <th>Total DL (Bytes)</th>\n",
       "      <th>total_google</th>\n",
       "      <th>total_email</th>\n",
       "      <th>total_gaming</th>\n",
       "      <th>total_youtube</th>\n",
       "      <th>total_netflix</th>\n",
       "      <th>total_social</th>\n",
       "    </tr>\n",
       "  </thead>\n",
       "  <tbody>\n",
       "    <tr>\n",
       "      <th>0</th>\n",
       "      <td>1.311450e+19</td>\n",
       "      <td>2019-04-04 12:01:00</td>\n",
       "      <td>770.0</td>\n",
       "      <td>2019-04-25 14:35:00</td>\n",
       "      <td>662.0</td>\n",
       "      <td>1823652.0</td>\n",
       "      <td>2.082010e+14</td>\n",
       "      <td>3.366496e+10</td>\n",
       "      <td>3.552120e+13</td>\n",
       "      <td>9.16457E+15</td>\n",
       "      <td>...</td>\n",
       "      <td>171744450.0</td>\n",
       "      <td>8814393.0</td>\n",
       "      <td>36749741.0</td>\n",
       "      <td>308879636.0</td>\n",
       "      <td>2905912.0</td>\n",
       "      <td>2905912.0</td>\n",
       "      <td>2905912.0</td>\n",
       "      <td>2905912.0</td>\n",
       "      <td>2905912.0</td>\n",
       "      <td>2905912.0</td>\n",
       "    </tr>\n",
       "    <tr>\n",
       "      <th>1</th>\n",
       "      <td>1.311450e+19</td>\n",
       "      <td>2019-04-09 13:04:00</td>\n",
       "      <td>235.0</td>\n",
       "      <td>2019-04-25 08:15:00</td>\n",
       "      <td>606.0</td>\n",
       "      <td>1365104.0</td>\n",
       "      <td>2.082020e+14</td>\n",
       "      <td>3.368185e+10</td>\n",
       "      <td>3.579400e+13</td>\n",
       "      <td>L77566A</td>\n",
       "      <td>...</td>\n",
       "      <td>526904238.0</td>\n",
       "      <td>15055145.0</td>\n",
       "      <td>53800391.0</td>\n",
       "      <td>653384965.0</td>\n",
       "      <td>4414096.0</td>\n",
       "      <td>4414096.0</td>\n",
       "      <td>4414096.0</td>\n",
       "      <td>4414096.0</td>\n",
       "      <td>4414096.0</td>\n",
       "      <td>4414096.0</td>\n",
       "    </tr>\n",
       "    <tr>\n",
       "      <th>2</th>\n",
       "      <td>1.311450e+19</td>\n",
       "      <td>2019-04-09 17:42:00</td>\n",
       "      <td>1.0</td>\n",
       "      <td>2019-04-25 11:58:00</td>\n",
       "      <td>652.0</td>\n",
       "      <td>1361762.0</td>\n",
       "      <td>2.082000e+14</td>\n",
       "      <td>3.376063e+10</td>\n",
       "      <td>3.528150e+13</td>\n",
       "      <td>D42335A</td>\n",
       "      <td>...</td>\n",
       "      <td>410692588.0</td>\n",
       "      <td>4215763.0</td>\n",
       "      <td>27883638.0</td>\n",
       "      <td>279807335.0</td>\n",
       "      <td>10229119.0</td>\n",
       "      <td>10229119.0</td>\n",
       "      <td>10229119.0</td>\n",
       "      <td>10229119.0</td>\n",
       "      <td>10229119.0</td>\n",
       "      <td>10229119.0</td>\n",
       "    </tr>\n",
       "    <tr>\n",
       "      <th>3</th>\n",
       "      <td>1.311450e+19</td>\n",
       "      <td>2019-04-10 00:31:00</td>\n",
       "      <td>486.0</td>\n",
       "      <td>2019-04-25 07:36:00</td>\n",
       "      <td>171.0</td>\n",
       "      <td>1321509.0</td>\n",
       "      <td>2.082010e+14</td>\n",
       "      <td>3.375034e+10</td>\n",
       "      <td>3.535660e+13</td>\n",
       "      <td>T21824A</td>\n",
       "      <td>...</td>\n",
       "      <td>749039933.0</td>\n",
       "      <td>12797283.0</td>\n",
       "      <td>43324218.0</td>\n",
       "      <td>846028530.0</td>\n",
       "      <td>11811761.0</td>\n",
       "      <td>11811761.0</td>\n",
       "      <td>11811761.0</td>\n",
       "      <td>11811761.0</td>\n",
       "      <td>11811761.0</td>\n",
       "      <td>11811761.0</td>\n",
       "    </tr>\n",
       "    <tr>\n",
       "      <th>4</th>\n",
       "      <td>1.311450e+19</td>\n",
       "      <td>2019-04-12 20:10:00</td>\n",
       "      <td>565.0</td>\n",
       "      <td>2019-04-25 10:40:00</td>\n",
       "      <td>954.0</td>\n",
       "      <td>1089009.0</td>\n",
       "      <td>2.082010e+14</td>\n",
       "      <td>3.369980e+10</td>\n",
       "      <td>3.540700e+13</td>\n",
       "      <td>D88865A</td>\n",
       "      <td>...</td>\n",
       "      <td>550709500.0</td>\n",
       "      <td>13910322.0</td>\n",
       "      <td>38542814.0</td>\n",
       "      <td>569138589.0</td>\n",
       "      <td>7748843.0</td>\n",
       "      <td>7748843.0</td>\n",
       "      <td>7748843.0</td>\n",
       "      <td>7748843.0</td>\n",
       "      <td>7748843.0</td>\n",
       "      <td>7748843.0</td>\n",
       "    </tr>\n",
       "    <tr>\n",
       "      <th>...</th>\n",
       "      <td>...</td>\n",
       "      <td>...</td>\n",
       "      <td>...</td>\n",
       "      <td>...</td>\n",
       "      <td>...</td>\n",
       "      <td>...</td>\n",
       "      <td>...</td>\n",
       "      <td>...</td>\n",
       "      <td>...</td>\n",
       "      <td>...</td>\n",
       "      <td>...</td>\n",
       "      <td>...</td>\n",
       "      <td>...</td>\n",
       "      <td>...</td>\n",
       "      <td>...</td>\n",
       "      <td>...</td>\n",
       "      <td>...</td>\n",
       "      <td>...</td>\n",
       "      <td>...</td>\n",
       "      <td>...</td>\n",
       "      <td>...</td>\n",
       "    </tr>\n",
       "    <tr>\n",
       "      <th>149995</th>\n",
       "      <td>1.304240e+19</td>\n",
       "      <td>2019-04-29 07:28:00</td>\n",
       "      <td>615.0</td>\n",
       "      <td>2019-04-30 00:01:00</td>\n",
       "      <td>407.0</td>\n",
       "      <td>59587.0</td>\n",
       "      <td>2.082010e+14</td>\n",
       "      <td>3.366865e+10</td>\n",
       "      <td>3.533250e+13</td>\n",
       "      <td>T85721A</td>\n",
       "      <td>...</td>\n",
       "      <td>321383162.0</td>\n",
       "      <td>14890486.0</td>\n",
       "      <td>53745392.0</td>\n",
       "      <td>819016468.0</td>\n",
       "      <td>1265634.0</td>\n",
       "      <td>1265634.0</td>\n",
       "      <td>1265634.0</td>\n",
       "      <td>1265634.0</td>\n",
       "      <td>1265634.0</td>\n",
       "      <td>1265634.0</td>\n",
       "    </tr>\n",
       "    <tr>\n",
       "      <th>149996</th>\n",
       "      <td>7.277830e+18</td>\n",
       "      <td>2019-04-29 07:28:00</td>\n",
       "      <td>451.0</td>\n",
       "      <td>2019-04-30 06:02:00</td>\n",
       "      <td>214.0</td>\n",
       "      <td>81230.0</td>\n",
       "      <td>2.082020e+14</td>\n",
       "      <td>3.365069e+10</td>\n",
       "      <td>3.548310e+13</td>\n",
       "      <td>D20434A</td>\n",
       "      <td>...</td>\n",
       "      <td>3264510.0</td>\n",
       "      <td>13487416.0</td>\n",
       "      <td>57628851.0</td>\n",
       "      <td>574175259.0</td>\n",
       "      <td>12784914.0</td>\n",
       "      <td>12784914.0</td>\n",
       "      <td>12784914.0</td>\n",
       "      <td>12784914.0</td>\n",
       "      <td>12784914.0</td>\n",
       "      <td>12784914.0</td>\n",
       "    </tr>\n",
       "    <tr>\n",
       "      <th>149997</th>\n",
       "      <td>7.349880e+18</td>\n",
       "      <td>2019-04-29 07:28:00</td>\n",
       "      <td>483.0</td>\n",
       "      <td>2019-04-30 10:41:00</td>\n",
       "      <td>187.0</td>\n",
       "      <td>97970.0</td>\n",
       "      <td>2.082020e+14</td>\n",
       "      <td>3.366345e+10</td>\n",
       "      <td>3.566050e+13</td>\n",
       "      <td>D10223C</td>\n",
       "      <td>...</td>\n",
       "      <td>712180387.0</td>\n",
       "      <td>2457758.0</td>\n",
       "      <td>39135081.0</td>\n",
       "      <td>666648844.0</td>\n",
       "      <td>4415361.0</td>\n",
       "      <td>4415361.0</td>\n",
       "      <td>4415361.0</td>\n",
       "      <td>4415361.0</td>\n",
       "      <td>4415361.0</td>\n",
       "      <td>4415361.0</td>\n",
       "    </tr>\n",
       "    <tr>\n",
       "      <th>149998</th>\n",
       "      <td>1.311450e+19</td>\n",
       "      <td>2019-04-29 07:28:00</td>\n",
       "      <td>283.0</td>\n",
       "      <td>2019-04-30 10:46:00</td>\n",
       "      <td>810.0</td>\n",
       "      <td>98249.0</td>\n",
       "      <td>2.082020e+14</td>\n",
       "      <td>3.362189e+10</td>\n",
       "      <td>3.572120e+13</td>\n",
       "      <td>T51102A</td>\n",
       "      <td>...</td>\n",
       "      <td>121100856.0</td>\n",
       "      <td>11314729.0</td>\n",
       "      <td>34912224.0</td>\n",
       "      <td>592786405.0</td>\n",
       "      <td>6585469.0</td>\n",
       "      <td>6585469.0</td>\n",
       "      <td>6585469.0</td>\n",
       "      <td>6585469.0</td>\n",
       "      <td>6585469.0</td>\n",
       "      <td>6585469.0</td>\n",
       "    </tr>\n",
       "    <tr>\n",
       "      <th>149999</th>\n",
       "      <td>1.311450e+19</td>\n",
       "      <td>2019-04-29 07:28:00</td>\n",
       "      <td>696.0</td>\n",
       "      <td>2019-04-30 10:40:00</td>\n",
       "      <td>327.0</td>\n",
       "      <td>97910.0</td>\n",
       "      <td>2.082020e+14</td>\n",
       "      <td>3.361962e+10</td>\n",
       "      <td>8.618620e+13</td>\n",
       "      <td>L88342B</td>\n",
       "      <td>...</td>\n",
       "      <td>814713113.0</td>\n",
       "      <td>1406930.0</td>\n",
       "      <td>29626096.0</td>\n",
       "      <td>371895920.0</td>\n",
       "      <td>7757267.0</td>\n",
       "      <td>7757267.0</td>\n",
       "      <td>7757267.0</td>\n",
       "      <td>7757267.0</td>\n",
       "      <td>7757267.0</td>\n",
       "      <td>7757267.0</td>\n",
       "    </tr>\n",
       "  </tbody>\n",
       "</table>\n",
       "<p>150000 rows × 61 columns</p>\n",
       "</div>"
      ],
      "text/plain": [
       "           Bearer Id                Start  Start ms                  End  \\\n",
       "0       1.311450e+19  2019-04-04 12:01:00     770.0  2019-04-25 14:35:00   \n",
       "1       1.311450e+19  2019-04-09 13:04:00     235.0  2019-04-25 08:15:00   \n",
       "2       1.311450e+19  2019-04-09 17:42:00       1.0  2019-04-25 11:58:00   \n",
       "3       1.311450e+19  2019-04-10 00:31:00     486.0  2019-04-25 07:36:00   \n",
       "4       1.311450e+19  2019-04-12 20:10:00     565.0  2019-04-25 10:40:00   \n",
       "...              ...                  ...       ...                  ...   \n",
       "149995  1.304240e+19  2019-04-29 07:28:00     615.0  2019-04-30 00:01:00   \n",
       "149996  7.277830e+18  2019-04-29 07:28:00     451.0  2019-04-30 06:02:00   \n",
       "149997  7.349880e+18  2019-04-29 07:28:00     483.0  2019-04-30 10:41:00   \n",
       "149998  1.311450e+19  2019-04-29 07:28:00     283.0  2019-04-30 10:46:00   \n",
       "149999  1.311450e+19  2019-04-29 07:28:00     696.0  2019-04-30 10:40:00   \n",
       "\n",
       "        End ms  Dur. (ms)          IMSI  MSISDN/Number          IMEI  \\\n",
       "0        662.0  1823652.0  2.082010e+14   3.366496e+10  3.552120e+13   \n",
       "1        606.0  1365104.0  2.082020e+14   3.368185e+10  3.579400e+13   \n",
       "2        652.0  1361762.0  2.082000e+14   3.376063e+10  3.528150e+13   \n",
       "3        171.0  1321509.0  2.082010e+14   3.375034e+10  3.535660e+13   \n",
       "4        954.0  1089009.0  2.082010e+14   3.369980e+10  3.540700e+13   \n",
       "...        ...        ...           ...            ...           ...   \n",
       "149995   407.0    59587.0  2.082010e+14   3.366865e+10  3.533250e+13   \n",
       "149996   214.0    81230.0  2.082020e+14   3.365069e+10  3.548310e+13   \n",
       "149997   187.0    97970.0  2.082020e+14   3.366345e+10  3.566050e+13   \n",
       "149998   810.0    98249.0  2.082020e+14   3.362189e+10  3.572120e+13   \n",
       "149999   327.0    97910.0  2.082020e+14   3.361962e+10  8.618620e+13   \n",
       "\n",
       "       Last Location Name  ...  Other DL (Bytes)  Other UL (Bytes)  \\\n",
       "0             9.16457E+15  ...       171744450.0         8814393.0   \n",
       "1                 L77566A  ...       526904238.0        15055145.0   \n",
       "2                 D42335A  ...       410692588.0         4215763.0   \n",
       "3                 T21824A  ...       749039933.0        12797283.0   \n",
       "4                 D88865A  ...       550709500.0        13910322.0   \n",
       "...                   ...  ...               ...               ...   \n",
       "149995            T85721A  ...       321383162.0        14890486.0   \n",
       "149996            D20434A  ...         3264510.0        13487416.0   \n",
       "149997            D10223C  ...       712180387.0         2457758.0   \n",
       "149998            T51102A  ...       121100856.0        11314729.0   \n",
       "149999            L88342B  ...       814713113.0         1406930.0   \n",
       "\n",
       "        Total UL (Bytes)  Total DL (Bytes)  total_google  total_email  \\\n",
       "0             36749741.0       308879636.0     2905912.0    2905912.0   \n",
       "1             53800391.0       653384965.0     4414096.0    4414096.0   \n",
       "2             27883638.0       279807335.0    10229119.0   10229119.0   \n",
       "3             43324218.0       846028530.0    11811761.0   11811761.0   \n",
       "4             38542814.0       569138589.0     7748843.0    7748843.0   \n",
       "...                  ...               ...           ...          ...   \n",
       "149995        53745392.0       819016468.0     1265634.0    1265634.0   \n",
       "149996        57628851.0       574175259.0    12784914.0   12784914.0   \n",
       "149997        39135081.0       666648844.0     4415361.0    4415361.0   \n",
       "149998        34912224.0       592786405.0     6585469.0    6585469.0   \n",
       "149999        29626096.0       371895920.0     7757267.0    7757267.0   \n",
       "\n",
       "        total_gaming  total_youtube  total_netflix  total_social  \n",
       "0          2905912.0      2905912.0      2905912.0     2905912.0  \n",
       "1          4414096.0      4414096.0      4414096.0     4414096.0  \n",
       "2         10229119.0     10229119.0     10229119.0    10229119.0  \n",
       "3         11811761.0     11811761.0     11811761.0    11811761.0  \n",
       "4          7748843.0      7748843.0      7748843.0     7748843.0  \n",
       "...              ...            ...            ...           ...  \n",
       "149995     1265634.0      1265634.0      1265634.0     1265634.0  \n",
       "149996    12784914.0     12784914.0     12784914.0    12784914.0  \n",
       "149997     4415361.0      4415361.0      4415361.0     4415361.0  \n",
       "149998     6585469.0      6585469.0      6585469.0     6585469.0  \n",
       "149999     7757267.0      7757267.0      7757267.0     7757267.0  \n",
       "\n",
       "[150000 rows x 61 columns]"
      ]
     },
     "execution_count": 3,
     "metadata": {},
     "output_type": "execute_result"
    }
   ],
   "source": [
    "# read data\n",
    "df = pd.read_csv('../data/Week1_challenge_data_source_filled.csv.bz2')\n",
    "df"
   ]
  },
  {
   "cell_type": "code",
   "execution_count": 4,
   "metadata": {},
   "outputs": [
    {
     "name": "stdout",
     "output_type": "stream",
     "text": [
      "Data cleaner in action.\n"
     ]
    }
   ],
   "source": [
    "# create a df cleaner instance\n",
    "cleaner = dataCleaner(df)"
   ]
  },
  {
   "cell_type": "markdown",
   "metadata": {},
   "source": [
    "# EDA"
   ]
  },
  {
   "cell_type": "markdown",
   "metadata": {},
   "source": [
    "## User overview analysis part two"
   ]
  },
  {
   "cell_type": "markdown",
   "metadata": {},
   "source": [
    "### Outliers"
   ]
  },
  {
   "cell_type": "code",
   "execution_count": 9,
   "metadata": {},
   "outputs": [
    {
     "data": {
      "image/png": "[encoded data removed]",
      "text/plain": [
       "<Figure size 432x288 with 1 Axes>"
      ]
     },
     "metadata": {
      "needs_background": "light"
     },
     "output_type": "display_data"
    },
    {
     "data": {
      "image/png": "[encoded data removed]",
      "text/plain": [
       "<Figure size 432x288 with 1 Axes>"
      ]
     },
     "metadata": {
      "needs_background": "light"
     },
     "output_type": "display_data"
    },
    {
     "data": {
      "image/png": "[encoded data removed]",
      "text/plain": [
       "<Figure size 432x288 with 1 Axes>"
      ]
     },
     "metadata": {
      "needs_background": "light"
     },
     "output_type": "display_data"
    },
    {
     "data": {
      "image/png": "[encoded data removed]",
      "text/plain": [
       "<Figure size 432x288 with 1 Axes>"
      ]
     },
     "metadata": {
      "needs_background": "light"
     },
     "output_type": "display_data"
    },
    {
     "data": {
      "image/png": "[encoded data removed]",
      "text/plain": [
       "<Figure size 432x288 with 1 Axes>"
      ]
     },
     "metadata": {
      "needs_background": "light"
     },
     "output_type": "display_data"
    },
    {
     "data": {
      "image/png": "[encoded data removed]",
      "text/plain": [
       "<Figure size 432x288 with 1 Axes>"
      ]
     },
     "metadata": {
      "needs_background": "light"
     },
     "output_type": "display_data"
    },
    {
     "data": {
      "image/png": "[encoded data removed]",
      "text/plain": [
       "<Figure size 432x288 with 1 Axes>"
      ]
     },
     "metadata": {
      "needs_background": "light"
     },
     "output_type": "display_data"
    },
    {
     "data": {
      "image/png": "[encoded data removed]",
      "text/plain": [
       "<Figure size 432x288 with 1 Axes>"
      ]
     },
     "metadata": {
      "needs_background": "light"
     },
     "output_type": "display_data"
    },
    {
     "data": {
      "image/png": "[encoded data removed]",
      "text/plain": [
       "<Figure size 432x288 with 1 Axes>"
      ]
     },
     "metadata": {
      "needs_background": "light"
     },
     "output_type": "display_data"
    },
    {
     "data": {
      "image/png": "[encoded data removed]",
      "text/plain": [
       "<Figure size 432x288 with 1 Axes>"
      ]
     },
     "metadata": {
      "needs_background": "light"
     },
     "output_type": "display_data"
    },
    {
     "data": {
      "image/png": "[encoded data removed]",
      "text/plain": [
       "<Figure size 432x288 with 1 Axes>"
      ]
     },
     "metadata": {
      "needs_background": "light"
     },
     "output_type": "display_data"
    },
    {
     "data": {
      "image/png": "[encoded data removed]",
      "text/plain": [
       "<Figure size 432x288 with 1 Axes>"
      ]
     },
     "metadata": {
      "needs_background": "light"
     },
     "output_type": "display_data"
    },
    {
     "data": {
      "image/png": "[encoded data removed]",
      "text/plain": [
       "<Figure size 432x288 with 1 Axes>"
      ]
     },
     "metadata": {
      "needs_background": "light"
     },
     "output_type": "display_data"
    },
    {
     "data": {
      "image/png": "[encoded data removed]",
      "text/plain": [
       "<Figure size 432x288 with 1 Axes>"
      ]
     },
     "metadata": {
      "needs_background": "light"
     },
     "output_type": "display_data"
    },
    {
     "data": {
      "image/png": "[encoded data removed]",
      "text/plain": [
       "<Figure size 432x288 with 1 Axes>"
      ]
     },
     "metadata": {
      "needs_background": "light"
     },
     "output_type": "display_data"
    },
    {
     "data": {
      "image/png": "[encoded data removed]",
      "text/plain": [
       "<Figure size 432x288 with 1 Axes>"
      ]
     },
     "metadata": {
      "needs_background": "light"
     },
     "output_type": "display_data"
    },
    {
     "data": {
      "image/png": "[encoded data removed]",
      "text/plain": [
       "<Figure size 432x288 with 1 Axes>"
      ]
     },
     "metadata": {
      "needs_background": "light"
     },
     "output_type": "display_data"
    },
    {
     "data": {
      "image/png": "[encoded data removed]",
      "text/plain": [
       "<Figure size 432x288 with 1 Axes>"
      ]
     },
     "metadata": {
      "needs_background": "light"
     },
     "output_type": "display_data"
    },
    {
     "data": {
      "image/png": "[encoded data removed]",
      "text/plain": [
       "<Figure size 432x288 with 1 Axes>"
      ]
     },
     "metadata": {
      "needs_background": "light"
     },
     "output_type": "display_data"
    },
    {
     "data": {
      "image/png": "[encoded data removed]",
      "text/plain": [
       "<Figure size 432x288 with 1 Axes>"
      ]
     },
     "metadata": {
      "needs_background": "light"
     },
     "output_type": "display_data"
    },
    {
     "data": {
      "image/png": "[encoded data removed]",
      "text/plain": [
       "<Figure size 432x288 with 1 Axes>"
      ]
     },
     "metadata": {
      "needs_background": "light"
     },
     "output_type": "display_data"
    },
    {
     "data": {
      "image/png": "[encoded data removed]",
      "text/plain": [
       "<Figure size 432x288 with 1 Axes>"
      ]
     },
     "metadata": {
      "needs_background": "light"
     },
     "output_type": "display_data"
    },
    {
     "data": {
      "image/png": "[encoded data removed]",
      "text/plain": [
       "<Figure size 432x288 with 1 Axes>"
      ]
     },
     "metadata": {
      "needs_background": "light"
     },
     "output_type": "display_data"
    },
    {
     "data": {
      "image/png": "[encoded data removed]",
      "text/plain": [
       "<Figure size 432x288 with 1 Axes>"
      ]
     },
     "metadata": {
      "needs_background": "light"
     },
     "output_type": "display_data"
    },
    {
     "data": {
      "image/png": "[encoded data removed]",
      "text/plain": [
       "<Figure size 432x288 with 1 Axes>"
      ]
     },
     "metadata": {
      "needs_background": "light"
     },
     "output_type": "display_data"
    }
   ],
   "source": [
    "# features to check for outliers, my selected relevant featues\n",
    "relevant_features = ['Dur. (ms)', 'Activity Duration DL (ms)', 'Activity Duration UL (ms)', 'Social Media DL (Bytes)', 'Social Media UL (Bytes)', 'Google DL (Bytes)', 'Google UL (Bytes)', 'Email DL (Bytes)', 'Email UL (Bytes)', 'Youtube DL (Bytes)', 'Youtube UL (Bytes)', 'Netflix DL (Bytes)', 'Netflix UL (Bytes)', 'Gaming DL (Bytes)', 'Gaming UL (Bytes)', 'Other DL (Bytes)', 'Other UL (Bytes)', 'Total UL (Bytes)', 'Total DL (Bytes)', 'total_google', 'total_email', 'total_gaming', 'total_youtube', 'total_netflix', 'total_social']\n",
    "\n",
    "for features in relevant_features:\n",
    "    plt.figure()\n",
    "    df.boxplot([features])"
   ]
  },
  {
   "cell_type": "markdown",
   "metadata": {},
   "source": [
    "* outlier observations\n",
    "\n",
    "Duration in ms, activity duration ul, activity duration dl, and total ul data features have high degree of outliers and variance"
   ]
  },
  {
   "cell_type": "markdown",
   "metadata": {},
   "source": [
    "### Basic Metrics"
   ]
  },
  {
   "cell_type": "markdown",
   "metadata": {},
   "source": [
    "* Analyze the basic metrics (mean, median, etc) in the Dataset"
   ]
  },
  {
   "cell_type": "code",
   "execution_count": 40,
   "metadata": {},
   "outputs": [
    {
     "name": "stdout",
     "output_type": "stream",
     "text": [
      "Mean\n",
      " Dur. (ms)                    1.046086e+05\n",
      "Activity Duration DL (ms)    1.829177e+06\n",
      "Activity Duration UL (ms)    1.408880e+06\n",
      "Social Media DL (Bytes)      1.795322e+06\n",
      "Social Media UL (Bytes)      3.292843e+04\n",
      "Google DL (Bytes)            5.750753e+06\n",
      "Google UL (Bytes)            2.056542e+06\n",
      "Email DL (Bytes)             1.791729e+06\n",
      "Email UL (Bytes)             4.673734e+05\n",
      "Youtube DL (Bytes)           1.163407e+07\n",
      "Youtube UL (Bytes)           1.100941e+07\n",
      "Netflix DL (Bytes)           1.162685e+07\n",
      "Netflix UL (Bytes)           1.100175e+07\n",
      "Gaming DL (Bytes)            4.220447e+08\n",
      "Gaming UL (Bytes)            8.288398e+06\n",
      "Other DL (Bytes)             4.211005e+08\n",
      "Other UL (Bytes)             8.264799e+06\n",
      "Total UL (Bytes)             4.112121e+07\n",
      "Total DL (Bytes)             4.546434e+08\n",
      "total_google                 7.807295e+06\n",
      "total_email                  7.807295e+06\n",
      "total_gaming                 7.807295e+06\n",
      "total_youtube                7.807295e+06\n",
      "total_netflix                7.807295e+06\n",
      "total_social                 7.807295e+06\n",
      "dtype: float64 \n",
      "\n",
      "Median\n",
      " Dur. (ms)                        86399.0\n",
      "Activity Duration DL (ms)        39304.5\n",
      "Activity Duration UL (ms)        46793.5\n",
      "Social Media DL (Bytes)        1794351.0\n",
      "Social Media UL (Bytes)          32920.0\n",
      "Google DL (Bytes)              5765857.0\n",
      "Google UL (Bytes)              2054569.0\n",
      "Email DL (Bytes)               1793534.0\n",
      "Email UL (Bytes)                466246.0\n",
      "Youtube DL (Bytes)            11616007.5\n",
      "Youtube UL (Bytes)            11013478.5\n",
      "Netflix DL (Bytes)            11642220.0\n",
      "Netflix UL (Bytes)            10996306.0\n",
      "Gaming DL (Bytes)            423408228.0\n",
      "Gaming UL (Bytes)              8291215.0\n",
      "Other DL (Bytes)             421805747.5\n",
      "Other UL (Bytes)               8267086.5\n",
      "Total UL (Bytes)              41143312.0\n",
      "Total DL (Bytes)             455841077.5\n",
      "total_google                   7812852.5\n",
      "total_email                    7812852.5\n",
      "total_gaming                   7812852.5\n",
      "total_youtube                  7812852.5\n",
      "total_netflix                  7812852.5\n",
      "total_social                   7812852.5\n",
      "dtype: float64 \n",
      "\n",
      "Mode\n",
      " Dur. (ms)                       86399.0\n",
      "Activity Duration DL (ms)           0.0\n",
      "Activity Duration UL (ms)           0.0\n",
      "Social Media DL (Bytes)        152013.0\n",
      "Social Media UL (Bytes)         30810.0\n",
      "Google DL (Bytes)             3991481.0\n",
      "Google UL (Bytes)             3426526.0\n",
      "Email DL (Bytes)              1829513.0\n",
      "Email UL (Bytes)                53137.0\n",
      "Youtube DL (Bytes)           18869169.0\n",
      "Youtube UL (Bytes)            3398443.0\n",
      "Netflix DL (Bytes)            2097111.0\n",
      "Netflix UL (Bytes)            1751610.0\n",
      "Gaming DL (Bytes)            88731721.0\n",
      "Gaming UL (Bytes)            15304673.0\n",
      "Other DL (Bytes)             28616268.0\n",
      "Other UL (Bytes)              4514572.0\n",
      "Total UL (Bytes)             19362459.0\n",
      "Total DL (Bytes)             74126119.0\n",
      "total_google                  5240092.0\n",
      "total_email                   5240092.0\n",
      "total_gaming                  5240092.0\n",
      "total_youtube                 5240092.0\n",
      "total_netflix                 5240092.0\n",
      "total_social                  5240092.0\n",
      "dtype: float64 \n",
      "\n",
      "Highest\n",
      " Dur. (ms)                      1859336.0\n",
      "Activity Duration DL (ms)    136536461.0\n",
      "Activity Duration UL (ms)    144911293.0\n",
      "Social Media DL (Bytes)        3586064.0\n",
      "Social Media UL (Bytes)          65870.0\n",
      "Google DL (Bytes)             11462832.0\n",
      "Google UL (Bytes)              4121357.0\n",
      "Email DL (Bytes)               3586146.0\n",
      "Email UL (Bytes)                936418.0\n",
      "Youtube DL (Bytes)            23259098.0\n",
      "Youtube UL (Bytes)            22011962.0\n",
      "Netflix DL (Bytes)            23259189.0\n",
      "Netflix UL (Bytes)            22011955.0\n",
      "Gaming DL (Bytes)            843441889.0\n",
      "Gaming UL (Bytes)             16558794.0\n",
      "Other DL (Bytes)             843442489.0\n",
      "Other UL (Bytes)              16558816.0\n",
      "Total UL (Bytes)              78331311.0\n",
      "Total DL (Bytes)             902969616.0\n",
      "total_google                  15528782.0\n",
      "total_email                   15528782.0\n",
      "total_gaming                  15528782.0\n",
      "total_youtube                 15528782.0\n",
      "total_netflix                 15528782.0\n",
      "total_social                  15528782.0\n",
      "dtype: float64 \n",
      "\n",
      "lowest\n",
      " Dur. (ms)                       7142.0\n",
      "Activity Duration DL (ms)          0.0\n",
      "Activity Duration UL (ms)          0.0\n",
      "Social Media DL (Bytes)           12.0\n",
      "Social Media UL (Bytes)            0.0\n",
      "Google DL (Bytes)                207.0\n",
      "Google UL (Bytes)                  3.0\n",
      "Email DL (Bytes)                  14.0\n",
      "Email UL (Bytes)                   2.0\n",
      "Youtube DL (Bytes)                53.0\n",
      "Youtube UL (Bytes)               105.0\n",
      "Netflix DL (Bytes)                42.0\n",
      "Netflix UL (Bytes)                35.0\n",
      "Gaming DL (Bytes)               2516.0\n",
      "Gaming UL (Bytes)                 59.0\n",
      "Other DL (Bytes)                3290.0\n",
      "Other UL (Bytes)                 148.0\n",
      "Total UL (Bytes)             2866892.0\n",
      "Total DL (Bytes)             7114041.0\n",
      "total_google                   40330.0\n",
      "total_email                    40330.0\n",
      "total_gaming                   40330.0\n",
      "total_youtube                  40330.0\n",
      "total_netflix                  40330.0\n",
      "total_social                   40330.0\n",
      "dtype: float64 \n",
      "\n"
     ]
    }
   ],
   "source": [
    "# basic metrics\n",
    "print(\"Mean\\n\", df[relevant_features].mean(), '\\n')\n",
    "print(\"Median\\n\", df[relevant_features].median(), '\\n')\n",
    "\n",
    "mode_series = pd.Series(df[relevant_features].mode().values[0], index=relevant_features)\n",
    "print(\"Mode\\n\", mode_series, '\\n')\n",
    "\n",
    "print(\"Highest\\n\", df[relevant_features].max(), '\\n')\n",
    "print(\"lowest\\n\", df[relevant_features].min(), '\\n')"
   ]
  },
  {
   "cell_type": "markdown",
   "metadata": {},
   "source": [
    "### Non-Graphical Univariate Analysis"
   ]
  },
  {
   "cell_type": "code",
   "execution_count": null,
   "metadata": {},
   "outputs": [],
   "source": []
  },
  {
   "cell_type": "code",
   "execution_count": null,
   "metadata": {},
   "outputs": [],
   "source": []
  },
  {
   "cell_type": "markdown",
   "metadata": {},
   "source": [
    "### Graphical Univariate Analysis"
   ]
  },
  {
   "cell_type": "code",
   "execution_count": null,
   "metadata": {},
   "outputs": [],
   "source": [
    "# df['IMEI'].hist()"
   ]
  },
  {
   "cell_type": "code",
   "execution_count": 8,
   "metadata": {},
   "outputs": [],
   "source": [
    "# sns.displot(data = df, x =df['IMEI'])"
   ]
  },
  {
   "cell_type": "markdown",
   "metadata": {},
   "source": [
    "### Bi-variate Analysis"
   ]
  },
  {
   "cell_type": "code",
   "execution_count": null,
   "metadata": {},
   "outputs": [],
   "source": []
  },
  {
   "cell_type": "code",
   "execution_count": null,
   "metadata": {},
   "outputs": [],
   "source": []
  },
  {
   "cell_type": "markdown",
   "metadata": {},
   "source": [
    "### Variable transformations"
   ]
  },
  {
   "cell_type": "code",
   "execution_count": null,
   "metadata": {},
   "outputs": [],
   "source": []
  },
  {
   "cell_type": "code",
   "execution_count": null,
   "metadata": {},
   "outputs": [],
   "source": []
  },
  {
   "cell_type": "markdown",
   "metadata": {},
   "source": [
    "### Correlation Analysis"
   ]
  },
  {
   "cell_type": "code",
   "execution_count": null,
   "metadata": {},
   "outputs": [],
   "source": []
  },
  {
   "cell_type": "code",
   "execution_count": null,
   "metadata": {},
   "outputs": [],
   "source": []
  },
  {
   "cell_type": "markdown",
   "metadata": {},
   "source": [
    "### Dimensionality Reduction"
   ]
  },
  {
   "cell_type": "code",
   "execution_count": null,
   "metadata": {},
   "outputs": [],
   "source": []
  },
  {
   "cell_type": "code",
   "execution_count": null,
   "metadata": {},
   "outputs": [],
   "source": []
  }
 ],
 "metadata": {
  "kernelspec": {
   "display_name": "Python 3.10.4 64-bit",
   "language": "python",
   "name": "python3"
  },
  "language_info": {
   "codemirror_mode": {
    "name": "ipython",
    "version": 3
   },
   "file_extension": ".py",
   "mimetype": "text/x-python",
   "name": "python",
   "nbconvert_exporter": "python",
   "pygments_lexer": "ipython3",
   "version": "3.10.4"
  },
  "orig_nbformat": 4,
  "vscode": {
   "interpreter": {
    "hash": "916dbcbb3f70747c44a77c7bcd40155683ae19c65e1c03b4aa3499c5328201f1"
   }
  }
 },
 "nbformat": 4,
 "nbformat_minor": 2
}
